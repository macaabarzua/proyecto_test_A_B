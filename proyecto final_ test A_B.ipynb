{
 "cells": [
  {
   "cell_type": "markdown",
   "metadata": {},
   "source": [
    "Hola **Macarena**!\n",
    "\n",
    "Soy **Patricio Requena** 👋. Es un placer ser el revisor de tu proyecto el día de hoy!\n",
    "\n",
    "Revisaré tu proyecto detenidamente con el objetivo de ayudarte a mejorar y perfeccionar tus habilidades. Durante mi revisión, identificaré áreas donde puedas hacer mejoras en tu código, señalando específicamente qué y cómo podrías ajustar para optimizar el rendimiento y la claridad de tu proyecto. Además, es importante para mí destacar los aspectos que has manejado excepcionalmente bien. Reconocer tus fortalezas te ayudará a entender qué técnicas y métodos están funcionando a tu favor y cómo puedes aplicarlos en futuras tareas. \n",
    "\n",
    "_**Recuerda que al final de este notebook encontrarás un comentario general de mi parte**_, empecemos!\n",
    "\n",
    "Encontrarás mis comentarios dentro de cajas verdes, amarillas o rojas, ⚠️ **por favor, no muevas, modifiques o borres mis comentarios** ⚠️:\n",
    "\n",
    "\n",
    "<div class=\"alert alert-block alert-success\">\n",
    "<b>Comentario del revisor</b> <a class=“tocSkip”></a>\n",
    "Si todo está perfecto.\n",
    "</div>\n",
    "\n",
    "<div class=\"alert alert-block alert-warning\">\n",
    "<b>Comentario del revisor</b> <a class=“tocSkip”></a>\n",
    "Si tu código está bien pero se puede mejorar o hay algún detalle que le hace falta.\n",
    "</div>\n",
    "\n",
    "<div class=\"alert alert-block alert-danger\">\n",
    "<b>Comentario del revisor</b> <a class=“tocSkip”></a>\n",
    "Si de pronto hace falta algo o existe algún problema con tu código o conclusiones.\n",
    "</div>\n",
    "\n",
    "Puedes responderme de esta forma:\n",
    "<div class=\"alert alert-block alert-info\">\n",
    "<b>Respuesta del estudiante</b> <a class=“tocSkip”></a>\n",
    "</div>"
   ]
  },
  {
   "cell_type": "markdown",
   "metadata": {},
   "source": [
    "# Test A/B"
   ]
  },
  {
   "cell_type": "markdown",
   "metadata": {},
   "source": [
    "## Introducción"
   ]
  },
  {
   "cell_type": "markdown",
   "metadata": {},
   "source": [
    "Se contemplan datos de una tienda online internacional; en donde se realizó un test A/B pero inconcluso.\n",
    "El objetivo de esta prueba fue evaluar cambios relacionados con la introducción de un sistema de recomendaciones mejorado; se espera que dentro de 14 días posteriores a la inscripción, los usuarios mostrarán una mejor conversión en vistas de la página del producto (evento *product_page*), instancias de agregar artículos al carrito de compras (*product_card*) y compras (*purchase*). También, se busca que en cada etapa del embudo product_page → product_card → purchase, hubiera al menos un 10% de aumento.\n",
    "\n",
    "Por lo cual el objetivo de este proyecto es: analizar los datasets con los que se cuenta, y verificar si la prueba A/B se realizó correctamente, analizando sus resultados."
   ]
  },
  {
   "cell_type": "markdown",
   "metadata": {},
   "source": [
    "### Descripción técnica"
   ]
  },
  {
   "cell_type": "markdown",
   "metadata": {},
   "source": [
    "- Nombre de la prueba: recommender_system_test\n",
    "- Grupos: \n",
    "    - А (control) \n",
    "    - B (nuevo embudo de pago)\n",
    "- Fecha de lanzamiento: 2020-12-07\n",
    "- Fecha en la que dejaron de aceptar nuevos usuarios: 2020-12-21\n",
    "- Fecha de finalización: 2021-01-01\n",
    "- Audiencia: 15% de los nuevos usuarios de la región de la UE\n",
    "- Propósito de la prueba: probar cambios relacionados con la introducción de un sistema de recomendaciones mejorado\n",
    "- Resultado esperado: dentro de los 14 días posteriores a la inscripción, los usuarios mostrarán una mejor conversión en vistas de la página del producto (*product_page*), instancias de agregar artículos al carrito de compras (*product_cart*) y compras (*purchase*). En cada etapa del embudo product_page → product_cart → purchase, se espera al menos un 10% de aumento.\n",
    "- Número previsto de participantes de la prueba: 6 000"
   ]
  },
  {
   "cell_type": "markdown",
   "metadata": {},
   "source": [
    "## Descripción de los datos"
   ]
  },
  {
   "cell_type": "markdown",
   "metadata": {},
   "source": [
    "El dataset *ab_project_marketing_events_us.csv* contiene el calendario de eventos de marketing para 2020:\n",
    "- `name`: el nombre del evento de marketing\n",
    "- `regions`: regiones donde se llevará a cabo la campaña publicitaria\n",
    "- `start_dt`: fecha de inicio de la campaña\n",
    "- `finish_dt`: fecha de finalización de la campaña  \n",
    "\n",
    "Los datos en *final_ab_new_users_upd_us.csv* son todos los usuarios que se registraron en la tienda en línea desde el 7 hasta el 21 de diciembre de 2020:  \n",
    "- `user_id`: id del usuario\n",
    "- `first_date`: fecha de inscripción\n",
    "- `region`: región a la que pertenece el usuario\n",
    "- `device`: dispositivo utilizado para la inscripción  \n",
    "\n",
    "En *final_ab_events_upd_us.csv* se encuentran todos los eventos de los nuevos usuarios en el período comprendido entre el 7 de diciembre de 2020 y el 1 de enero de 2021:  \n",
    "- `user_id`: id del usuario\n",
    "- `event_dt`: fecha y hora del evento\n",
    "- `event_name`: nombre del tipo de evento\n",
    "- `details`: datos adicionales sobre el evento (por ejemplo, el pedido total en USD para los eventos `purchase`\n",
    "\n",
    "El último dataset *final_ab_participants_upd_us.csv* corresponde a una tabla con los datos de los participantes de la prueba:  \n",
    "- `user_id`: id del usuario\n",
    "- `ab_test`: nombre de la prueba\n",
    "- `group`: el grupo de prueba al que pertenecía el usuario"
   ]
  },
  {
   "cell_type": "markdown",
   "metadata": {},
   "source": [
    "<div class=\"alert alert-block alert-success\">\n",
    "<b>Comentario del revisor (1ra Iteracion)</b> <a class=“tocSkip”></a>\n",
    "\n",
    "Excelente esta introducción! Siempre procura incluir esto para que tu proyectos para que sea más claro el que y cómo de tu proyecto"
   ]
  },
  {
   "cell_type": "markdown",
   "metadata": {},
   "source": [
    "## Importar librerias"
   ]
  },
  {
   "cell_type": "code",
   "execution_count": 155,
   "metadata": {},
   "outputs": [],
   "source": [
    "import pandas as pd\n",
    "import numpy as np\n",
    "import matplotlib.pyplot as plt\n",
    "import seaborn as sns\n",
    "import scipy.stats as st\n",
    "import math as mth"
   ]
  },
  {
   "cell_type": "markdown",
   "metadata": {},
   "source": [
    "## Preparar los datos"
   ]
  },
  {
   "cell_type": "code",
   "execution_count": 49,
   "metadata": {},
   "outputs": [],
   "source": [
    "# Cargar datos\n",
    "marketing_events = pd.read_csv('/datasets/ab_project_marketing_events_us.csv')"
   ]
  },
  {
   "cell_type": "code",
   "execution_count": 50,
   "metadata": {},
   "outputs": [],
   "source": [
    "new_users = pd.read_csv('/datasets/final_ab_new_users_upd_us.csv')"
   ]
  },
  {
   "cell_type": "code",
   "execution_count": 51,
   "metadata": {},
   "outputs": [],
   "source": [
    "ab_events = pd.read_csv('/datasets/final_ab_events_upd_us.csv')"
   ]
  },
  {
   "cell_type": "code",
   "execution_count": 52,
   "metadata": {},
   "outputs": [],
   "source": [
    "ab_participants = pd.read_csv('/datasets/final_ab_participants_upd_us.csv')"
   ]
  },
  {
   "cell_type": "code",
   "execution_count": 53,
   "metadata": {},
   "outputs": [
    {
     "name": "stdout",
     "output_type": "stream",
     "text": [
      "<class 'pandas.core.frame.DataFrame'>\n",
      "RangeIndex: 14 entries, 0 to 13\n",
      "Data columns (total 4 columns):\n",
      " #   Column     Non-Null Count  Dtype \n",
      "---  ------     --------------  ----- \n",
      " 0   name       14 non-null     object\n",
      " 1   regions    14 non-null     object\n",
      " 2   start_dt   14 non-null     object\n",
      " 3   finish_dt  14 non-null     object\n",
      "dtypes: object(4)\n",
      "memory usage: 576.0+ bytes\n"
     ]
    }
   ],
   "source": [
    "# Calendario de markering\n",
    "marketing_events.info()"
   ]
  },
  {
   "cell_type": "markdown",
   "metadata": {},
   "source": [
    "No hay valores ausentes."
   ]
  },
  {
   "cell_type": "code",
   "execution_count": 54,
   "metadata": {},
   "outputs": [
    {
     "data": {
      "text/html": [
       "<div>\n",
       "<style scoped>\n",
       "    .dataframe tbody tr th:only-of-type {\n",
       "        vertical-align: middle;\n",
       "    }\n",
       "\n",
       "    .dataframe tbody tr th {\n",
       "        vertical-align: top;\n",
       "    }\n",
       "\n",
       "    .dataframe thead th {\n",
       "        text-align: right;\n",
       "    }\n",
       "</style>\n",
       "<table border=\"1\" class=\"dataframe\">\n",
       "  <thead>\n",
       "    <tr style=\"text-align: right;\">\n",
       "      <th></th>\n",
       "      <th>name</th>\n",
       "      <th>regions</th>\n",
       "      <th>start_dt</th>\n",
       "      <th>finish_dt</th>\n",
       "    </tr>\n",
       "  </thead>\n",
       "  <tbody>\n",
       "    <tr>\n",
       "      <th>0</th>\n",
       "      <td>Christmas&amp;New Year Promo</td>\n",
       "      <td>EU, N.America</td>\n",
       "      <td>2020-12-25</td>\n",
       "      <td>2021-01-03</td>\n",
       "    </tr>\n",
       "    <tr>\n",
       "      <th>1</th>\n",
       "      <td>St. Valentine's Day Giveaway</td>\n",
       "      <td>EU, CIS, APAC, N.America</td>\n",
       "      <td>2020-02-14</td>\n",
       "      <td>2020-02-16</td>\n",
       "    </tr>\n",
       "    <tr>\n",
       "      <th>2</th>\n",
       "      <td>St. Patric's Day Promo</td>\n",
       "      <td>EU, N.America</td>\n",
       "      <td>2020-03-17</td>\n",
       "      <td>2020-03-19</td>\n",
       "    </tr>\n",
       "    <tr>\n",
       "      <th>3</th>\n",
       "      <td>Easter Promo</td>\n",
       "      <td>EU, CIS, APAC, N.America</td>\n",
       "      <td>2020-04-12</td>\n",
       "      <td>2020-04-19</td>\n",
       "    </tr>\n",
       "    <tr>\n",
       "      <th>4</th>\n",
       "      <td>4th of July Promo</td>\n",
       "      <td>N.America</td>\n",
       "      <td>2020-07-04</td>\n",
       "      <td>2020-07-11</td>\n",
       "    </tr>\n",
       "  </tbody>\n",
       "</table>\n",
       "</div>"
      ],
      "text/plain": [
       "                           name                   regions    start_dt  \\\n",
       "0      Christmas&New Year Promo             EU, N.America  2020-12-25   \n",
       "1  St. Valentine's Day Giveaway  EU, CIS, APAC, N.America  2020-02-14   \n",
       "2        St. Patric's Day Promo             EU, N.America  2020-03-17   \n",
       "3                  Easter Promo  EU, CIS, APAC, N.America  2020-04-12   \n",
       "4             4th of July Promo                 N.America  2020-07-04   \n",
       "\n",
       "    finish_dt  \n",
       "0  2021-01-03  \n",
       "1  2020-02-16  \n",
       "2  2020-03-19  \n",
       "3  2020-04-19  \n",
       "4  2020-07-11  "
      ]
     },
     "execution_count": 54,
     "metadata": {},
     "output_type": "execute_result"
    }
   ],
   "source": [
    "marketing_events.head()"
   ]
  },
  {
   "cell_type": "markdown",
   "metadata": {},
   "source": [
    "Las columnas \"start_dt\" y \"finish_dt\" deberian ser de tipo datetime"
   ]
  },
  {
   "cell_type": "code",
   "execution_count": 55,
   "metadata": {},
   "outputs": [
    {
     "name": "stdout",
     "output_type": "stream",
     "text": [
      "Hay 0 valores duplicados\n"
     ]
    }
   ],
   "source": [
    "# Buscar duplicados explícitos\n",
    "print(f'Hay {marketing_events.duplicated().sum()} valores duplicados')"
   ]
  },
  {
   "cell_type": "code",
   "execution_count": 56,
   "metadata": {},
   "outputs": [],
   "source": [
    "# Cambiar columna 'start_dt' a formato datetime\n",
    "marketing_events['start_dt'] = marketing_events['start_dt'].astype('datetime64')"
   ]
  },
  {
   "cell_type": "code",
   "execution_count": 57,
   "metadata": {},
   "outputs": [],
   "source": [
    "# Cambiar columna 'finish_dt' a formato datetime\n",
    "marketing_events['finish_dt'] = marketing_events['finish_dt'].astype('datetime64')"
   ]
  },
  {
   "cell_type": "code",
   "execution_count": 58,
   "metadata": {},
   "outputs": [
    {
     "name": "stdout",
     "output_type": "stream",
     "text": [
      "<class 'pandas.core.frame.DataFrame'>\n",
      "RangeIndex: 58703 entries, 0 to 58702\n",
      "Data columns (total 4 columns):\n",
      " #   Column      Non-Null Count  Dtype \n",
      "---  ------      --------------  ----- \n",
      " 0   user_id     58703 non-null  object\n",
      " 1   first_date  58703 non-null  object\n",
      " 2   region      58703 non-null  object\n",
      " 3   device      58703 non-null  object\n",
      "dtypes: object(4)\n",
      "memory usage: 1.8+ MB\n"
     ]
    }
   ],
   "source": [
    "# Usuarios registrados\n",
    "new_users.info()"
   ]
  },
  {
   "cell_type": "markdown",
   "metadata": {},
   "source": [
    "No hay valores ausentes, y también deberá cambiarse a tipo de datos datetime la columna 'first_date'"
   ]
  },
  {
   "cell_type": "code",
   "execution_count": 59,
   "metadata": {},
   "outputs": [
    {
     "data": {
      "text/html": [
       "<div>\n",
       "<style scoped>\n",
       "    .dataframe tbody tr th:only-of-type {\n",
       "        vertical-align: middle;\n",
       "    }\n",
       "\n",
       "    .dataframe tbody tr th {\n",
       "        vertical-align: top;\n",
       "    }\n",
       "\n",
       "    .dataframe thead th {\n",
       "        text-align: right;\n",
       "    }\n",
       "</style>\n",
       "<table border=\"1\" class=\"dataframe\">\n",
       "  <thead>\n",
       "    <tr style=\"text-align: right;\">\n",
       "      <th></th>\n",
       "      <th>user_id</th>\n",
       "      <th>first_date</th>\n",
       "      <th>region</th>\n",
       "      <th>device</th>\n",
       "    </tr>\n",
       "  </thead>\n",
       "  <tbody>\n",
       "    <tr>\n",
       "      <th>0</th>\n",
       "      <td>D72A72121175D8BE</td>\n",
       "      <td>2020-12-07</td>\n",
       "      <td>EU</td>\n",
       "      <td>PC</td>\n",
       "    </tr>\n",
       "    <tr>\n",
       "      <th>1</th>\n",
       "      <td>F1C668619DFE6E65</td>\n",
       "      <td>2020-12-07</td>\n",
       "      <td>N.America</td>\n",
       "      <td>Android</td>\n",
       "    </tr>\n",
       "    <tr>\n",
       "      <th>2</th>\n",
       "      <td>2E1BF1D4C37EA01F</td>\n",
       "      <td>2020-12-07</td>\n",
       "      <td>EU</td>\n",
       "      <td>PC</td>\n",
       "    </tr>\n",
       "    <tr>\n",
       "      <th>3</th>\n",
       "      <td>50734A22C0C63768</td>\n",
       "      <td>2020-12-07</td>\n",
       "      <td>EU</td>\n",
       "      <td>iPhone</td>\n",
       "    </tr>\n",
       "    <tr>\n",
       "      <th>4</th>\n",
       "      <td>E1BDDCE0DAFA2679</td>\n",
       "      <td>2020-12-07</td>\n",
       "      <td>N.America</td>\n",
       "      <td>iPhone</td>\n",
       "    </tr>\n",
       "  </tbody>\n",
       "</table>\n",
       "</div>"
      ],
      "text/plain": [
       "            user_id  first_date     region   device\n",
       "0  D72A72121175D8BE  2020-12-07         EU       PC\n",
       "1  F1C668619DFE6E65  2020-12-07  N.America  Android\n",
       "2  2E1BF1D4C37EA01F  2020-12-07         EU       PC\n",
       "3  50734A22C0C63768  2020-12-07         EU   iPhone\n",
       "4  E1BDDCE0DAFA2679  2020-12-07  N.America   iPhone"
      ]
     },
     "execution_count": 59,
     "metadata": {},
     "output_type": "execute_result"
    }
   ],
   "source": [
    "new_users.head()"
   ]
  },
  {
   "cell_type": "code",
   "execution_count": 60,
   "metadata": {},
   "outputs": [
    {
     "name": "stdout",
     "output_type": "stream",
     "text": [
      "Hay 0 valores duplicados\n"
     ]
    }
   ],
   "source": [
    "# Buscar duplicados explícitos\n",
    "print(f'Hay {new_users.duplicated().sum()} valores duplicados')"
   ]
  },
  {
   "cell_type": "code",
   "execution_count": 61,
   "metadata": {},
   "outputs": [
    {
     "data": {
      "text/plain": [
       "0"
      ]
     },
     "execution_count": 61,
     "metadata": {},
     "output_type": "execute_result"
    }
   ],
   "source": [
    "# Verificar que no hay id duplicados\n",
    "new_users['user_id'].duplicated().sum()"
   ]
  },
  {
   "cell_type": "code",
   "execution_count": 62,
   "metadata": {},
   "outputs": [],
   "source": [
    "# Cambiar columna 'first_date' a formato datetime\n",
    "new_users['first_date'] = new_users['first_date'].astype('datetime64')\n",
    "new_users['first_date'] = new_users['first_date'].dt.date"
   ]
  },
  {
   "cell_type": "code",
   "execution_count": 63,
   "metadata": {},
   "outputs": [
    {
     "name": "stdout",
     "output_type": "stream",
     "text": [
      "<class 'pandas.core.frame.DataFrame'>\n",
      "RangeIndex: 423761 entries, 0 to 423760\n",
      "Data columns (total 4 columns):\n",
      " #   Column      Non-Null Count   Dtype  \n",
      "---  ------      --------------   -----  \n",
      " 0   user_id     423761 non-null  object \n",
      " 1   event_dt    423761 non-null  object \n",
      " 2   event_name  423761 non-null  object \n",
      " 3   details     60314 non-null   float64\n",
      "dtypes: float64(1), object(3)\n",
      "memory usage: 12.9+ MB\n"
     ]
    }
   ],
   "source": [
    "# Eventos de los nuevos usuarios\n",
    "ab_events.info()"
   ]
  },
  {
   "cell_type": "markdown",
   "metadata": {},
   "source": [
    "Hay 363447 datos ausentes en la columna 'details'; son datos adicionales sobre el evento."
   ]
  },
  {
   "cell_type": "code",
   "execution_count": 64,
   "metadata": {},
   "outputs": [
    {
     "data": {
      "text/html": [
       "<div>\n",
       "<style scoped>\n",
       "    .dataframe tbody tr th:only-of-type {\n",
       "        vertical-align: middle;\n",
       "    }\n",
       "\n",
       "    .dataframe tbody tr th {\n",
       "        vertical-align: top;\n",
       "    }\n",
       "\n",
       "    .dataframe thead th {\n",
       "        text-align: right;\n",
       "    }\n",
       "</style>\n",
       "<table border=\"1\" class=\"dataframe\">\n",
       "  <thead>\n",
       "    <tr style=\"text-align: right;\">\n",
       "      <th></th>\n",
       "      <th>user_id</th>\n",
       "      <th>event_dt</th>\n",
       "      <th>event_name</th>\n",
       "      <th>details</th>\n",
       "    </tr>\n",
       "  </thead>\n",
       "  <tbody>\n",
       "    <tr>\n",
       "      <th>234937</th>\n",
       "      <td>06955D5141A33F79</td>\n",
       "      <td>2020-12-27 16:49:16</td>\n",
       "      <td>product_page</td>\n",
       "      <td>NaN</td>\n",
       "    </tr>\n",
       "    <tr>\n",
       "      <th>323030</th>\n",
       "      <td>BAAC6E189373EF26</td>\n",
       "      <td>2020-12-17 00:17:52</td>\n",
       "      <td>login</td>\n",
       "      <td>NaN</td>\n",
       "    </tr>\n",
       "    <tr>\n",
       "      <th>300138</th>\n",
       "      <td>93FB45D6139C0D61</td>\n",
       "      <td>2020-12-15 01:17:56</td>\n",
       "      <td>login</td>\n",
       "      <td>NaN</td>\n",
       "    </tr>\n",
       "    <tr>\n",
       "      <th>254710</th>\n",
       "      <td>4DA7BE501EF8AD5C</td>\n",
       "      <td>2020-12-09 15:33:39</td>\n",
       "      <td>login</td>\n",
       "      <td>NaN</td>\n",
       "    </tr>\n",
       "    <tr>\n",
       "      <th>356859</th>\n",
       "      <td>5D09E0B6573A0DD1</td>\n",
       "      <td>2020-12-20 22:23:13</td>\n",
       "      <td>login</td>\n",
       "      <td>NaN</td>\n",
       "    </tr>\n",
       "  </tbody>\n",
       "</table>\n",
       "</div>"
      ],
      "text/plain": [
       "                 user_id             event_dt    event_name  details\n",
       "234937  06955D5141A33F79  2020-12-27 16:49:16  product_page      NaN\n",
       "323030  BAAC6E189373EF26  2020-12-17 00:17:52         login      NaN\n",
       "300138  93FB45D6139C0D61  2020-12-15 01:17:56         login      NaN\n",
       "254710  4DA7BE501EF8AD5C  2020-12-09 15:33:39         login      NaN\n",
       "356859  5D09E0B6573A0DD1  2020-12-20 22:23:13         login      NaN"
      ]
     },
     "execution_count": 64,
     "metadata": {},
     "output_type": "execute_result"
    }
   ],
   "source": [
    "ab_events.sample(5)"
   ]
  },
  {
   "cell_type": "markdown",
   "metadata": {},
   "source": [
    "Los valores ausentes de la coluna 'details' son los eventos que no corresponden a *\"purchase\"*, por lo que podrían reemplazarse con \"none\".  O; cambiar el nombre de la columna a \"purchase\" y dejar en 0 los valores ausentes.\n",
    "Además, se debe cambiar el tipo de dato de la columna 'event_dt'"
   ]
  },
  {
   "cell_type": "code",
   "execution_count": 65,
   "metadata": {},
   "outputs": [],
   "source": [
    "# Cambiar a formato datetime la columna 'event_dt'\n",
    "ab_events['event_dt'] = ab_events['event_dt'].astype('datetime64')"
   ]
  },
  {
   "cell_type": "code",
   "execution_count": 66,
   "metadata": {},
   "outputs": [
    {
     "data": {
      "text/plain": [
       "Series([], Name: details, dtype: int64)"
      ]
     },
     "execution_count": 66,
     "metadata": {},
     "output_type": "execute_result"
    }
   ],
   "source": [
    "# Hallar más eventos que contengan algún detalle fuera de los eventos \"purchase\"\n",
    "ab_events[ab_events['event_name'] != 'purchase']['details'].value_counts()"
   ]
  },
  {
   "cell_type": "code",
   "execution_count": 67,
   "metadata": {},
   "outputs": [],
   "source": [
    "# Renombrar la columna 'details'\n",
    "ab_events.rename(columns={'details':'purchase'}, inplace=True)"
   ]
  },
  {
   "cell_type": "code",
   "execution_count": 68,
   "metadata": {},
   "outputs": [],
   "source": [
    "# Reemplazar los valores ausentes en 'purchase' con 0\n",
    "ab_events.fillna(0, inplace=True)"
   ]
  },
  {
   "cell_type": "code",
   "execution_count": 69,
   "metadata": {},
   "outputs": [
    {
     "data": {
      "text/plain": [
       "'Hay 0 valores duplicados'"
      ]
     },
     "execution_count": 69,
     "metadata": {},
     "output_type": "execute_result"
    }
   ],
   "source": [
    "# Buscar duplicados explícitos\n",
    "f'Hay {ab_events.duplicated().sum()} valores duplicados'"
   ]
  },
  {
   "cell_type": "code",
   "execution_count": 70,
   "metadata": {},
   "outputs": [
    {
     "name": "stdout",
     "output_type": "stream",
     "text": [
      "<class 'pandas.core.frame.DataFrame'>\n",
      "RangeIndex: 14525 entries, 0 to 14524\n",
      "Data columns (total 3 columns):\n",
      " #   Column   Non-Null Count  Dtype \n",
      "---  ------   --------------  ----- \n",
      " 0   user_id  14525 non-null  object\n",
      " 1   group    14525 non-null  object\n",
      " 2   ab_test  14525 non-null  object\n",
      "dtypes: object(3)\n",
      "memory usage: 340.6+ KB\n"
     ]
    }
   ],
   "source": [
    "# Grupos de participantes\n",
    "ab_participants.info()"
   ]
  },
  {
   "cell_type": "markdown",
   "metadata": {},
   "source": [
    "No hay valores ausentes"
   ]
  },
  {
   "cell_type": "code",
   "execution_count": 71,
   "metadata": {},
   "outputs": [
    {
     "data": {
      "text/html": [
       "<div>\n",
       "<style scoped>\n",
       "    .dataframe tbody tr th:only-of-type {\n",
       "        vertical-align: middle;\n",
       "    }\n",
       "\n",
       "    .dataframe tbody tr th {\n",
       "        vertical-align: top;\n",
       "    }\n",
       "\n",
       "    .dataframe thead th {\n",
       "        text-align: right;\n",
       "    }\n",
       "</style>\n",
       "<table border=\"1\" class=\"dataframe\">\n",
       "  <thead>\n",
       "    <tr style=\"text-align: right;\">\n",
       "      <th></th>\n",
       "      <th>user_id</th>\n",
       "      <th>group</th>\n",
       "      <th>ab_test</th>\n",
       "    </tr>\n",
       "  </thead>\n",
       "  <tbody>\n",
       "    <tr>\n",
       "      <th>0</th>\n",
       "      <td>D1ABA3E2887B6A73</td>\n",
       "      <td>A</td>\n",
       "      <td>recommender_system_test</td>\n",
       "    </tr>\n",
       "    <tr>\n",
       "      <th>1</th>\n",
       "      <td>A7A3664BD6242119</td>\n",
       "      <td>A</td>\n",
       "      <td>recommender_system_test</td>\n",
       "    </tr>\n",
       "    <tr>\n",
       "      <th>2</th>\n",
       "      <td>DABC14FDDFADD29E</td>\n",
       "      <td>A</td>\n",
       "      <td>recommender_system_test</td>\n",
       "    </tr>\n",
       "    <tr>\n",
       "      <th>3</th>\n",
       "      <td>04988C5DF189632E</td>\n",
       "      <td>A</td>\n",
       "      <td>recommender_system_test</td>\n",
       "    </tr>\n",
       "    <tr>\n",
       "      <th>4</th>\n",
       "      <td>4FF2998A348C484F</td>\n",
       "      <td>A</td>\n",
       "      <td>recommender_system_test</td>\n",
       "    </tr>\n",
       "  </tbody>\n",
       "</table>\n",
       "</div>"
      ],
      "text/plain": [
       "            user_id group                  ab_test\n",
       "0  D1ABA3E2887B6A73     A  recommender_system_test\n",
       "1  A7A3664BD6242119     A  recommender_system_test\n",
       "2  DABC14FDDFADD29E     A  recommender_system_test\n",
       "3  04988C5DF189632E     A  recommender_system_test\n",
       "4  4FF2998A348C484F     A  recommender_system_test"
      ]
     },
     "execution_count": 71,
     "metadata": {},
     "output_type": "execute_result"
    }
   ],
   "source": [
    "ab_participants.head()"
   ]
  },
  {
   "cell_type": "code",
   "execution_count": 72,
   "metadata": {},
   "outputs": [
    {
     "data": {
      "text/plain": [
       "'Hay 0 valores duplicados'"
      ]
     },
     "execution_count": 72,
     "metadata": {},
     "output_type": "execute_result"
    }
   ],
   "source": [
    "f'Hay {ab_participants.duplicated().sum()} valores duplicados'"
   ]
  },
  {
   "cell_type": "code",
   "execution_count": 73,
   "metadata": {},
   "outputs": [
    {
     "data": {
      "text/plain": [
       "887"
      ]
     },
     "execution_count": 73,
     "metadata": {},
     "output_type": "execute_result"
    }
   ],
   "source": [
    "# Verificar que no hay id duplicados\n",
    "ab_participants['user_id'].duplicated().sum()"
   ]
  },
  {
   "cell_type": "markdown",
   "metadata": {},
   "source": [
    "Si hay usuarios en ambos grupos deberian eliminarse, pues reducen la validez de la prueba."
   ]
  },
  {
   "cell_type": "code",
   "execution_count": 74,
   "metadata": {},
   "outputs": [
    {
     "data": {
      "text/plain": [
       "0        D1ABA3E2887B6A73\n",
       "1        A7A3664BD6242119\n",
       "2        DABC14FDDFADD29E\n",
       "3        04988C5DF189632E\n",
       "4        4FF2998A348C484F\n",
       "               ...       \n",
       "14520    1D302F8688B91781\n",
       "14521    3DE51B726983B657\n",
       "14522    F501F79D332BE86C\n",
       "14523    63FBE257B05F2245\n",
       "14524    79F9ABFB029CF724\n",
       "Name: user_id, Length: 13638, dtype: object"
      ]
     },
     "execution_count": 74,
     "metadata": {},
     "output_type": "execute_result"
    }
   ],
   "source": [
    "# Eliminar usuarios duplicados, que pueden estar en ambos grupos\n",
    "ab_participants['user_id'].drop_duplicates()"
   ]
  },
  {
   "cell_type": "markdown",
   "metadata": {},
   "source": [
    "<div class=\"alert alert-block alert-success\">\n",
    "<b>Comentario del revisor (1ra Iteracion)</b> <a class=“tocSkip”></a>\n",
    "\n",
    "Muy buen trabajo con la transformación de datos y la exploración inicial de los mismos, un dataset limpio es clave para una buena toma de decisiones en un experimento.\n",
    "</div>"
   ]
  },
  {
   "cell_type": "markdown",
   "metadata": {},
   "source": [
    "## Análisis exploratorio de datos"
   ]
  },
  {
   "cell_type": "code",
   "execution_count": 75,
   "metadata": {},
   "outputs": [
    {
     "data": {
      "text/plain": [
       "array(['Christmas&New Year Promo', \"St. Valentine's Day Giveaway\",\n",
       "       \"St. Patric's Day Promo\", 'Easter Promo', '4th of July Promo',\n",
       "       'Black Friday Ads Campaign', 'Chinese New Year Promo',\n",
       "       'Labor day (May 1st) Ads Campaign',\n",
       "       \"International Women's Day Promo\",\n",
       "       'Victory Day CIS (May 9th) Event', 'CIS New Year Gift Lottery',\n",
       "       'Dragon Boat Festival Giveaway', \"Single's Day Gift Promo\",\n",
       "       'Chinese Moon Festival'], dtype=object)"
      ]
     },
     "execution_count": 75,
     "metadata": {},
     "output_type": "execute_result"
    }
   ],
   "source": [
    "# Los diferentes eventos de marketing\n",
    "marketing_events['name'].unique()"
   ]
  },
  {
   "cell_type": "code",
   "execution_count": 76,
   "metadata": {},
   "outputs": [
    {
     "data": {
      "text/html": [
       "<div>\n",
       "<style scoped>\n",
       "    .dataframe tbody tr th:only-of-type {\n",
       "        vertical-align: middle;\n",
       "    }\n",
       "\n",
       "    .dataframe tbody tr th {\n",
       "        vertical-align: top;\n",
       "    }\n",
       "\n",
       "    .dataframe thead th {\n",
       "        text-align: right;\n",
       "    }\n",
       "</style>\n",
       "<table border=\"1\" class=\"dataframe\">\n",
       "  <thead>\n",
       "    <tr style=\"text-align: right;\">\n",
       "      <th></th>\n",
       "      <th>name</th>\n",
       "      <th>regions</th>\n",
       "      <th>start_dt</th>\n",
       "      <th>finish_dt</th>\n",
       "    </tr>\n",
       "  </thead>\n",
       "  <tbody>\n",
       "    <tr>\n",
       "      <th>0</th>\n",
       "      <td>Christmas&amp;New Year Promo</td>\n",
       "      <td>EU, N.America</td>\n",
       "      <td>2020-12-25</td>\n",
       "      <td>2021-01-03</td>\n",
       "    </tr>\n",
       "    <tr>\n",
       "      <th>10</th>\n",
       "      <td>CIS New Year Gift Lottery</td>\n",
       "      <td>CIS</td>\n",
       "      <td>2020-12-30</td>\n",
       "      <td>2021-01-07</td>\n",
       "    </tr>\n",
       "  </tbody>\n",
       "</table>\n",
       "</div>"
      ],
      "text/plain": [
       "                         name        regions   start_dt  finish_dt\n",
       "0    Christmas&New Year Promo  EU, N.America 2020-12-25 2021-01-03\n",
       "10  CIS New Year Gift Lottery            CIS 2020-12-30 2021-01-07"
      ]
     },
     "execution_count": 76,
     "metadata": {},
     "output_type": "execute_result"
    }
   ],
   "source": [
    "# Eventos de Diciembre\n",
    "marketing_events.query('start_dt >= \"2020-12-01\"')"
   ]
  },
  {
   "cell_type": "markdown",
   "metadata": {},
   "source": [
    "Durante estos eventos es posible que aumenten las compras y/o visitas de los usuarios a la web."
   ]
  },
  {
   "cell_type": "code",
   "execution_count": 77,
   "metadata": {},
   "outputs": [
    {
     "data": {
      "text/html": [
       "<div>\n",
       "<style scoped>\n",
       "    .dataframe tbody tr th:only-of-type {\n",
       "        vertical-align: middle;\n",
       "    }\n",
       "\n",
       "    .dataframe tbody tr th {\n",
       "        vertical-align: top;\n",
       "    }\n",
       "\n",
       "    .dataframe thead th {\n",
       "        text-align: right;\n",
       "    }\n",
       "</style>\n",
       "<table border=\"1\" class=\"dataframe\">\n",
       "  <thead>\n",
       "    <tr style=\"text-align: right;\">\n",
       "      <th></th>\n",
       "      <th>first_date</th>\n",
       "      <th>user_id</th>\n",
       "    </tr>\n",
       "  </thead>\n",
       "  <tbody>\n",
       "    <tr>\n",
       "      <th>14</th>\n",
       "      <td>2020-12-21</td>\n",
       "      <td>6077</td>\n",
       "    </tr>\n",
       "    <tr>\n",
       "      <th>7</th>\n",
       "      <td>2020-12-14</td>\n",
       "      <td>5448</td>\n",
       "    </tr>\n",
       "    <tr>\n",
       "      <th>0</th>\n",
       "      <td>2020-12-07</td>\n",
       "      <td>5291</td>\n",
       "    </tr>\n",
       "    <tr>\n",
       "      <th>6</th>\n",
       "      <td>2020-12-13</td>\n",
       "      <td>4181</td>\n",
       "    </tr>\n",
       "    <tr>\n",
       "      <th>13</th>\n",
       "      <td>2020-12-20</td>\n",
       "      <td>4140</td>\n",
       "    </tr>\n",
       "    <tr>\n",
       "      <th>5</th>\n",
       "      <td>2020-12-12</td>\n",
       "      <td>3591</td>\n",
       "    </tr>\n",
       "    <tr>\n",
       "      <th>12</th>\n",
       "      <td>2020-12-19</td>\n",
       "      <td>3480</td>\n",
       "    </tr>\n",
       "    <tr>\n",
       "      <th>11</th>\n",
       "      <td>2020-12-18</td>\n",
       "      <td>3238</td>\n",
       "    </tr>\n",
       "    <tr>\n",
       "      <th>15</th>\n",
       "      <td>2020-12-22</td>\n",
       "      <td>3083</td>\n",
       "    </tr>\n",
       "    <tr>\n",
       "      <th>1</th>\n",
       "      <td>2020-12-08</td>\n",
       "      <td>3017</td>\n",
       "    </tr>\n",
       "    <tr>\n",
       "      <th>10</th>\n",
       "      <td>2020-12-17</td>\n",
       "      <td>2940</td>\n",
       "    </tr>\n",
       "    <tr>\n",
       "      <th>8</th>\n",
       "      <td>2020-12-15</td>\n",
       "      <td>2924</td>\n",
       "    </tr>\n",
       "    <tr>\n",
       "      <th>3</th>\n",
       "      <td>2020-12-10</td>\n",
       "      <td>2784</td>\n",
       "    </tr>\n",
       "    <tr>\n",
       "      <th>4</th>\n",
       "      <td>2020-12-11</td>\n",
       "      <td>2226</td>\n",
       "    </tr>\n",
       "    <tr>\n",
       "      <th>16</th>\n",
       "      <td>2020-12-23</td>\n",
       "      <td>2180</td>\n",
       "    </tr>\n",
       "    <tr>\n",
       "      <th>9</th>\n",
       "      <td>2020-12-16</td>\n",
       "      <td>2093</td>\n",
       "    </tr>\n",
       "    <tr>\n",
       "      <th>2</th>\n",
       "      <td>2020-12-09</td>\n",
       "      <td>2010</td>\n",
       "    </tr>\n",
       "  </tbody>\n",
       "</table>\n",
       "</div>"
      ],
      "text/plain": [
       "    first_date  user_id\n",
       "14  2020-12-21     6077\n",
       "7   2020-12-14     5448\n",
       "0   2020-12-07     5291\n",
       "6   2020-12-13     4181\n",
       "13  2020-12-20     4140\n",
       "5   2020-12-12     3591\n",
       "12  2020-12-19     3480\n",
       "11  2020-12-18     3238\n",
       "15  2020-12-22     3083\n",
       "1   2020-12-08     3017\n",
       "10  2020-12-17     2940\n",
       "8   2020-12-15     2924\n",
       "3   2020-12-10     2784\n",
       "4   2020-12-11     2226\n",
       "16  2020-12-23     2180\n",
       "9   2020-12-16     2093\n",
       "2   2020-12-09     2010"
      ]
     },
     "execution_count": 77,
     "metadata": {},
     "output_type": "execute_result"
    }
   ],
   "source": [
    "# Fecha de inscripción con mayor registro de usuarios\n",
    "registration_date = new_users.groupby('first_date', as_index=False)['user_id'].count()\n",
    "registration_date.sort_values(by='user_id', ascending=False)"
   ]
  },
  {
   "cell_type": "code",
   "execution_count": 78,
   "metadata": {},
   "outputs": [
    {
     "data": {
      "image/png": "[encoded data removed]",
      "text/plain": [
       "<Figure size 640x480 with 1 Axes>"
      ]
     },
     "metadata": {},
     "output_type": "display_data"
    }
   ],
   "source": [
    "sns.barplot(data=registration_date, x='first_date', y='user_id')\n",
    "plt.xticks(rotation=45)\n",
    "plt.show()"
   ]
  },
  {
   "cell_type": "markdown",
   "metadata": {},
   "source": [
    " Existen 3 días peaks con registro de más de 5000 usuarios; el 07, 13 y 20 de Diciembre, quizá son días de fd semana, en donde hay mayor cantidad de visitas a la pág."
   ]
  },
  {
   "cell_type": "markdown",
   "metadata": {},
   "source": [
    "### Embudo de eventos"
   ]
  },
  {
   "cell_type": "code",
   "execution_count": 79,
   "metadata": {},
   "outputs": [
    {
     "data": {
      "text/plain": [
       "login           182465\n",
       "product_page    120862\n",
       "purchase         60314\n",
       "product_cart     60120\n",
       "Name: event_name, dtype: int64"
      ]
     },
     "execution_count": 79,
     "metadata": {},
     "output_type": "execute_result"
    }
   ],
   "source": [
    "# Frecuencia de suceso de cada evento\n",
    "ab_events['event_name'].value_counts()"
   ]
  },
  {
   "cell_type": "code",
   "execution_count": 80,
   "metadata": {},
   "outputs": [
    {
     "data": {
      "text/plain": [
       "login           0.430585\n",
       "product_page    0.285213\n",
       "purchase        0.142330\n",
       "product_cart    0.141872\n",
       "Name: event_name, dtype: float64"
      ]
     },
     "execution_count": 80,
     "metadata": {},
     "output_type": "execute_result"
    }
   ],
   "source": [
    "# Frecuencia relativa de cada evento\n",
    "ab_events['event_name'].value_counts(normalize=True)"
   ]
  },
  {
   "cell_type": "code",
   "execution_count": 81,
   "metadata": {},
   "outputs": [
    {
     "data": {
      "text/html": [
       "<div>\n",
       "<style scoped>\n",
       "    .dataframe tbody tr th:only-of-type {\n",
       "        vertical-align: middle;\n",
       "    }\n",
       "\n",
       "    .dataframe tbody tr th {\n",
       "        vertical-align: top;\n",
       "    }\n",
       "\n",
       "    .dataframe thead th {\n",
       "        text-align: right;\n",
       "    }\n",
       "</style>\n",
       "<table border=\"1\" class=\"dataframe\">\n",
       "  <thead>\n",
       "    <tr style=\"text-align: right;\">\n",
       "      <th></th>\n",
       "      <th>event_name</th>\n",
       "      <th>user_id</th>\n",
       "    </tr>\n",
       "  </thead>\n",
       "  <tbody>\n",
       "    <tr>\n",
       "      <th>0</th>\n",
       "      <td>login</td>\n",
       "      <td>58696</td>\n",
       "    </tr>\n",
       "    <tr>\n",
       "      <th>1</th>\n",
       "      <td>product_page</td>\n",
       "      <td>38929</td>\n",
       "    </tr>\n",
       "    <tr>\n",
       "      <th>2</th>\n",
       "      <td>purchase</td>\n",
       "      <td>19568</td>\n",
       "    </tr>\n",
       "    <tr>\n",
       "      <th>3</th>\n",
       "      <td>product_cart</td>\n",
       "      <td>19284</td>\n",
       "    </tr>\n",
       "  </tbody>\n",
       "</table>\n",
       "</div>"
      ],
      "text/plain": [
       "     event_name  user_id\n",
       "0         login    58696\n",
       "1  product_page    38929\n",
       "2      purchase    19568\n",
       "3  product_cart    19284"
      ]
     },
     "execution_count": 81,
     "metadata": {},
     "output_type": "execute_result"
    }
   ],
   "source": [
    "# Embudo simple; usuarios únicos por cada evento\n",
    "users_count = ab_events.groupby('event_name').agg({'user_id':'nunique'}).sort_values(by='user_id', ascending=False).reset_index()\n",
    "users_count"
   ]
  },
  {
   "cell_type": "markdown",
   "metadata": {},
   "source": [
    "Según la cantidad de usuarios por evento; algunos no siguen el orden establecido (login -> product_page -> product_card -> purchase), lo cual nos indica que es posible que la pág permita realizar la compra de un producto directamente sin necesidad de \"añadirlo al carrito\" previamente."
   ]
  },
  {
   "cell_type": "code",
   "execution_count": 82,
   "metadata": {},
   "outputs": [
    {
     "data": {
      "text/html": [
       "<div>\n",
       "<style scoped>\n",
       "    .dataframe tbody tr th:only-of-type {\n",
       "        vertical-align: middle;\n",
       "    }\n",
       "\n",
       "    .dataframe tbody tr th {\n",
       "        vertical-align: top;\n",
       "    }\n",
       "\n",
       "    .dataframe thead th {\n",
       "        text-align: right;\n",
       "    }\n",
       "</style>\n",
       "<table border=\"1\" class=\"dataframe\">\n",
       "  <thead>\n",
       "    <tr style=\"text-align: right;\">\n",
       "      <th></th>\n",
       "      <th>event_name</th>\n",
       "      <th>user_id</th>\n",
       "      <th>conversion</th>\n",
       "    </tr>\n",
       "  </thead>\n",
       "  <tbody>\n",
       "    <tr>\n",
       "      <th>0</th>\n",
       "      <td>login</td>\n",
       "      <td>58696</td>\n",
       "      <td>1.000000</td>\n",
       "    </tr>\n",
       "    <tr>\n",
       "      <th>1</th>\n",
       "      <td>product_page</td>\n",
       "      <td>38929</td>\n",
       "      <td>0.663231</td>\n",
       "    </tr>\n",
       "    <tr>\n",
       "      <th>2</th>\n",
       "      <td>purchase</td>\n",
       "      <td>19568</td>\n",
       "      <td>0.502659</td>\n",
       "    </tr>\n",
       "    <tr>\n",
       "      <th>3</th>\n",
       "      <td>product_cart</td>\n",
       "      <td>19284</td>\n",
       "      <td>0.985487</td>\n",
       "    </tr>\n",
       "  </tbody>\n",
       "</table>\n",
       "</div>"
      ],
      "text/plain": [
       "     event_name  user_id  conversion\n",
       "0         login    58696    1.000000\n",
       "1  product_page    38929    0.663231\n",
       "2      purchase    19568    0.502659\n",
       "3  product_cart    19284    0.985487"
      ]
     },
     "execution_count": 82,
     "metadata": {},
     "output_type": "execute_result"
    }
   ],
   "source": [
    "# Tasa de conversión respecto a la etapa anterior\n",
    "users_count['conversion'] = users_count['user_id'].pct_change().fillna(0) + 1\n",
    "users_count"
   ]
  },
  {
   "cell_type": "markdown",
   "metadata": {},
   "source": [
    "<div class=\"alert alert-block alert-warning\">\n",
    "<b>Comentario del revisor (1ra Iteracion)</b> <a class=“tocSkip”></a>\n",
    "\n",
    "Si bien esto puede ayudar a ver la conversión en una etapa a otra sería bueno tambíen tener la conversión de cada evento respecto al evento de login, ya que esto ayuda a entender la conversión general del embudo y además, a estos valores también podrías ponerlos en una gráfica para que sea más fácil de entender el embudo que siguen los usuarios\n",
    "</div>"
   ]
  },
  {
   "cell_type": "code",
   "execution_count": 83,
   "metadata": {},
   "outputs": [
    {
     "data": {
      "text/plain": [
       "'0.3333787651628731 usuarios concretan un pago, desde su primer evento'"
      ]
     },
     "execution_count": 83,
     "metadata": {},
     "output_type": "execute_result"
    }
   ],
   "source": [
    "# Porcentaje de usuarios que realiza su primer evento y concreta un pago\n",
    "'{} usuarios concretan un pago, desde su primer evento'.format(\n",
    "    (users_count.loc[2, 'user_id'] / users_count.loc[0, 'user_id'])\n",
    ")"
   ]
  },
  {
   "cell_type": "code",
   "execution_count": 84,
   "metadata": {},
   "outputs": [
    {
     "data": {
      "text/html": [
       "<div>\n",
       "<style scoped>\n",
       "    .dataframe tbody tr th:only-of-type {\n",
       "        vertical-align: middle;\n",
       "    }\n",
       "\n",
       "    .dataframe tbody tr th {\n",
       "        vertical-align: top;\n",
       "    }\n",
       "\n",
       "    .dataframe thead th {\n",
       "        text-align: right;\n",
       "    }\n",
       "</style>\n",
       "<table border=\"1\" class=\"dataframe\">\n",
       "  <thead>\n",
       "    <tr style=\"text-align: right;\">\n",
       "      <th>event_name</th>\n",
       "      <th>login</th>\n",
       "      <th>product_cart</th>\n",
       "      <th>product_page</th>\n",
       "      <th>purchase</th>\n",
       "    </tr>\n",
       "    <tr>\n",
       "      <th>user_id</th>\n",
       "      <th></th>\n",
       "      <th></th>\n",
       "      <th></th>\n",
       "      <th></th>\n",
       "    </tr>\n",
       "  </thead>\n",
       "  <tbody>\n",
       "    <tr>\n",
       "      <th>0001710F4DDB1D1B</th>\n",
       "      <td>2020-12-14 20:20:40</td>\n",
       "      <td>2020-12-14 20:20:42</td>\n",
       "      <td>2020-12-14 20:20:41</td>\n",
       "      <td>NaT</td>\n",
       "    </tr>\n",
       "    <tr>\n",
       "      <th>000199F1887AE5E6</th>\n",
       "      <td>2020-12-14 09:56:09</td>\n",
       "      <td>2020-12-14 09:56:11</td>\n",
       "      <td>2020-12-14 09:56:09</td>\n",
       "      <td>2020-12-14 09:56:09</td>\n",
       "    </tr>\n",
       "    <tr>\n",
       "      <th>0002499E372175C7</th>\n",
       "      <td>2020-12-22 03:49:52</td>\n",
       "      <td>NaT</td>\n",
       "      <td>2020-12-22 03:49:55</td>\n",
       "      <td>2020-12-22 03:49:52</td>\n",
       "    </tr>\n",
       "    <tr>\n",
       "      <th>0002CE61FF2C4011</th>\n",
       "      <td>2020-12-07 04:37:36</td>\n",
       "      <td>2020-12-07 04:37:37</td>\n",
       "      <td>2020-12-07 04:37:42</td>\n",
       "      <td>NaT</td>\n",
       "    </tr>\n",
       "    <tr>\n",
       "      <th>000456437D0EFFE1</th>\n",
       "      <td>2020-12-15 11:25:03</td>\n",
       "      <td>NaT</td>\n",
       "      <td>2020-12-15 11:25:04</td>\n",
       "      <td>NaT</td>\n",
       "    </tr>\n",
       "    <tr>\n",
       "      <th>...</th>\n",
       "      <td>...</td>\n",
       "      <td>...</td>\n",
       "      <td>...</td>\n",
       "      <td>...</td>\n",
       "    </tr>\n",
       "    <tr>\n",
       "      <th>FFF7A7BAF44FE9B4</th>\n",
       "      <td>2020-12-19 11:10:03</td>\n",
       "      <td>NaT</td>\n",
       "      <td>NaT</td>\n",
       "      <td>NaT</td>\n",
       "    </tr>\n",
       "    <tr>\n",
       "      <th>FFF8FDBE2FE99C91</th>\n",
       "      <td>2020-12-20 04:53:50</td>\n",
       "      <td>NaT</td>\n",
       "      <td>2020-12-20 04:53:51</td>\n",
       "      <td>2020-12-20 04:53:50</td>\n",
       "    </tr>\n",
       "    <tr>\n",
       "      <th>FFF91B6C5431F375</th>\n",
       "      <td>2020-12-14 22:12:04</td>\n",
       "      <td>2020-12-14 22:12:04</td>\n",
       "      <td>NaT</td>\n",
       "      <td>NaT</td>\n",
       "    </tr>\n",
       "    <tr>\n",
       "      <th>FFFAB034A09DCC28</th>\n",
       "      <td>2020-12-18 12:00:53</td>\n",
       "      <td>NaT</td>\n",
       "      <td>2020-12-18 12:00:55</td>\n",
       "      <td>NaT</td>\n",
       "    </tr>\n",
       "    <tr>\n",
       "      <th>FFFFE36C0F6E92DF</th>\n",
       "      <td>2020-12-22 11:38:57</td>\n",
       "      <td>2020-12-22 11:38:57</td>\n",
       "      <td>2020-12-22 11:38:57</td>\n",
       "      <td>NaT</td>\n",
       "    </tr>\n",
       "  </tbody>\n",
       "</table>\n",
       "<p>58703 rows × 4 columns</p>\n",
       "</div>"
      ],
      "text/plain": [
       "event_name                     login        product_cart        product_page  \\\n",
       "user_id                                                                        \n",
       "0001710F4DDB1D1B 2020-12-14 20:20:40 2020-12-14 20:20:42 2020-12-14 20:20:41   \n",
       "000199F1887AE5E6 2020-12-14 09:56:09 2020-12-14 09:56:11 2020-12-14 09:56:09   \n",
       "0002499E372175C7 2020-12-22 03:49:52                 NaT 2020-12-22 03:49:55   \n",
       "0002CE61FF2C4011 2020-12-07 04:37:36 2020-12-07 04:37:37 2020-12-07 04:37:42   \n",
       "000456437D0EFFE1 2020-12-15 11:25:03                 NaT 2020-12-15 11:25:04   \n",
       "...                              ...                 ...                 ...   \n",
       "FFF7A7BAF44FE9B4 2020-12-19 11:10:03                 NaT                 NaT   \n",
       "FFF8FDBE2FE99C91 2020-12-20 04:53:50                 NaT 2020-12-20 04:53:51   \n",
       "FFF91B6C5431F375 2020-12-14 22:12:04 2020-12-14 22:12:04                 NaT   \n",
       "FFFAB034A09DCC28 2020-12-18 12:00:53                 NaT 2020-12-18 12:00:55   \n",
       "FFFFE36C0F6E92DF 2020-12-22 11:38:57 2020-12-22 11:38:57 2020-12-22 11:38:57   \n",
       "\n",
       "event_name                  purchase  \n",
       "user_id                               \n",
       "0001710F4DDB1D1B                 NaT  \n",
       "000199F1887AE5E6 2020-12-14 09:56:09  \n",
       "0002499E372175C7 2020-12-22 03:49:52  \n",
       "0002CE61FF2C4011                 NaT  \n",
       "000456437D0EFFE1                 NaT  \n",
       "...                              ...  \n",
       "FFF7A7BAF44FE9B4                 NaT  \n",
       "FFF8FDBE2FE99C91 2020-12-20 04:53:50  \n",
       "FFF91B6C5431F375                 NaT  \n",
       "FFFAB034A09DCC28                 NaT  \n",
       "FFFFE36C0F6E92DF                 NaT  \n",
       "\n",
       "[58703 rows x 4 columns]"
      ]
     },
     "execution_count": 84,
     "metadata": {},
     "output_type": "execute_result"
    }
   ],
   "source": [
    "events = ab_events.pivot_table(\n",
    "                            index='user_id',\n",
    "                            columns='event_name',\n",
    "                            values='event_dt',\n",
    "                            aggfunc='min'\n",
    ")\n",
    "events"
   ]
  },
  {
   "cell_type": "code",
   "execution_count": 85,
   "metadata": {},
   "outputs": [],
   "source": [
    "# Etapas: login -> product_page -> product_cart -> purchase\n",
    "step_1 = ~events['login'].isna()\n",
    "step_2 = step_1 & (events['product_page'] > events['login'])\n",
    "step_3 = step_2 & (events['product_cart'] > events['product_page'])\n",
    "step_4 = step_3 & (events['purchase'] > events['product_cart'])\n",
    "\n",
    "n_login = events[step_1].shape[0]\n",
    "n_product_page = events[step_2].shape[0]\n",
    "n_product_cart = events[step_3].shape[0]\n",
    "n_purchase = events[step_4].shape[0]"
   ]
  },
  {
   "cell_type": "code",
   "execution_count": 86,
   "metadata": {},
   "outputs": [
    {
     "name": "stdout",
     "output_type": "stream",
     "text": [
      "Login: 58696\n",
      "Product page: 22119\n",
      "Product cart: 1347\n",
      "Purchases: 6\n"
     ]
    }
   ],
   "source": [
    "print('Login:', n_login)\n",
    "print('Product page:', n_product_page)\n",
    "print('Product cart:', n_product_cart)\n",
    "print('Purchases:', n_purchase)"
   ]
  },
  {
   "cell_type": "markdown",
   "metadata": {},
   "source": [
    "Al comparar con el embudo simple, es posible notar que muchos usuarios no siguen la secuencia de eventos establecida (login -> product_page -> product_cart -> purchase) ya que de 19568 compras, sólo 6 finalizaron con el orden de iniciar sesión, visitar la pág de productos, luego añadir al carrito y finalizar la compra. Lo cual también se relaciona con la cantidad de usuarios que vimos por evento, pues en \"compras\" hay mayor cantidad de usuarios que en \"añadir al carrito\"."
   ]
  },
  {
   "cell_type": "code",
   "execution_count": 87,
   "metadata": {},
   "outputs": [],
   "source": [
    "# Unión de los datos de las muestras con los eventos de los usuario\n",
    "users_events = ab_participants.merge(ab_events, how='inner', on='user_id')"
   ]
  },
  {
   "cell_type": "code",
   "execution_count": 88,
   "metadata": {},
   "outputs": [
    {
     "data": {
      "text/html": [
       "<div>\n",
       "<style scoped>\n",
       "    .dataframe tbody tr th:only-of-type {\n",
       "        vertical-align: middle;\n",
       "    }\n",
       "\n",
       "    .dataframe tbody tr th {\n",
       "        vertical-align: top;\n",
       "    }\n",
       "\n",
       "    .dataframe thead th {\n",
       "        text-align: right;\n",
       "    }\n",
       "</style>\n",
       "<table border=\"1\" class=\"dataframe\">\n",
       "  <thead>\n",
       "    <tr style=\"text-align: right;\">\n",
       "      <th></th>\n",
       "      <th>user_id</th>\n",
       "      <th>group</th>\n",
       "      <th>ab_test</th>\n",
       "      <th>event_dt</th>\n",
       "      <th>event_name</th>\n",
       "      <th>purchase</th>\n",
       "      <th>event_date</th>\n",
       "    </tr>\n",
       "  </thead>\n",
       "  <tbody>\n",
       "    <tr>\n",
       "      <th>0</th>\n",
       "      <td>D1ABA3E2887B6A73</td>\n",
       "      <td>A</td>\n",
       "      <td>recommender_system_test</td>\n",
       "      <td>2020-12-07 14:43:27</td>\n",
       "      <td>purchase</td>\n",
       "      <td>99.99</td>\n",
       "      <td>2020-12-07</td>\n",
       "    </tr>\n",
       "    <tr>\n",
       "      <th>1</th>\n",
       "      <td>D1ABA3E2887B6A73</td>\n",
       "      <td>A</td>\n",
       "      <td>recommender_system_test</td>\n",
       "      <td>2020-12-07 14:43:29</td>\n",
       "      <td>product_cart</td>\n",
       "      <td>0.00</td>\n",
       "      <td>2020-12-07</td>\n",
       "    </tr>\n",
       "    <tr>\n",
       "      <th>2</th>\n",
       "      <td>D1ABA3E2887B6A73</td>\n",
       "      <td>A</td>\n",
       "      <td>recommender_system_test</td>\n",
       "      <td>2020-12-07 14:43:27</td>\n",
       "      <td>product_page</td>\n",
       "      <td>0.00</td>\n",
       "      <td>2020-12-07</td>\n",
       "    </tr>\n",
       "    <tr>\n",
       "      <th>3</th>\n",
       "      <td>D1ABA3E2887B6A73</td>\n",
       "      <td>A</td>\n",
       "      <td>recommender_system_test</td>\n",
       "      <td>2020-12-07 14:43:27</td>\n",
       "      <td>login</td>\n",
       "      <td>0.00</td>\n",
       "      <td>2020-12-07</td>\n",
       "    </tr>\n",
       "    <tr>\n",
       "      <th>4</th>\n",
       "      <td>A7A3664BD6242119</td>\n",
       "      <td>A</td>\n",
       "      <td>recommender_system_test</td>\n",
       "      <td>2020-12-20 15:46:06</td>\n",
       "      <td>product_page</td>\n",
       "      <td>0.00</td>\n",
       "      <td>2020-12-20</td>\n",
       "    </tr>\n",
       "  </tbody>\n",
       "</table>\n",
       "</div>"
      ],
      "text/plain": [
       "            user_id group                  ab_test            event_dt  \\\n",
       "0  D1ABA3E2887B6A73     A  recommender_system_test 2020-12-07 14:43:27   \n",
       "1  D1ABA3E2887B6A73     A  recommender_system_test 2020-12-07 14:43:29   \n",
       "2  D1ABA3E2887B6A73     A  recommender_system_test 2020-12-07 14:43:27   \n",
       "3  D1ABA3E2887B6A73     A  recommender_system_test 2020-12-07 14:43:27   \n",
       "4  A7A3664BD6242119     A  recommender_system_test 2020-12-20 15:46:06   \n",
       "\n",
       "     event_name  purchase  event_date  \n",
       "0      purchase     99.99  2020-12-07  \n",
       "1  product_cart      0.00  2020-12-07  \n",
       "2  product_page      0.00  2020-12-07  \n",
       "3         login      0.00  2020-12-07  \n",
       "4  product_page      0.00  2020-12-20  "
      ]
     },
     "execution_count": 88,
     "metadata": {},
     "output_type": "execute_result"
    }
   ],
   "source": [
    "# Extraer sólo la fecha de la columna \"event_dt\"\n",
    "users_events['event_date'] = users_events['event_dt'].dt.date\n",
    "users_events.head()"
   ]
  },
  {
   "cell_type": "code",
   "execution_count": 146,
   "metadata": {},
   "outputs": [
    {
     "data": {
      "text/html": [
       "<div>\n",
       "<style scoped>\n",
       "    .dataframe tbody tr th:only-of-type {\n",
       "        vertical-align: middle;\n",
       "    }\n",
       "\n",
       "    .dataframe tbody tr th {\n",
       "        vertical-align: top;\n",
       "    }\n",
       "\n",
       "    .dataframe thead th {\n",
       "        text-align: right;\n",
       "    }\n",
       "</style>\n",
       "<table border=\"1\" class=\"dataframe\">\n",
       "  <thead>\n",
       "    <tr style=\"text-align: right;\">\n",
       "      <th></th>\n",
       "      <th>group</th>\n",
       "      <th>user_id</th>\n",
       "    </tr>\n",
       "  </thead>\n",
       "  <tbody>\n",
       "    <tr>\n",
       "      <th>0</th>\n",
       "      <td>A</td>\n",
       "      <td>7874</td>\n",
       "    </tr>\n",
       "    <tr>\n",
       "      <th>1</th>\n",
       "      <td>B</td>\n",
       "      <td>6205</td>\n",
       "    </tr>\n",
       "  </tbody>\n",
       "</table>\n",
       "</div>"
      ],
      "text/plain": [
       "  group  user_id\n",
       "0     A     7874\n",
       "1     B     6205"
      ]
     },
     "execution_count": 146,
     "metadata": {},
     "output_type": "execute_result"
    }
   ],
   "source": [
    "# Cantidad de usuarios por grupo\n",
    "total_users = users_events.groupby('group', as_index=False).agg({'user_id':'nunique'})\n",
    "total_users"
   ]
  },
  {
   "cell_type": "markdown",
   "metadata": {},
   "source": [
    "<div class=\"alert alert-block alert-success\">\n",
    "<b>Comentario del revisor (1ra Iteracion)</b> <a class=“tocSkip”></a>\n",
    "\n",
    "Muy bien, siempre hay que revisar las condiciones del experimento por cada grupo ya que un grupo que no esté en mismas condiciones no sería lo ideal para realizar la comparación\n",
    "</div>"
   ]
  },
  {
   "cell_type": "code",
   "execution_count": 90,
   "metadata": {},
   "outputs": [
    {
     "data": {
      "text/html": [
       "<div>\n",
       "<style scoped>\n",
       "    .dataframe tbody tr th:only-of-type {\n",
       "        vertical-align: middle;\n",
       "    }\n",
       "\n",
       "    .dataframe tbody tr th {\n",
       "        vertical-align: top;\n",
       "    }\n",
       "\n",
       "    .dataframe thead th {\n",
       "        text-align: right;\n",
       "    }\n",
       "</style>\n",
       "<table border=\"1\" class=\"dataframe\">\n",
       "  <thead>\n",
       "    <tr style=\"text-align: right;\">\n",
       "      <th></th>\n",
       "      <th>count</th>\n",
       "      <th>mean</th>\n",
       "      <th>std</th>\n",
       "      <th>min</th>\n",
       "      <th>25%</th>\n",
       "      <th>50%</th>\n",
       "      <th>75%</th>\n",
       "      <th>max</th>\n",
       "    </tr>\n",
       "    <tr>\n",
       "      <th>group</th>\n",
       "      <th></th>\n",
       "      <th></th>\n",
       "      <th></th>\n",
       "      <th></th>\n",
       "      <th></th>\n",
       "      <th></th>\n",
       "      <th></th>\n",
       "      <th></th>\n",
       "    </tr>\n",
       "  </thead>\n",
       "  <tbody>\n",
       "    <tr>\n",
       "      <th>A</th>\n",
       "      <td>7874.0</td>\n",
       "      <td>7.45555</td>\n",
       "      <td>4.475159</td>\n",
       "      <td>1.0</td>\n",
       "      <td>4.0</td>\n",
       "      <td>6.0</td>\n",
       "      <td>9.0</td>\n",
       "      <td>40.0</td>\n",
       "    </tr>\n",
       "    <tr>\n",
       "      <th>B</th>\n",
       "      <td>6205.0</td>\n",
       "      <td>7.11249</td>\n",
       "      <td>4.246201</td>\n",
       "      <td>1.0</td>\n",
       "      <td>4.0</td>\n",
       "      <td>6.0</td>\n",
       "      <td>9.0</td>\n",
       "      <td>36.0</td>\n",
       "    </tr>\n",
       "  </tbody>\n",
       "</table>\n",
       "</div>"
      ],
      "text/plain": [
       "        count     mean       std  min  25%  50%  75%   max\n",
       "group                                                     \n",
       "A      7874.0  7.45555  4.475159  1.0  4.0  6.0  9.0  40.0\n",
       "B      6205.0  7.11249  4.246201  1.0  4.0  6.0  9.0  36.0"
      ]
     },
     "execution_count": 90,
     "metadata": {},
     "output_type": "execute_result"
    }
   ],
   "source": [
    "# El número de eventos por usuario está distribuido equitativamente entre las muestras?\n",
    "events_by_user = users_events.groupby(['user_id', 'group'])['event_name'].count().reset_index(name='num_events')\n",
    "\n",
    "# Comparar la distribución de eventos por usuario entre ambos grupos\n",
    "events_by_user.groupby('group')['num_events'].describe()"
   ]
  },
  {
   "cell_type": "markdown",
   "metadata": {},
   "source": [
    "El grupo control tiene mayor cantidad de usuarios, sin embargo el promedio es similar, al igual que la desviación estándar de ambas muestras, y mantienen igual media; lo que sugiere que se distribuyen de manera equitativa."
   ]
  },
  {
   "cell_type": "code",
   "execution_count": 91,
   "metadata": {},
   "outputs": [
    {
     "data": {
      "text/plain": [
       "441"
      ]
     },
     "execution_count": 91,
     "metadata": {},
     "output_type": "execute_result"
    }
   ],
   "source": [
    "# Comprobar que no existan usuarios presentes en ambas muestras\n",
    "both_groups = ab_participants.groupby('user_id')['group'].nunique()\n",
    "both_groups = both_groups[both_groups > 1]\n",
    "both_groups.count()"
   ]
  },
  {
   "cell_type": "markdown",
   "metadata": {},
   "source": [
    "Hay 441 usuarios que están en ambos grupos, lo que interferirá en los resultados del test A/B, por lo que se debe considerar en el análisis."
   ]
  },
  {
   "cell_type": "code",
   "execution_count": 92,
   "metadata": {},
   "outputs": [],
   "source": [
    "# Número de eventos por día\n",
    "events_date = users_events.groupby('event_date', as_index=False).agg({'event_name':'count'})"
   ]
  },
  {
   "cell_type": "code",
   "execution_count": 93,
   "metadata": {},
   "outputs": [
    {
     "data": {
      "image/png": "[encoded data removed]",
      "text/plain": [
       "<Figure size 640x480 with 1 Axes>"
      ]
     },
     "metadata": {},
     "output_type": "display_data"
    }
   ],
   "source": [
    "# Distribución de eventos por día\n",
    "sns.scatterplot(data=events_date, x='event_date', y='event_name')\n",
    "plt.xticks(rotation=45)\n",
    "plt.xlabel('Fecha del evento')\n",
    "plt.ylabel('Cantidad de eventos')\n",
    "plt.title('Distribución de eventos por día')\n",
    "plt.show()"
   ]
  },
  {
   "cell_type": "markdown",
   "metadata": {},
   "source": [
    "Los días peaks en relación a la cantidad de eventos coinciden con los días en que se registró mayor cantidad de usuarios, también son días previos a la campaña \"Christmas&New Year Promo\" por lo que es posible que los usuarios estén más activos en la web esperando alguna promoción.  \n",
    "Por otro lado, importante notar que la actividad de los usuarios disminuye considerablemente posterior al 25/Dic, lo cual puede relacionarse con el período de festividad."
   ]
  },
  {
   "cell_type": "markdown",
   "metadata": {},
   "source": [
    "<div class=\"alert alert-block alert-success\">\n",
    "<b>Comentario del revisor (1ra Iteracion)</b> <a class=“tocSkip”></a>\n",
    "\n",
    "Correcto! La gráfica es clara para revisar cómo se distribuyen los datos a lo largo del tiempo, este tipo de análisis y gráficas ayuda a entender tendencias\n",
    "</div>"
   ]
  },
  {
   "cell_type": "code",
   "execution_count": 98,
   "metadata": {},
   "outputs": [
    {
     "data": {
      "text/html": [
       "<div>\n",
       "<style scoped>\n",
       "    .dataframe tbody tr th:only-of-type {\n",
       "        vertical-align: middle;\n",
       "    }\n",
       "\n",
       "    .dataframe tbody tr th {\n",
       "        vertical-align: top;\n",
       "    }\n",
       "\n",
       "    .dataframe thead th {\n",
       "        text-align: right;\n",
       "    }\n",
       "</style>\n",
       "<table border=\"1\" class=\"dataframe\">\n",
       "  <thead>\n",
       "    <tr style=\"text-align: right;\">\n",
       "      <th></th>\n",
       "      <th>user_id</th>\n",
       "      <th>group</th>\n",
       "      <th>num_events</th>\n",
       "    </tr>\n",
       "  </thead>\n",
       "  <tbody>\n",
       "    <tr>\n",
       "      <th>0</th>\n",
       "      <td>0002CE61FF2C4011</td>\n",
       "      <td>A</td>\n",
       "      <td>12</td>\n",
       "    </tr>\n",
       "    <tr>\n",
       "      <th>1</th>\n",
       "      <td>001064FEAAB631A1</td>\n",
       "      <td>B</td>\n",
       "      <td>12</td>\n",
       "    </tr>\n",
       "    <tr>\n",
       "      <th>2</th>\n",
       "      <td>0010A1C096941592</td>\n",
       "      <td>A</td>\n",
       "      <td>12</td>\n",
       "    </tr>\n",
       "    <tr>\n",
       "      <th>3</th>\n",
       "      <td>001E72F50D1C48FA</td>\n",
       "      <td>B</td>\n",
       "      <td>6</td>\n",
       "    </tr>\n",
       "    <tr>\n",
       "      <th>4</th>\n",
       "      <td>002412F1EB3F6E38</td>\n",
       "      <td>A</td>\n",
       "      <td>6</td>\n",
       "    </tr>\n",
       "  </tbody>\n",
       "</table>\n",
       "</div>"
      ],
      "text/plain": [
       "            user_id group  num_events\n",
       "0  0002CE61FF2C4011     A          12\n",
       "1  001064FEAAB631A1     B          12\n",
       "2  0010A1C096941592     A          12\n",
       "3  001E72F50D1C48FA     B           6\n",
       "4  002412F1EB3F6E38     A           6"
      ]
     },
     "execution_count": 98,
     "metadata": {},
     "output_type": "execute_result"
    }
   ],
   "source": [
    "events_by_user.head()"
   ]
  },
  {
   "cell_type": "markdown",
   "metadata": {},
   "source": [
    "### Peculiaridades en los datos"
   ]
  },
  {
   "cell_type": "code",
   "execution_count": 110,
   "metadata": {},
   "outputs": [
    {
     "data": {
      "image/png": "[encoded data removed]",
      "text/plain": [
       "<Figure size 640x480 with 1 Axes>"
      ]
     },
     "metadata": {},
     "output_type": "display_data"
    }
   ],
   "source": [
    "# Verificar outliers en el número de eventos por usuario\n",
    "#events_by_user.boxplot(by='group')\n",
    "sns.boxplot(data=events_by_user, x='group', y='num_events')\n",
    "plt.xlabel('Grupo')\n",
    "plt.ylabel('Cantidad de eventos')\n",
    "plt.title('Distribución del número de eventos por usuario')\n",
    "plt.show()"
   ]
  },
  {
   "cell_type": "markdown",
   "metadata": {},
   "source": [
    "Existen algunos usuarios que tienen una gran cantidad de eventos, es probable que sugiera usuarios que visitan frecuentemente la p+ag web, o sean clientes fidelizados."
   ]
  },
  {
   "cell_type": "markdown",
   "metadata": {},
   "source": [
    "## Test A/B"
   ]
  },
  {
   "cell_type": "code",
   "execution_count": 121,
   "metadata": {},
   "outputs": [],
   "source": [
    "# Definir los eventos a evaluar en el embudo\n",
    "funnel = users_events[users_events['event_name'].isin(['product_page', 'product_cart', 'purchase'])]"
   ]
  },
  {
   "cell_type": "code",
   "execution_count": 136,
   "metadata": {},
   "outputs": [
    {
     "name": "stdout",
     "output_type": "stream",
     "text": [
      "Usuarios en el grupo A: 7874\n",
      "Usuarios en el grupo B: 6205\n"
     ]
    }
   ],
   "source": [
    "# Total de usuarios en cada grupo\n",
    "total_users_a = ab_participants[ab_participants['group'] == 'A']['user_id'].nunique()\n",
    "total_users_b = ab_participants[ab_participants['group'] == 'B']['user_id'].nunique()\n",
    "print('Usuarios en el grupo A:', total_users_a)\n",
    "print('Usuarios en el grupo B:', total_users_b)"
   ]
  },
  {
   "cell_type": "code",
   "execution_count": 140,
   "metadata": {},
   "outputs": [],
   "source": [
    "# Cantidad de usuarios por evento, según grupo\n",
    "events_users_a = (\n",
    "    funnel[funnel['group'] == 'A']\n",
    "    .groupby('event_name')\n",
    "    .agg({'user_id':'nunique'})\n",
    "    .sort_values(by='user_id', ascending=False)\n",
    ")"
   ]
  },
  {
   "cell_type": "code",
   "execution_count": 141,
   "metadata": {},
   "outputs": [
    {
     "data": {
      "text/html": [
       "<div>\n",
       "<style scoped>\n",
       "    .dataframe tbody tr th:only-of-type {\n",
       "        vertical-align: middle;\n",
       "    }\n",
       "\n",
       "    .dataframe tbody tr th {\n",
       "        vertical-align: top;\n",
       "    }\n",
       "\n",
       "    .dataframe thead th {\n",
       "        text-align: right;\n",
       "    }\n",
       "</style>\n",
       "<table border=\"1\" class=\"dataframe\">\n",
       "  <thead>\n",
       "    <tr style=\"text-align: right;\">\n",
       "      <th></th>\n",
       "      <th>user_id</th>\n",
       "    </tr>\n",
       "    <tr>\n",
       "      <th>event_name</th>\n",
       "      <th></th>\n",
       "    </tr>\n",
       "  </thead>\n",
       "  <tbody>\n",
       "    <tr>\n",
       "      <th>product_page</th>\n",
       "      <td>5208</td>\n",
       "    </tr>\n",
       "    <tr>\n",
       "      <th>purchase</th>\n",
       "      <td>2682</td>\n",
       "    </tr>\n",
       "    <tr>\n",
       "      <th>product_cart</th>\n",
       "      <td>2483</td>\n",
       "    </tr>\n",
       "  </tbody>\n",
       "</table>\n",
       "</div>"
      ],
      "text/plain": [
       "              user_id\n",
       "event_name           \n",
       "product_page     5208\n",
       "purchase         2682\n",
       "product_cart     2483"
      ]
     },
     "execution_count": 141,
     "metadata": {},
     "output_type": "execute_result"
    }
   ],
   "source": [
    "events_users_a"
   ]
  },
  {
   "cell_type": "markdown",
   "metadata": {},
   "source": [
    "En el grupo A se observa que existe mayor cantidad de usuarios con \"compras\" que con el evento de \"añadir al carrito\", lo cual sugiere que en el grupo control no necesariamente se sigue el orden de eventos que se pretende evaluar, y que probablemente sea posible comprar en la pág web sin la necidad de agregar el producto al carrito, como se había visto previamente."
   ]
  },
  {
   "cell_type": "code",
   "execution_count": 138,
   "metadata": {},
   "outputs": [],
   "source": [
    "events_users_b = (\n",
    "    funnel[funnel['group'] == 'B']\n",
    "    .groupby('event_name')\n",
    "    .agg({'user_id':'nunique'})\n",
    "    .sort_values(by='user_id', ascending=False)\n",
    ")"
   ]
  },
  {
   "cell_type": "code",
   "execution_count": 151,
   "metadata": {},
   "outputs": [
    {
     "data": {
      "text/html": [
       "<div>\n",
       "<style scoped>\n",
       "    .dataframe tbody tr th:only-of-type {\n",
       "        vertical-align: middle;\n",
       "    }\n",
       "\n",
       "    .dataframe tbody tr th {\n",
       "        vertical-align: top;\n",
       "    }\n",
       "\n",
       "    .dataframe thead th {\n",
       "        text-align: right;\n",
       "    }\n",
       "</style>\n",
       "<table border=\"1\" class=\"dataframe\">\n",
       "  <thead>\n",
       "    <tr style=\"text-align: right;\">\n",
       "      <th></th>\n",
       "      <th>user_id</th>\n",
       "    </tr>\n",
       "    <tr>\n",
       "      <th>event_name</th>\n",
       "      <th></th>\n",
       "    </tr>\n",
       "  </thead>\n",
       "  <tbody>\n",
       "    <tr>\n",
       "      <th>product_page</th>\n",
       "      <td>3986</td>\n",
       "    </tr>\n",
       "    <tr>\n",
       "      <th>product_cart</th>\n",
       "      <td>2037</td>\n",
       "    </tr>\n",
       "    <tr>\n",
       "      <th>purchase</th>\n",
       "      <td>2008</td>\n",
       "    </tr>\n",
       "  </tbody>\n",
       "</table>\n",
       "</div>"
      ],
      "text/plain": [
       "              user_id\n",
       "event_name           \n",
       "product_page     3986\n",
       "product_cart     2037\n",
       "purchase         2008"
      ]
     },
     "execution_count": 151,
     "metadata": {},
     "output_type": "execute_result"
    }
   ],
   "source": [
    "events_users_b"
   ]
  },
  {
   "cell_type": "markdown",
   "metadata": {},
   "source": [
    "En el caso del grupo B, la secuencia de eventos parece darse en el orden que se pretende evaluar; los usuarios suelen agregar un producto al carrito, previo a efectuar la compra. "
   ]
  },
  {
   "cell_type": "code",
   "execution_count": 128,
   "metadata": {},
   "outputs": [
    {
     "data": {
      "image/png": "[encoded data removed]",
      "text/plain": [
       "<Figure size 640x480 with 1 Axes>"
      ]
     },
     "metadata": {},
     "output_type": "display_data"
    }
   ],
   "source": [
    "# Gráfico de la cantidad de usuarios en cada evento, del grupo A\n",
    "sns.barplot(data= events_users_a, x='event_name', y='user_id')\n",
    "plt.xlabel('Evento')\n",
    "plt.ylabel('Cantidad de usuarios')\n",
    "plt.title('Usuarios por evento, grupo A')\n",
    "plt.show()"
   ]
  },
  {
   "cell_type": "code",
   "execution_count": 129,
   "metadata": {},
   "outputs": [
    {
     "data": {
      "image/png": "[encoded data removed]",
      "text/plain": [
       "<Figure size 640x480 with 1 Axes>"
      ]
     },
     "metadata": {},
     "output_type": "display_data"
    }
   ],
   "source": [
    "# Gráfico para la cantidad de usuarios en cada evento, del grupo B\n",
    "sns.barplot(data= events_users_b, x='event_name', y='user_id')\n",
    "plt.xlabel('Evento')\n",
    "plt.ylabel('Cantidad de usuarios')\n",
    "plt.title('Usuarios por evento, grupo B')\n",
    "plt.show()"
   ]
  },
  {
   "cell_type": "markdown",
   "metadata": {},
   "source": [
    "<div class=\"alert alert-block alert-success\">\n",
    "<b>Comentario del revisor (1ra Iteracion)</b> <a class=“tocSkip”></a>\n",
    "\n",
    "Perfecto! Estas gráficas por cada grupo son muy útiles para revisar la conversión entre cada grupo, cómo te menciono en un comentario anterior sería bueno también incluir en una gráfica más general también el evento de login ya que así se puede ver la diferencia en la conversión de las diferentes etapas\n",
    "</div>"
   ]
  },
  {
   "cell_type": "code",
   "execution_count": 143,
   "metadata": {},
   "outputs": [
    {
     "name": "stdout",
     "output_type": "stream",
     "text": [
      "Grupo A:                user_id\n",
      "event_name            \n",
      "product_page  0.661417\n",
      "purchase      0.340615\n",
      "product_cart  0.315342\n",
      "\n",
      "Grupo B:                user_id\n",
      "event_name            \n",
      "product_page  0.642385\n",
      "product_cart  0.328284\n",
      "purchase      0.323610\n"
     ]
    }
   ],
   "source": [
    "# Tasa de conversión en cada evento, para cada grupo\n",
    "conversion_a = events_users_a / total_users_a\n",
    "conversion_b = events_users_b / total_users_b\n",
    "\n",
    "print('Grupo A:', conversion_a)\n",
    "print()\n",
    "print('Grupo B:', conversion_b)"
   ]
  },
  {
   "cell_type": "markdown",
   "metadata": {},
   "source": [
    "Se esperaba que en cada etapa del embudo: *product_page → product_card → purchase*, hubiera al menos un 10% de aumento en la conversión, sin embargo, al ver la conversión que cada grupo tuvo en las distintas etapas del embudo; no se refleja un aumento en la conversión para el grupo B en ninguno de los eventos."
   ]
  },
  {
   "cell_type": "markdown",
   "metadata": {},
   "source": [
    "### Prueba Z"
   ]
  },
  {
   "cell_type": "code",
   "execution_count": 144,
   "metadata": {},
   "outputs": [],
   "source": [
    "# Función para comprobar la diferencia estadística entre las proporciones de los grupos para cada evento\n",
    "def hypothesis_check(successes1, successes2, trials1, trials2, alpha=0.01):\n",
    "    \n",
    "    # Proporción de éxito en el primer evento\n",
    "    p1 = successes1 / trials1\n",
    "    \n",
    "    # Proporción de éxito en el segundo evento\n",
    "    p2 = successes2 / trials2\n",
    "    \n",
    "    # Proporción de éxito en el dataset unido\n",
    "    p_combined = (successes1 + successes2) / (trials1 + trials2)\n",
    "    \n",
    "    # Diferencia entre las proporciones en los datasets\n",
    "    difference = p1 - p2\n",
    "    \n",
    "    # Calcular el estadístico en desviaciones estandar de la distribución normal\n",
    "    z_value = difference / mth.sqrt(p_combined * (1 - p_combined) * (1/trials1 + 1/trials2))\n",
    "    \n",
    "    # Establecer distribución normal estandar\n",
    "    distr = st.norm(0, 1)\n",
    "    \n",
    "    p_value = (1 - distr.cdf(abs(z_value))) * 2\n",
    "    \n",
    "    print('P value:', p_value)\n",
    "    \n",
    "    if p_value < alpha:\n",
    "        print('Rechazar la hipótesis nula; hay una diferencia significativa entre las proporciones de ambos grupos')\n",
    "    else:\n",
    "        print('No se puede rechazar la hipótesis nula; no hay razón para pensar que las proporciones entre ambos grupos son diferentes')"
   ]
  },
  {
   "cell_type": "code",
   "execution_count": 162,
   "metadata": {},
   "outputs": [
    {
     "name": "stdout",
     "output_type": "stream",
     "text": [
      "Diferencia estadística entre ambos grupos para el evento \"product page\"\n",
      "\n",
      "P value: [0.01850463]\n",
      "No se puede rechazar la hipótesis nula; no hay razón para pensar que las proporciones entre ambos grupos son diferentes\n"
     ]
    }
   ],
   "source": [
    "# Comprobar la proporción entre ambos grupos para el evento \"product page\"\n",
    "print('Diferencia estadística entre ambos grupos para el evento \"product page\"')\n",
    "print()\n",
    "hypothesis_check(events_users_a.loc['product_page'], \n",
    "                events_users_b.loc['product_page'],\n",
    "                total_users_a,\n",
    "                total_users_b)"
   ]
  },
  {
   "cell_type": "code",
   "execution_count": 163,
   "metadata": {},
   "outputs": [
    {
     "name": "stdout",
     "output_type": "stream",
     "text": [
      "Diferencia estadística entre ambos grupos para el evento \"product cart\"\n",
      "\n",
      "P value: [0.10247323]\n",
      "No se puede rechazar la hipótesis nula; no hay razón para pensar que las proporciones entre ambos grupos son diferentes\n"
     ]
    }
   ],
   "source": [
    "# Comprobar la proporción entre ambos grupos para el evento \"product cart\"\n",
    "print('Diferencia estadística entre ambos grupos para el evento \"product cart\"')\n",
    "print()\n",
    "hypothesis_check(events_users_a.loc['product_cart'], \n",
    "                events_users_b.loc['product_cart'],\n",
    "                total_users_a,\n",
    "                total_users_b)"
   ]
  },
  {
   "cell_type": "code",
   "execution_count": 164,
   "metadata": {},
   "outputs": [
    {
     "name": "stdout",
     "output_type": "stream",
     "text": [
      "Diferencia estadística entre ambos grupos para el evento \"purchase\"\n",
      "\n",
      "P value: [0.03355878]\n",
      "No se puede rechazar la hipótesis nula; no hay razón para pensar que las proporciones entre ambos grupos son diferentes\n"
     ]
    }
   ],
   "source": [
    "# Comprobar la proporción entre ambos grupos para el evento \"purchase\"\n",
    "print('Diferencia estadística entre ambos grupos para el evento \"purchase\"')\n",
    "print()\n",
    "hypothesis_check(events_users_a.loc['purchase'], \n",
    "                events_users_b.loc['purchase'],\n",
    "                total_users_a,\n",
    "                total_users_b)"
   ]
  },
  {
   "cell_type": "markdown",
   "metadata": {},
   "source": [
    "<div class=\"alert alert-block alert-success\">\n",
    "<b>Comentario del revisor (1ra Iteracion)</b> <a class=“tocSkip”></a>\n",
    "\n",
    "Muy bien aplicada la prueba de hipótesis! Revisar por cada parte del embudo que siguen los usuarios es importante para determinar si hay diferencias significativas en algún punto y entender donde se está cambiando la experiencia de usuario\n",
    "</div>"
   ]
  },
  {
   "cell_type": "markdown",
   "metadata": {},
   "source": [
    "## Conclusiones"
   ]
  },
  {
   "cell_type": "markdown",
   "metadata": {},
   "source": [
    "En el análisis exploratorio se identificó las campañas de marketing que se desarrollaron en la fecha correspondientes a los datos en que tuvo desarrollo el test A/B.  \n",
    "\n",
    "- Se observaron además 3 días con un peak en los registros de usuarios, donde los últimos 2 peaks se relacionan con las fechas en donde se genera una mayor actividad en la pág web por parte de los usuarios, esto además coincide con fecha cercana a la campaña de navidad por lo cual ese aumento en los eventos puede relacionarse a la espera de novedades/ofertas y/o compras.\n",
    "- También al ver el embudo simple de los eventos, se encontró que hay mayor cantidad del evento \"compras\" que de \"añadir al carrito\", por lo que es posible que la pág web permita comprar el producto directamente desde la pag de productos, sin la necesidad de agregarlos previamente.  \n",
    "\n",
    "Por otro lado, se encontraron 441 usuarios que participaron en ambas muestras del test A/B, lo cual interfiere en la validez de la prueba.\n",
    "\n",
    "Se observaron también valores atípicos para la cantidad de eventos por usuario, lo cual puede relacionarse con clientes fidelizados que tienen mayor actividad en la pág web, o a que algunos usuarios han frecuentado más por la campaña de marketing de Diciembre y las festividades de la época.\n",
    "\n",
    "En cuanto a los resultados de la prueba; no había diferencia estadística entre las proporciones de ambos grupos, lo cual le da  fiabilidad a los resultados, sin embargo habían usuarios presentes en ambos grupos y esto disminuye la validez de los mismos."
   ]
  },
  {
   "cell_type": "markdown",
   "metadata": {},
   "source": [
    "<div class=\"alert alert-block alert-success\">\n",
    "<b>Comentario general (1ra Iteracion)</b> <a class=“tocSkip”></a>\n",
    "\n",
    "Hiciste un excelente trabajo Macarena, redactaste muy buenas conclusiones. Se nota tu conocimiento para realizar los análisis a partir de pruebas AB, esto será algo que encuentres muy seguido en un entorno laboral.\n",
    "    \n",
    "Siempre procura revisar las métricas calculadas por cada grupo para que se puedan ver las diferencias en cada paso.\n",
    "    \n",
    "Saludos.\n",
    "</div>"
   ]
  }
 ],
 "metadata": {
  "ExecuteTimeLog": [
   {
    "duration": 2528,
    "start_time": "2024-12-17T18:25:35.175Z"
   },
   {
    "duration": 60,
    "start_time": "2024-12-17T18:25:45.953Z"
   },
   {
    "duration": 8,
    "start_time": "2024-12-17T18:29:33.509Z"
   },
   {
    "duration": 274,
    "start_time": "2024-12-17T18:29:45.013Z"
   },
   {
    "duration": 11,
    "start_time": "2024-12-17T18:30:00.613Z"
   },
   {
    "duration": 342,
    "start_time": "2024-12-17T18:30:56.575Z"
   },
   {
    "duration": 65,
    "start_time": "2024-12-17T18:31:56.316Z"
   },
   {
    "duration": 59,
    "start_time": "2024-12-17T18:32:15.335Z"
   },
   {
    "duration": 60,
    "start_time": "2024-12-17T18:33:04.098Z"
   },
   {
    "duration": 61,
    "start_time": "2024-12-17T18:33:40.103Z"
   },
   {
    "duration": 318,
    "start_time": "2024-12-17T18:36:40.078Z"
   },
   {
    "duration": 15,
    "start_time": "2024-12-17T18:37:25.284Z"
   },
   {
    "duration": 61,
    "start_time": "2024-12-17T18:37:36.839Z"
   },
   {
    "duration": 60,
    "start_time": "2024-12-17T18:38:06.340Z"
   },
   {
    "duration": 841,
    "start_time": "2024-12-17T18:43:39.296Z"
   },
   {
    "duration": 7,
    "start_time": "2024-12-17T18:43:40.141Z"
   },
   {
    "duration": 581,
    "start_time": "2024-12-17T18:43:40.149Z"
   },
   {
    "duration": 0,
    "start_time": "2024-12-17T18:43:40.731Z"
   },
   {
    "duration": 0,
    "start_time": "2024-12-17T18:43:40.733Z"
   },
   {
    "duration": 57,
    "start_time": "2024-12-17T18:44:44.009Z"
   },
   {
    "duration": 64,
    "start_time": "2024-12-17T18:44:59.626Z"
   },
   {
    "duration": 279,
    "start_time": "2024-12-17T18:45:01.016Z"
   },
   {
    "duration": 12,
    "start_time": "2024-12-17T18:45:02.006Z"
   },
   {
    "duration": 20,
    "start_time": "2024-12-17T18:46:49.614Z"
   },
   {
    "duration": 6,
    "start_time": "2024-12-17T18:46:58.393Z"
   },
   {
    "duration": 12,
    "start_time": "2024-12-17T18:47:01.548Z"
   },
   {
    "duration": 8,
    "start_time": "2024-12-17T18:48:00.634Z"
   },
   {
    "duration": 4,
    "start_time": "2024-12-17T18:49:19.516Z"
   },
   {
    "duration": 2457,
    "start_time": "2024-12-17T20:44:12.647Z"
   },
   {
    "duration": 8,
    "start_time": "2024-12-17T20:44:15.106Z"
   },
   {
    "duration": 63,
    "start_time": "2024-12-17T20:44:15.115Z"
   },
   {
    "duration": 315,
    "start_time": "2024-12-17T20:44:15.181Z"
   },
   {
    "duration": 15,
    "start_time": "2024-12-17T20:44:15.499Z"
   },
   {
    "duration": 8,
    "start_time": "2024-12-17T20:44:15.516Z"
   },
   {
    "duration": 9,
    "start_time": "2024-12-17T20:44:15.525Z"
   },
   {
    "duration": 4,
    "start_time": "2024-12-17T20:44:15.535Z"
   },
   {
    "duration": 5,
    "start_time": "2024-12-17T20:45:50.086Z"
   },
   {
    "duration": 5,
    "start_time": "2024-12-17T20:46:40.162Z"
   },
   {
    "duration": 8,
    "start_time": "2024-12-17T20:46:46.465Z"
   },
   {
    "duration": 218,
    "start_time": "2024-12-17T20:47:00.527Z"
   },
   {
    "duration": 4,
    "start_time": "2024-12-17T20:47:15.945Z"
   },
   {
    "duration": 4,
    "start_time": "2024-12-17T20:47:26.005Z"
   },
   {
    "duration": 9,
    "start_time": "2024-12-17T20:47:28.695Z"
   },
   {
    "duration": 14,
    "start_time": "2024-12-17T20:48:34.926Z"
   },
   {
    "duration": 9,
    "start_time": "2024-12-17T20:49:38.826Z"
   },
   {
    "duration": 23,
    "start_time": "2024-12-17T20:50:00.506Z"
   },
   {
    "duration": 10,
    "start_time": "2024-12-17T20:50:45.978Z"
   },
   {
    "duration": 45,
    "start_time": "2024-12-17T20:53:06.765Z"
   },
   {
    "duration": 7,
    "start_time": "2024-12-17T20:59:42.981Z"
   },
   {
    "duration": 8,
    "start_time": "2024-12-17T21:00:09.737Z"
   },
   {
    "duration": 7,
    "start_time": "2024-12-17T21:00:20.401Z"
   },
   {
    "duration": 17,
    "start_time": "2024-12-17T21:00:56.661Z"
   },
   {
    "duration": 61,
    "start_time": "2024-12-17T21:04:45.002Z"
   },
   {
    "duration": 7,
    "start_time": "2024-12-17T21:04:52.763Z"
   },
   {
    "duration": 34,
    "start_time": "2024-12-17T21:05:42.561Z"
   },
   {
    "duration": 35,
    "start_time": "2024-12-17T21:05:52.621Z"
   },
   {
    "duration": 44,
    "start_time": "2024-12-17T21:06:41.963Z"
   },
   {
    "duration": 35,
    "start_time": "2024-12-17T21:06:51.302Z"
   },
   {
    "duration": 497,
    "start_time": "2024-12-17T21:11:44.752Z"
   },
   {
    "duration": 6,
    "start_time": "2024-12-17T21:12:09.306Z"
   },
   {
    "duration": 6,
    "start_time": "2024-12-17T21:12:20.981Z"
   },
   {
    "duration": 12,
    "start_time": "2024-12-17T21:12:26.771Z"
   },
   {
    "duration": 19,
    "start_time": "2024-12-17T21:13:46.073Z"
   },
   {
    "duration": 340,
    "start_time": "2024-12-17T21:14:33.141Z"
   },
   {
    "duration": 42,
    "start_time": "2024-12-17T21:15:17.789Z"
   },
   {
    "duration": 15,
    "start_time": "2024-12-17T21:15:37.098Z"
   },
   {
    "duration": 3,
    "start_time": "2024-12-17T21:15:50.781Z"
   },
   {
    "duration": 27,
    "start_time": "2024-12-17T21:16:00.401Z"
   },
   {
    "duration": 27,
    "start_time": "2024-12-17T21:16:07.342Z"
   },
   {
    "duration": 9,
    "start_time": "2024-12-17T21:17:19.698Z"
   },
   {
    "duration": 6,
    "start_time": "2024-12-17T21:19:31.321Z"
   },
   {
    "duration": 12,
    "start_time": "2024-12-17T21:19:54.823Z"
   },
   {
    "duration": 6,
    "start_time": "2024-12-17T21:20:06.843Z"
   },
   {
    "duration": 2488,
    "start_time": "2024-12-18T15:34:29.867Z"
   },
   {
    "duration": 11,
    "start_time": "2024-12-18T15:34:32.357Z"
   },
   {
    "duration": 62,
    "start_time": "2024-12-18T15:34:32.370Z"
   },
   {
    "duration": 331,
    "start_time": "2024-12-18T15:34:32.434Z"
   },
   {
    "duration": 25,
    "start_time": "2024-12-18T15:34:32.770Z"
   },
   {
    "duration": 9,
    "start_time": "2024-12-18T15:34:32.797Z"
   },
   {
    "duration": 10,
    "start_time": "2024-12-18T15:34:32.807Z"
   },
   {
    "duration": 4,
    "start_time": "2024-12-18T15:34:32.819Z"
   },
   {
    "duration": 5,
    "start_time": "2024-12-18T15:34:32.825Z"
   },
   {
    "duration": 4,
    "start_time": "2024-12-18T15:34:32.831Z"
   },
   {
    "duration": 38,
    "start_time": "2024-12-18T15:34:32.837Z"
   },
   {
    "duration": 6,
    "start_time": "2024-12-18T15:34:32.877Z"
   },
   {
    "duration": 21,
    "start_time": "2024-12-18T15:34:32.885Z"
   },
   {
    "duration": 13,
    "start_time": "2024-12-18T15:34:32.910Z"
   },
   {
    "duration": 62,
    "start_time": "2024-12-18T15:34:32.924Z"
   },
   {
    "duration": 15,
    "start_time": "2024-12-18T15:34:32.988Z"
   },
   {
    "duration": 85,
    "start_time": "2024-12-18T15:34:33.005Z"
   },
   {
    "duration": 39,
    "start_time": "2024-12-18T15:34:33.092Z"
   },
   {
    "duration": 3,
    "start_time": "2024-12-18T15:34:33.132Z"
   },
   {
    "duration": 52,
    "start_time": "2024-12-18T15:34:33.137Z"
   },
   {
    "duration": 8,
    "start_time": "2024-12-18T15:34:33.191Z"
   },
   {
    "duration": 6,
    "start_time": "2024-12-18T15:34:33.201Z"
   },
   {
    "duration": 5,
    "start_time": "2024-12-18T15:34:33.208Z"
   },
   {
    "duration": 9,
    "start_time": "2024-12-18T15:45:10.553Z"
   },
   {
    "duration": 8,
    "start_time": "2024-12-18T15:45:16.620Z"
   },
   {
    "duration": 10,
    "start_time": "2024-12-18T15:46:23.667Z"
   },
   {
    "duration": 115,
    "start_time": "2024-12-18T15:47:51.591Z"
   },
   {
    "duration": 31,
    "start_time": "2024-12-18T15:48:09.162Z"
   },
   {
    "duration": 119,
    "start_time": "2024-12-18T15:48:52.046Z"
   },
   {
    "duration": 5,
    "start_time": "2024-12-18T15:50:31.645Z"
   },
   {
    "duration": 5,
    "start_time": "2024-12-18T16:13:39.925Z"
   },
   {
    "duration": 13,
    "start_time": "2024-12-18T16:13:44.459Z"
   },
   {
    "duration": 8,
    "start_time": "2024-12-18T16:13:53.340Z"
   },
   {
    "duration": 9,
    "start_time": "2024-12-18T16:14:54.139Z"
   },
   {
    "duration": 10,
    "start_time": "2024-12-18T16:48:43.702Z"
   },
   {
    "duration": 31,
    "start_time": "2024-12-18T16:48:53.275Z"
   },
   {
    "duration": 7,
    "start_time": "2024-12-18T16:50:04.056Z"
   },
   {
    "duration": 176,
    "start_time": "2024-12-18T16:50:46.903Z"
   },
   {
    "duration": 18,
    "start_time": "2024-12-18T16:55:13.038Z"
   },
   {
    "duration": 77,
    "start_time": "2024-12-18T17:03:34.776Z"
   },
   {
    "duration": 79,
    "start_time": "2024-12-18T17:03:45.160Z"
   },
   {
    "duration": 2493,
    "start_time": "2024-12-18T18:58:09.549Z"
   },
   {
    "duration": 8,
    "start_time": "2024-12-18T18:58:12.045Z"
   },
   {
    "duration": 62,
    "start_time": "2024-12-18T18:58:12.054Z"
   },
   {
    "duration": 316,
    "start_time": "2024-12-18T18:58:12.118Z"
   },
   {
    "duration": 20,
    "start_time": "2024-12-18T18:58:12.437Z"
   },
   {
    "duration": 9,
    "start_time": "2024-12-18T18:58:12.458Z"
   },
   {
    "duration": 9,
    "start_time": "2024-12-18T18:58:12.468Z"
   },
   {
    "duration": 4,
    "start_time": "2024-12-18T18:58:12.478Z"
   },
   {
    "duration": 4,
    "start_time": "2024-12-18T18:58:12.484Z"
   },
   {
    "duration": 23,
    "start_time": "2024-12-18T18:58:12.489Z"
   },
   {
    "duration": 13,
    "start_time": "2024-12-18T18:58:12.514Z"
   },
   {
    "duration": 6,
    "start_time": "2024-12-18T18:58:12.529Z"
   },
   {
    "duration": 23,
    "start_time": "2024-12-18T18:58:12.537Z"
   },
   {
    "duration": 8,
    "start_time": "2024-12-18T18:58:12.564Z"
   },
   {
    "duration": 9,
    "start_time": "2024-12-18T18:58:12.574Z"
   },
   {
    "duration": 43,
    "start_time": "2024-12-18T18:58:12.612Z"
   },
   {
    "duration": 15,
    "start_time": "2024-12-18T18:58:12.657Z"
   },
   {
    "duration": 84,
    "start_time": "2024-12-18T18:58:12.673Z"
   },
   {
    "duration": 39,
    "start_time": "2024-12-18T18:58:12.759Z"
   },
   {
    "duration": 13,
    "start_time": "2024-12-18T18:58:12.800Z"
   },
   {
    "duration": 28,
    "start_time": "2024-12-18T18:58:12.814Z"
   },
   {
    "duration": 119,
    "start_time": "2024-12-18T18:58:12.844Z"
   },
   {
    "duration": 8,
    "start_time": "2024-12-18T18:58:12.965Z"
   },
   {
    "duration": 6,
    "start_time": "2024-12-18T18:58:12.975Z"
   },
   {
    "duration": 8,
    "start_time": "2024-12-18T18:58:12.982Z"
   },
   {
    "duration": 22,
    "start_time": "2024-12-18T18:58:12.992Z"
   },
   {
    "duration": 7,
    "start_time": "2024-12-18T18:58:13.015Z"
   },
   {
    "duration": 18,
    "start_time": "2024-12-18T18:58:13.025Z"
   },
   {
    "duration": 107,
    "start_time": "2024-12-18T18:58:13.045Z"
   },
   {
    "duration": 191,
    "start_time": "2024-12-18T18:58:13.154Z"
   },
   {
    "duration": 7,
    "start_time": "2024-12-18T18:58:13.347Z"
   },
   {
    "duration": 740,
    "start_time": "2024-12-18T19:00:36.264Z"
   },
   {
    "duration": 47,
    "start_time": "2024-12-18T19:03:28.775Z"
   },
   {
    "duration": 11,
    "start_time": "2024-12-18T19:04:30.581Z"
   },
   {
    "duration": 4,
    "start_time": "2024-12-18T19:05:36.712Z"
   },
   {
    "duration": 3,
    "start_time": "2024-12-18T19:06:00.580Z"
   },
   {
    "duration": 2,
    "start_time": "2024-12-18T19:16:08.783Z"
   },
   {
    "duration": 6,
    "start_time": "2024-12-18T19:16:08.788Z"
   },
   {
    "duration": 34,
    "start_time": "2024-12-18T19:16:08.796Z"
   },
   {
    "duration": 270,
    "start_time": "2024-12-18T19:16:08.831Z"
   },
   {
    "duration": 16,
    "start_time": "2024-12-18T19:16:09.105Z"
   },
   {
    "duration": 7,
    "start_time": "2024-12-18T19:16:09.123Z"
   },
   {
    "duration": 7,
    "start_time": "2024-12-18T19:16:09.136Z"
   },
   {
    "duration": 3,
    "start_time": "2024-12-18T19:16:09.145Z"
   },
   {
    "duration": 3,
    "start_time": "2024-12-18T19:16:09.150Z"
   },
   {
    "duration": 4,
    "start_time": "2024-12-18T19:16:09.155Z"
   },
   {
    "duration": 14,
    "start_time": "2024-12-18T19:16:09.160Z"
   },
   {
    "duration": 37,
    "start_time": "2024-12-18T19:16:09.175Z"
   },
   {
    "duration": 23,
    "start_time": "2024-12-18T19:16:09.214Z"
   },
   {
    "duration": 8,
    "start_time": "2024-12-18T19:16:09.241Z"
   },
   {
    "duration": 8,
    "start_time": "2024-12-18T19:16:09.251Z"
   },
   {
    "duration": 63,
    "start_time": "2024-12-18T19:16:09.261Z"
   },
   {
    "duration": 14,
    "start_time": "2024-12-18T19:16:09.326Z"
   },
   {
    "duration": 78,
    "start_time": "2024-12-18T19:16:09.342Z"
   },
   {
    "duration": 35,
    "start_time": "2024-12-18T19:16:09.421Z"
   },
   {
    "duration": 2,
    "start_time": "2024-12-18T19:16:09.459Z"
   },
   {
    "duration": 48,
    "start_time": "2024-12-18T19:16:09.463Z"
   },
   {
    "duration": 104,
    "start_time": "2024-12-18T19:16:09.513Z"
   },
   {
    "duration": 9,
    "start_time": "2024-12-18T19:16:09.619Z"
   },
   {
    "duration": 6,
    "start_time": "2024-12-18T19:16:09.630Z"
   },
   {
    "duration": 10,
    "start_time": "2024-12-18T19:16:09.637Z"
   },
   {
    "duration": 5,
    "start_time": "2024-12-18T19:16:09.648Z"
   },
   {
    "duration": 7,
    "start_time": "2024-12-18T19:16:09.654Z"
   },
   {
    "duration": 51,
    "start_time": "2024-12-18T19:16:09.662Z"
   },
   {
    "duration": 79,
    "start_time": "2024-12-18T19:16:09.714Z"
   },
   {
    "duration": 198,
    "start_time": "2024-12-18T19:16:09.795Z"
   },
   {
    "duration": 10,
    "start_time": "2024-12-18T19:16:09.994Z"
   },
   {
    "duration": 3,
    "start_time": "2024-12-18T19:16:10.012Z"
   },
   {
    "duration": 3,
    "start_time": "2024-12-18T19:16:52.508Z"
   },
   {
    "duration": 81,
    "start_time": "2024-12-18T19:40:51.868Z"
   },
   {
    "duration": 7,
    "start_time": "2024-12-18T19:42:48.406Z"
   },
   {
    "duration": 7,
    "start_time": "2024-12-18T19:43:00.378Z"
   },
   {
    "duration": 7,
    "start_time": "2024-12-18T19:43:06.457Z"
   },
   {
    "duration": 7,
    "start_time": "2024-12-18T19:43:15.378Z"
   },
   {
    "duration": 6,
    "start_time": "2024-12-18T19:44:46.606Z"
   },
   {
    "duration": 10,
    "start_time": "2024-12-18T20:01:22.299Z"
   },
   {
    "duration": 8,
    "start_time": "2024-12-18T20:01:30.916Z"
   },
   {
    "duration": 9,
    "start_time": "2024-12-18T20:01:38.008Z"
   },
   {
    "duration": 59,
    "start_time": "2024-12-18T20:04:34.455Z"
   },
   {
    "duration": 8,
    "start_time": "2024-12-18T20:04:46.974Z"
   },
   {
    "duration": 18,
    "start_time": "2024-12-18T20:06:50.955Z"
   },
   {
    "duration": 14,
    "start_time": "2024-12-18T20:15:11.400Z"
   },
   {
    "duration": 34,
    "start_time": "2024-12-18T20:15:22.777Z"
   },
   {
    "duration": 1062,
    "start_time": "2024-12-18T20:15:36.795Z"
   },
   {
    "duration": 28,
    "start_time": "2024-12-18T20:15:42.046Z"
   },
   {
    "duration": 25,
    "start_time": "2024-12-18T20:16:57.316Z"
   },
   {
    "duration": 28,
    "start_time": "2024-12-18T20:17:27.212Z"
   },
   {
    "duration": 29,
    "start_time": "2024-12-18T20:18:09.046Z"
   },
   {
    "duration": 11,
    "start_time": "2024-12-18T20:22:30.187Z"
   },
   {
    "duration": 7,
    "start_time": "2024-12-18T20:25:31.775Z"
   },
   {
    "duration": 7,
    "start_time": "2024-12-18T20:26:28.408Z"
   },
   {
    "duration": 785,
    "start_time": "2024-12-18T20:26:46.112Z"
   },
   {
    "duration": 11,
    "start_time": "2024-12-18T20:26:46.900Z"
   },
   {
    "duration": 39,
    "start_time": "2024-12-18T20:26:46.913Z"
   },
   {
    "duration": 287,
    "start_time": "2024-12-18T20:26:46.955Z"
   },
   {
    "duration": 13,
    "start_time": "2024-12-18T20:26:47.245Z"
   },
   {
    "duration": 8,
    "start_time": "2024-12-18T20:26:47.260Z"
   },
   {
    "duration": 9,
    "start_time": "2024-12-18T20:26:47.270Z"
   },
   {
    "duration": 4,
    "start_time": "2024-12-18T20:26:47.281Z"
   },
   {
    "duration": 4,
    "start_time": "2024-12-18T20:26:47.311Z"
   },
   {
    "duration": 4,
    "start_time": "2024-12-18T20:26:47.316Z"
   },
   {
    "duration": 13,
    "start_time": "2024-12-18T20:26:47.322Z"
   },
   {
    "duration": 5,
    "start_time": "2024-12-18T20:26:47.337Z"
   },
   {
    "duration": 23,
    "start_time": "2024-12-18T20:26:47.344Z"
   },
   {
    "duration": 8,
    "start_time": "2024-12-18T20:26:47.370Z"
   },
   {
    "duration": 39,
    "start_time": "2024-12-18T20:26:47.380Z"
   },
   {
    "duration": 44,
    "start_time": "2024-12-18T20:26:47.420Z"
   },
   {
    "duration": 14,
    "start_time": "2024-12-18T20:26:47.466Z"
   },
   {
    "duration": 83,
    "start_time": "2024-12-18T20:26:47.481Z"
   },
   {
    "duration": 35,
    "start_time": "2024-12-18T20:26:47.566Z"
   },
   {
    "duration": 3,
    "start_time": "2024-12-18T20:26:47.612Z"
   },
   {
    "duration": 26,
    "start_time": "2024-12-18T20:26:47.617Z"
   },
   {
    "duration": 117,
    "start_time": "2024-12-18T20:26:47.645Z"
   },
   {
    "duration": 9,
    "start_time": "2024-12-18T20:26:47.764Z"
   },
   {
    "duration": 13,
    "start_time": "2024-12-18T20:26:47.774Z"
   },
   {
    "duration": 8,
    "start_time": "2024-12-18T20:26:47.788Z"
   },
   {
    "duration": 17,
    "start_time": "2024-12-18T20:26:47.798Z"
   },
   {
    "duration": 6,
    "start_time": "2024-12-18T20:26:47.816Z"
   },
   {
    "duration": 7,
    "start_time": "2024-12-18T20:26:47.823Z"
   },
   {
    "duration": 109,
    "start_time": "2024-12-18T20:26:47.832Z"
   },
   {
    "duration": 8,
    "start_time": "2024-12-18T20:26:47.942Z"
   },
   {
    "duration": 218,
    "start_time": "2024-12-18T20:26:47.952Z"
   },
   {
    "duration": 11,
    "start_time": "2024-12-18T20:26:48.171Z"
   },
   {
    "duration": 3,
    "start_time": "2024-12-18T20:26:48.184Z"
   },
   {
    "duration": 76,
    "start_time": "2024-12-18T20:26:48.188Z"
   },
   {
    "duration": 9,
    "start_time": "2024-12-18T20:26:48.265Z"
   },
   {
    "duration": 3,
    "start_time": "2024-12-18T20:26:48.275Z"
   },
   {
    "duration": 44,
    "start_time": "2024-12-18T20:26:48.279Z"
   },
   {
    "duration": 6,
    "start_time": "2024-12-18T20:26:48.325Z"
   },
   {
    "duration": 29,
    "start_time": "2024-12-18T20:27:20.106Z"
   },
   {
    "duration": 40,
    "start_time": "2024-12-18T20:32:29.443Z"
   },
   {
    "duration": 29,
    "start_time": "2024-12-18T20:32:38.203Z"
   },
   {
    "duration": 1942,
    "start_time": "2024-12-18T20:59:46.296Z"
   },
   {
    "duration": 537,
    "start_time": "2024-12-18T20:59:59.336Z"
   },
   {
    "duration": 21,
    "start_time": "2024-12-18T21:00:12.416Z"
   },
   {
    "duration": 21,
    "start_time": "2024-12-18T21:00:44.641Z"
   },
   {
    "duration": 27,
    "start_time": "2024-12-18T21:01:36.056Z"
   },
   {
    "duration": 30,
    "start_time": "2024-12-18T21:01:41.848Z"
   },
   {
    "duration": 22,
    "start_time": "2024-12-18T21:08:17.376Z"
   },
   {
    "duration": 24,
    "start_time": "2024-12-18T21:08:26.381Z"
   },
   {
    "duration": 99,
    "start_time": "2024-12-18T21:09:15.671Z"
   },
   {
    "duration": 27,
    "start_time": "2024-12-18T21:09:59.095Z"
   },
   {
    "duration": 164,
    "start_time": "2024-12-18T21:10:15.915Z"
   },
   {
    "duration": 46,
    "start_time": "2024-12-18T21:10:46.235Z"
   },
   {
    "duration": 368,
    "start_time": "2024-12-18T21:10:55.903Z"
   },
   {
    "duration": 400,
    "start_time": "2024-12-18T21:11:13.924Z"
   },
   {
    "duration": 94,
    "start_time": "2024-12-18T21:11:40.125Z"
   },
   {
    "duration": 31,
    "start_time": "2024-12-18T21:11:53.636Z"
   },
   {
    "duration": 26,
    "start_time": "2024-12-18T21:12:03.788Z"
   },
   {
    "duration": 20,
    "start_time": "2024-12-18T21:12:13.201Z"
   },
   {
    "duration": 11917,
    "start_time": "2024-12-18T21:12:19.789Z"
   },
   {
    "duration": 370,
    "start_time": "2024-12-18T21:12:48.922Z"
   },
   {
    "duration": 31,
    "start_time": "2024-12-18T21:13:49.655Z"
   },
   {
    "duration": 23,
    "start_time": "2024-12-18T21:14:14.824Z"
   },
   {
    "duration": 20,
    "start_time": "2024-12-18T21:14:34.215Z"
   },
   {
    "duration": 7,
    "start_time": "2024-12-18T21:15:24.836Z"
   },
   {
    "duration": 16,
    "start_time": "2024-12-18T21:15:55.797Z"
   },
   {
    "duration": 1448,
    "start_time": "2024-12-18T21:16:10.535Z"
   },
   {
    "duration": 380,
    "start_time": "2024-12-18T21:16:33.476Z"
   },
   {
    "duration": 8,
    "start_time": "2024-12-18T21:17:08.847Z"
   },
   {
    "duration": 30,
    "start_time": "2024-12-18T21:19:35.695Z"
   },
   {
    "duration": 35,
    "start_time": "2024-12-18T21:23:21.735Z"
   },
   {
    "duration": 76,
    "start_time": "2024-12-18T21:24:08.121Z"
   },
   {
    "duration": 292,
    "start_time": "2024-12-18T21:24:32.335Z"
   },
   {
    "duration": 295,
    "start_time": "2024-12-18T21:24:48.832Z"
   },
   {
    "duration": 151,
    "start_time": "2024-12-18T21:26:09.139Z"
   },
   {
    "duration": 144,
    "start_time": "2024-12-18T21:26:22.888Z"
   },
   {
    "duration": 22,
    "start_time": "2024-12-18T21:26:45.035Z"
   },
   {
    "duration": 25,
    "start_time": "2024-12-18T21:26:51.272Z"
   },
   {
    "duration": 16,
    "start_time": "2024-12-18T21:34:43.417Z"
   },
   {
    "duration": 7,
    "start_time": "2024-12-18T21:34:58.767Z"
   },
   {
    "duration": 787,
    "start_time": "2024-12-18T21:37:38.113Z"
   },
   {
    "duration": 9,
    "start_time": "2024-12-18T21:37:38.903Z"
   },
   {
    "duration": 39,
    "start_time": "2024-12-18T21:37:38.913Z"
   },
   {
    "duration": 297,
    "start_time": "2024-12-18T21:37:38.953Z"
   },
   {
    "duration": 15,
    "start_time": "2024-12-18T21:37:39.253Z"
   },
   {
    "duration": 8,
    "start_time": "2024-12-18T21:37:39.270Z"
   },
   {
    "duration": 9,
    "start_time": "2024-12-18T21:37:39.281Z"
   },
   {
    "duration": 4,
    "start_time": "2024-12-18T21:37:39.291Z"
   },
   {
    "duration": 19,
    "start_time": "2024-12-18T21:37:39.296Z"
   },
   {
    "duration": 4,
    "start_time": "2024-12-18T21:37:39.316Z"
   },
   {
    "duration": 13,
    "start_time": "2024-12-18T21:37:39.322Z"
   },
   {
    "duration": 8,
    "start_time": "2024-12-18T21:37:39.336Z"
   },
   {
    "duration": 23,
    "start_time": "2024-12-18T21:37:39.345Z"
   },
   {
    "duration": 9,
    "start_time": "2024-12-18T21:37:39.371Z"
   },
   {
    "duration": 10,
    "start_time": "2024-12-18T21:37:39.412Z"
   },
   {
    "duration": 41,
    "start_time": "2024-12-18T21:37:39.423Z"
   },
   {
    "duration": 15,
    "start_time": "2024-12-18T21:37:39.466Z"
   },
   {
    "duration": 87,
    "start_time": "2024-12-18T21:37:39.482Z"
   },
   {
    "duration": 45,
    "start_time": "2024-12-18T21:37:39.571Z"
   },
   {
    "duration": 3,
    "start_time": "2024-12-18T21:37:39.618Z"
   },
   {
    "duration": 27,
    "start_time": "2024-12-18T21:37:39.622Z"
   },
   {
    "duration": 124,
    "start_time": "2024-12-18T21:37:39.651Z"
   },
   {
    "duration": 9,
    "start_time": "2024-12-18T21:37:39.777Z"
   },
   {
    "duration": 7,
    "start_time": "2024-12-18T21:37:39.788Z"
   },
   {
    "duration": 7,
    "start_time": "2024-12-18T21:37:39.812Z"
   },
   {
    "duration": 5,
    "start_time": "2024-12-18T21:37:39.821Z"
   },
   {
    "duration": 6,
    "start_time": "2024-12-18T21:37:39.828Z"
   },
   {
    "duration": 7,
    "start_time": "2024-12-18T21:37:39.835Z"
   },
   {
    "duration": 136,
    "start_time": "2024-12-18T21:37:39.843Z"
   },
   {
    "duration": 8,
    "start_time": "2024-12-18T21:37:39.980Z"
   },
   {
    "duration": 200,
    "start_time": "2024-12-18T21:37:39.990Z"
   },
   {
    "duration": 9,
    "start_time": "2024-12-18T21:37:40.192Z"
   },
   {
    "duration": 3,
    "start_time": "2024-12-18T21:37:40.211Z"
   },
   {
    "duration": 61,
    "start_time": "2024-12-18T21:37:40.216Z"
   },
   {
    "duration": 10,
    "start_time": "2024-12-18T21:37:40.279Z"
   },
   {
    "duration": 38,
    "start_time": "2024-12-18T21:37:40.292Z"
   },
   {
    "duration": 19,
    "start_time": "2024-12-18T21:37:40.331Z"
   },
   {
    "duration": 397,
    "start_time": "2024-12-18T21:37:40.351Z"
   },
   {
    "duration": 26,
    "start_time": "2024-12-18T21:37:40.750Z"
   },
   {
    "duration": 20,
    "start_time": "2024-12-18T21:37:40.778Z"
   },
   {
    "duration": 156,
    "start_time": "2024-12-18T21:37:40.802Z"
   },
   {
    "duration": 202,
    "start_time": "2024-12-18T21:37:40.960Z"
   },
   {
    "duration": 6,
    "start_time": "2024-12-18T21:37:41.164Z"
   },
   {
    "duration": 814,
    "start_time": "2024-12-18T21:39:43.781Z"
   },
   {
    "duration": 8,
    "start_time": "2024-12-18T21:39:44.597Z"
   },
   {
    "duration": 44,
    "start_time": "2024-12-18T21:39:44.606Z"
   },
   {
    "duration": 305,
    "start_time": "2024-12-18T21:39:44.651Z"
   },
   {
    "duration": 12,
    "start_time": "2024-12-18T21:39:44.958Z"
   },
   {
    "duration": 8,
    "start_time": "2024-12-18T21:39:44.973Z"
   },
   {
    "duration": 9,
    "start_time": "2024-12-18T21:39:44.982Z"
   },
   {
    "duration": 3,
    "start_time": "2024-12-18T21:39:44.992Z"
   },
   {
    "duration": 3,
    "start_time": "2024-12-18T21:39:45.013Z"
   },
   {
    "duration": 3,
    "start_time": "2024-12-18T21:39:45.018Z"
   },
   {
    "duration": 14,
    "start_time": "2024-12-18T21:39:45.023Z"
   },
   {
    "duration": 6,
    "start_time": "2024-12-18T21:39:45.038Z"
   },
   {
    "duration": 23,
    "start_time": "2024-12-18T21:39:45.046Z"
   },
   {
    "duration": 39,
    "start_time": "2024-12-18T21:39:45.073Z"
   },
   {
    "duration": 12,
    "start_time": "2024-12-18T21:39:45.114Z"
   },
   {
    "duration": 41,
    "start_time": "2024-12-18T21:39:45.127Z"
   },
   {
    "duration": 15,
    "start_time": "2024-12-18T21:39:45.170Z"
   },
   {
    "duration": 90,
    "start_time": "2024-12-18T21:39:45.186Z"
   },
   {
    "duration": 45,
    "start_time": "2024-12-18T21:39:45.278Z"
   },
   {
    "duration": 3,
    "start_time": "2024-12-18T21:39:45.325Z"
   },
   {
    "duration": 28,
    "start_time": "2024-12-18T21:39:45.329Z"
   },
   {
    "duration": 126,
    "start_time": "2024-12-18T21:39:45.359Z"
   },
   {
    "duration": 9,
    "start_time": "2024-12-18T21:39:45.487Z"
   },
   {
    "duration": 16,
    "start_time": "2024-12-18T21:39:45.497Z"
   },
   {
    "duration": 9,
    "start_time": "2024-12-18T21:39:45.514Z"
   },
   {
    "duration": 5,
    "start_time": "2024-12-18T21:39:45.525Z"
   },
   {
    "duration": 6,
    "start_time": "2024-12-18T21:39:45.533Z"
   },
   {
    "duration": 8,
    "start_time": "2024-12-18T21:39:45.541Z"
   },
   {
    "duration": 120,
    "start_time": "2024-12-18T21:39:45.551Z"
   },
   {
    "duration": 8,
    "start_time": "2024-12-18T21:39:45.673Z"
   },
   {
    "duration": 200,
    "start_time": "2024-12-18T21:39:45.682Z"
   },
   {
    "duration": 10,
    "start_time": "2024-12-18T21:39:45.884Z"
   },
   {
    "duration": 3,
    "start_time": "2024-12-18T21:39:45.895Z"
   },
   {
    "duration": 58,
    "start_time": "2024-12-18T21:39:45.912Z"
   },
   {
    "duration": 9,
    "start_time": "2024-12-18T21:39:45.971Z"
   },
   {
    "duration": 41,
    "start_time": "2024-12-18T21:39:45.981Z"
   },
   {
    "duration": 25,
    "start_time": "2024-12-18T21:39:46.024Z"
   },
   {
    "duration": 397,
    "start_time": "2024-12-18T21:39:46.051Z"
   },
   {
    "duration": 31,
    "start_time": "2024-12-18T21:39:46.450Z"
   },
   {
    "duration": 23,
    "start_time": "2024-12-18T21:39:46.483Z"
   },
   {
    "duration": 168,
    "start_time": "2024-12-18T21:39:46.511Z"
   },
   {
    "duration": 199,
    "start_time": "2024-12-18T21:39:46.681Z"
   },
   {
    "duration": 11,
    "start_time": "2024-12-18T21:39:46.881Z"
   },
   {
    "duration": 8,
    "start_time": "2024-12-18T21:40:30.560Z"
   },
   {
    "duration": 7,
    "start_time": "2024-12-18T21:40:41.680Z"
   },
   {
    "duration": 869,
    "start_time": "2024-12-18T21:41:57.442Z"
   },
   {
    "duration": 7,
    "start_time": "2024-12-18T21:41:58.315Z"
   },
   {
    "duration": 56,
    "start_time": "2024-12-18T21:41:58.324Z"
   },
   {
    "duration": 324,
    "start_time": "2024-12-18T21:41:58.382Z"
   },
   {
    "duration": 13,
    "start_time": "2024-12-18T21:41:58.709Z"
   },
   {
    "duration": 9,
    "start_time": "2024-12-18T21:41:58.724Z"
   },
   {
    "duration": 9,
    "start_time": "2024-12-18T21:41:58.735Z"
   },
   {
    "duration": 3,
    "start_time": "2024-12-18T21:41:58.746Z"
   },
   {
    "duration": 4,
    "start_time": "2024-12-18T21:41:58.751Z"
   },
   {
    "duration": 4,
    "start_time": "2024-12-18T21:41:58.757Z"
   },
   {
    "duration": 49,
    "start_time": "2024-12-18T21:41:58.763Z"
   },
   {
    "duration": 7,
    "start_time": "2024-12-18T21:41:58.815Z"
   },
   {
    "duration": 26,
    "start_time": "2024-12-18T21:41:58.824Z"
   },
   {
    "duration": 10,
    "start_time": "2024-12-18T21:41:58.854Z"
   },
   {
    "duration": 13,
    "start_time": "2024-12-18T21:41:58.866Z"
   },
   {
    "duration": 72,
    "start_time": "2024-12-18T21:41:58.881Z"
   },
   {
    "duration": 20,
    "start_time": "2024-12-18T21:41:58.955Z"
   },
   {
    "duration": 94,
    "start_time": "2024-12-18T21:41:58.977Z"
   },
   {
    "duration": 64,
    "start_time": "2024-12-18T21:41:59.073Z"
   },
   {
    "duration": 5,
    "start_time": "2024-12-18T21:41:59.139Z"
   },
   {
    "duration": 36,
    "start_time": "2024-12-18T21:41:59.145Z"
   },
   {
    "duration": 141,
    "start_time": "2024-12-18T21:41:59.183Z"
   },
   {
    "duration": 15,
    "start_time": "2024-12-18T21:41:59.326Z"
   },
   {
    "duration": 9,
    "start_time": "2024-12-18T21:41:59.343Z"
   },
   {
    "duration": 8,
    "start_time": "2024-12-18T21:41:59.354Z"
   },
   {
    "duration": 5,
    "start_time": "2024-12-18T21:41:59.364Z"
   },
   {
    "duration": 43,
    "start_time": "2024-12-18T21:41:59.371Z"
   },
   {
    "duration": 9,
    "start_time": "2024-12-18T21:41:59.415Z"
   },
   {
    "duration": 114,
    "start_time": "2024-12-18T21:41:59.425Z"
   },
   {
    "duration": 15,
    "start_time": "2024-12-18T21:41:59.541Z"
   },
   {
    "duration": 230,
    "start_time": "2024-12-18T21:41:59.557Z"
   },
   {
    "duration": 11,
    "start_time": "2024-12-18T21:41:59.789Z"
   },
   {
    "duration": 3,
    "start_time": "2024-12-18T21:41:59.811Z"
   },
   {
    "duration": 7,
    "start_time": "2024-12-18T21:41:59.816Z"
   },
   {
    "duration": 10,
    "start_time": "2024-12-18T21:41:59.825Z"
   },
   {
    "duration": 295,
    "start_time": "2024-12-18T21:41:59.836Z"
   },
   {
    "duration": 0,
    "start_time": "2024-12-18T21:42:00.133Z"
   },
   {
    "duration": 0,
    "start_time": "2024-12-18T21:42:00.138Z"
   },
   {
    "duration": 1,
    "start_time": "2024-12-18T21:42:00.139Z"
   },
   {
    "duration": 0,
    "start_time": "2024-12-18T21:42:00.141Z"
   },
   {
    "duration": 0,
    "start_time": "2024-12-18T21:42:00.142Z"
   },
   {
    "duration": 0,
    "start_time": "2024-12-18T21:42:00.147Z"
   },
   {
    "duration": 0,
    "start_time": "2024-12-18T21:42:00.148Z"
   },
   {
    "duration": 0,
    "start_time": "2024-12-18T21:42:00.150Z"
   },
   {
    "duration": 0,
    "start_time": "2024-12-18T21:42:00.151Z"
   },
   {
    "duration": 60,
    "start_time": "2024-12-18T21:43:05.961Z"
   },
   {
    "duration": 9,
    "start_time": "2024-12-18T21:43:13.199Z"
   },
   {
    "duration": 23,
    "start_time": "2024-12-18T21:43:16.000Z"
   },
   {
    "duration": 20,
    "start_time": "2024-12-18T21:43:18.257Z"
   },
   {
    "duration": 407,
    "start_time": "2024-12-18T21:43:18.637Z"
   },
   {
    "duration": 27,
    "start_time": "2024-12-18T21:43:21.940Z"
   },
   {
    "duration": 25,
    "start_time": "2024-12-18T21:43:25.199Z"
   },
   {
    "duration": 153,
    "start_time": "2024-12-18T21:43:25.512Z"
   },
   {
    "duration": 144,
    "start_time": "2024-12-18T21:43:27.812Z"
   },
   {
    "duration": 7,
    "start_time": "2024-12-18T21:43:28.600Z"
   },
   {
    "duration": 30,
    "start_time": "2024-12-18T21:43:45.683Z"
   },
   {
    "duration": 12,
    "start_time": "2024-12-18T21:44:40.045Z"
   },
   {
    "duration": 25,
    "start_time": "2024-12-18T21:45:02.403Z"
   },
   {
    "duration": 32,
    "start_time": "2024-12-18T21:45:54.260Z"
   },
   {
    "duration": 11,
    "start_time": "2024-12-18T21:47:26.980Z"
   },
   {
    "duration": 17,
    "start_time": "2024-12-18T21:48:02.879Z"
   },
   {
    "duration": 4,
    "start_time": "2024-12-18T21:48:14.239Z"
   },
   {
    "duration": 14,
    "start_time": "2024-12-18T21:48:18.799Z"
   },
   {
    "duration": 794,
    "start_time": "2024-12-18T21:48:49.398Z"
   },
   {
    "duration": 5,
    "start_time": "2024-12-18T21:48:50.194Z"
   },
   {
    "duration": 43,
    "start_time": "2024-12-18T21:48:50.201Z"
   },
   {
    "duration": 285,
    "start_time": "2024-12-18T21:48:50.245Z"
   },
   {
    "duration": 12,
    "start_time": "2024-12-18T21:48:50.534Z"
   },
   {
    "duration": 8,
    "start_time": "2024-12-18T21:48:50.547Z"
   },
   {
    "duration": 8,
    "start_time": "2024-12-18T21:48:50.557Z"
   },
   {
    "duration": 4,
    "start_time": "2024-12-18T21:48:50.566Z"
   },
   {
    "duration": 4,
    "start_time": "2024-12-18T21:48:50.572Z"
   },
   {
    "duration": 34,
    "start_time": "2024-12-18T21:48:50.578Z"
   },
   {
    "duration": 13,
    "start_time": "2024-12-18T21:48:50.614Z"
   },
   {
    "duration": 6,
    "start_time": "2024-12-18T21:48:50.628Z"
   },
   {
    "duration": 22,
    "start_time": "2024-12-18T21:48:50.636Z"
   },
   {
    "duration": 7,
    "start_time": "2024-12-18T21:48:50.663Z"
   },
   {
    "duration": 9,
    "start_time": "2024-12-18T21:48:50.672Z"
   },
   {
    "duration": 43,
    "start_time": "2024-12-18T21:48:50.713Z"
   },
   {
    "duration": 13,
    "start_time": "2024-12-18T21:48:50.757Z"
   },
   {
    "duration": 83,
    "start_time": "2024-12-18T21:48:50.772Z"
   },
   {
    "duration": 35,
    "start_time": "2024-12-18T21:48:50.857Z"
   },
   {
    "duration": 17,
    "start_time": "2024-12-18T21:48:50.895Z"
   },
   {
    "duration": 26,
    "start_time": "2024-12-18T21:48:50.913Z"
   },
   {
    "duration": 120,
    "start_time": "2024-12-18T21:48:50.941Z"
   },
   {
    "duration": 8,
    "start_time": "2024-12-18T21:48:51.063Z"
   },
   {
    "duration": 7,
    "start_time": "2024-12-18T21:48:51.073Z"
   },
   {
    "duration": 8,
    "start_time": "2024-12-18T21:48:51.081Z"
   },
   {
    "duration": 24,
    "start_time": "2024-12-18T21:48:51.090Z"
   },
   {
    "duration": 6,
    "start_time": "2024-12-18T21:48:51.115Z"
   },
   {
    "duration": 8,
    "start_time": "2024-12-18T21:48:51.122Z"
   },
   {
    "duration": 104,
    "start_time": "2024-12-18T21:48:51.131Z"
   },
   {
    "duration": 8,
    "start_time": "2024-12-18T21:48:51.237Z"
   },
   {
    "duration": 203,
    "start_time": "2024-12-18T21:48:51.246Z"
   },
   {
    "duration": 9,
    "start_time": "2024-12-18T21:48:51.451Z"
   },
   {
    "duration": 3,
    "start_time": "2024-12-18T21:48:51.461Z"
   },
   {
    "duration": 8,
    "start_time": "2024-12-18T21:48:51.466Z"
   },
   {
    "duration": 6,
    "start_time": "2024-12-18T21:48:51.475Z"
   },
   {
    "duration": 86,
    "start_time": "2024-12-18T21:48:51.483Z"
   },
   {
    "duration": 8,
    "start_time": "2024-12-18T21:48:51.570Z"
   },
   {
    "duration": 36,
    "start_time": "2024-12-18T21:48:51.580Z"
   },
   {
    "duration": 18,
    "start_time": "2024-12-18T21:48:51.618Z"
   },
   {
    "duration": 415,
    "start_time": "2024-12-18T21:48:51.637Z"
   },
   {
    "duration": 26,
    "start_time": "2024-12-18T21:48:52.056Z"
   },
   {
    "duration": 21,
    "start_time": "2024-12-18T21:48:52.084Z"
   },
   {
    "duration": 150,
    "start_time": "2024-12-18T21:48:52.106Z"
   },
   {
    "duration": 205,
    "start_time": "2024-12-18T21:48:52.259Z"
   },
   {
    "duration": 2,
    "start_time": "2024-12-18T21:48:52.466Z"
   },
   {
    "duration": 129,
    "start_time": "2024-12-18T21:50:14.828Z"
   },
   {
    "duration": 4,
    "start_time": "2024-12-18T21:50:21.919Z"
   },
   {
    "duration": 21,
    "start_time": "2024-12-18T21:51:09.837Z"
   },
   {
    "duration": 19,
    "start_time": "2024-12-18T21:51:32.313Z"
   },
   {
    "duration": 27,
    "start_time": "2024-12-18T21:51:41.978Z"
   },
   {
    "duration": 17,
    "start_time": "2024-12-18T21:53:28.856Z"
   },
   {
    "duration": 13,
    "start_time": "2024-12-18T21:53:38.579Z"
   },
   {
    "duration": 119,
    "start_time": "2024-12-18T21:54:19.496Z"
   },
   {
    "duration": 115,
    "start_time": "2024-12-18T21:54:31.036Z"
   },
   {
    "duration": 384,
    "start_time": "2024-12-18T21:54:47.257Z"
   },
   {
    "duration": 234,
    "start_time": "2024-12-18T21:55:01.136Z"
   },
   {
    "duration": 108,
    "start_time": "2024-12-18T21:55:31.903Z"
   },
   {
    "duration": 110,
    "start_time": "2024-12-18T21:55:46.406Z"
   },
   {
    "duration": 124,
    "start_time": "2024-12-18T21:56:44.851Z"
   },
   {
    "duration": 218,
    "start_time": "2024-12-18T21:57:29.588Z"
   },
   {
    "duration": 118,
    "start_time": "2024-12-18T21:57:39.809Z"
   },
   {
    "duration": 122,
    "start_time": "2024-12-18T21:57:55.158Z"
   },
   {
    "duration": 123,
    "start_time": "2024-12-18T21:58:20.108Z"
   },
   {
    "duration": 2491,
    "start_time": "2024-12-19T19:20:08.059Z"
   },
   {
    "duration": 8,
    "start_time": "2024-12-19T19:20:10.552Z"
   },
   {
    "duration": 60,
    "start_time": "2024-12-19T19:20:10.561Z"
   },
   {
    "duration": 330,
    "start_time": "2024-12-19T19:20:10.623Z"
   },
   {
    "duration": 16,
    "start_time": "2024-12-19T19:20:10.955Z"
   },
   {
    "duration": 8,
    "start_time": "2024-12-19T19:20:10.973Z"
   },
   {
    "duration": 10,
    "start_time": "2024-12-19T19:20:10.983Z"
   },
   {
    "duration": 20,
    "start_time": "2024-12-19T19:20:10.994Z"
   },
   {
    "duration": 4,
    "start_time": "2024-12-19T19:20:11.016Z"
   },
   {
    "duration": 3,
    "start_time": "2024-12-19T19:20:11.022Z"
   },
   {
    "duration": 13,
    "start_time": "2024-12-19T19:20:11.027Z"
   },
   {
    "duration": 7,
    "start_time": "2024-12-19T19:20:11.041Z"
   },
   {
    "duration": 22,
    "start_time": "2024-12-19T19:20:11.050Z"
   },
   {
    "duration": 38,
    "start_time": "2024-12-19T19:20:11.076Z"
   },
   {
    "duration": 9,
    "start_time": "2024-12-19T19:20:11.115Z"
   },
   {
    "duration": 42,
    "start_time": "2024-12-19T19:20:11.125Z"
   },
   {
    "duration": 15,
    "start_time": "2024-12-19T19:20:11.168Z"
   },
   {
    "duration": 91,
    "start_time": "2024-12-19T19:20:11.185Z"
   },
   {
    "duration": 45,
    "start_time": "2024-12-19T19:20:11.277Z"
   },
   {
    "duration": 3,
    "start_time": "2024-12-19T19:20:11.324Z"
   },
   {
    "duration": 27,
    "start_time": "2024-12-19T19:20:11.328Z"
   },
   {
    "duration": 118,
    "start_time": "2024-12-19T19:20:11.357Z"
   },
   {
    "duration": 9,
    "start_time": "2024-12-19T19:20:11.476Z"
   },
   {
    "duration": 6,
    "start_time": "2024-12-19T19:20:11.487Z"
   },
   {
    "duration": 22,
    "start_time": "2024-12-19T19:20:11.495Z"
   },
   {
    "duration": 5,
    "start_time": "2024-12-19T19:20:11.519Z"
   },
   {
    "duration": 7,
    "start_time": "2024-12-19T19:20:11.525Z"
   },
   {
    "duration": 7,
    "start_time": "2024-12-19T19:20:11.533Z"
   },
   {
    "duration": 111,
    "start_time": "2024-12-19T19:20:11.542Z"
   },
   {
    "duration": 7,
    "start_time": "2024-12-19T19:20:11.655Z"
   },
   {
    "duration": 194,
    "start_time": "2024-12-19T19:20:11.663Z"
   },
   {
    "duration": 12,
    "start_time": "2024-12-19T19:20:11.859Z"
   },
   {
    "duration": 5,
    "start_time": "2024-12-19T19:20:11.872Z"
   },
   {
    "duration": 6,
    "start_time": "2024-12-19T19:20:11.879Z"
   },
   {
    "duration": 26,
    "start_time": "2024-12-19T19:20:11.887Z"
   },
   {
    "duration": 63,
    "start_time": "2024-12-19T19:20:11.914Z"
   },
   {
    "duration": 9,
    "start_time": "2024-12-19T19:20:11.978Z"
   },
   {
    "duration": 37,
    "start_time": "2024-12-19T19:20:11.989Z"
   },
   {
    "duration": 18,
    "start_time": "2024-12-19T19:20:12.027Z"
   },
   {
    "duration": 429,
    "start_time": "2024-12-19T19:20:12.047Z"
   },
   {
    "duration": 27,
    "start_time": "2024-12-19T19:20:12.482Z"
   },
   {
    "duration": 20,
    "start_time": "2024-12-19T19:20:12.510Z"
   },
   {
    "duration": 157,
    "start_time": "2024-12-19T19:20:12.531Z"
   },
   {
    "duration": 150,
    "start_time": "2024-12-19T19:20:12.690Z"
   },
   {
    "duration": 26,
    "start_time": "2024-12-19T19:20:12.842Z"
   },
   {
    "duration": 13,
    "start_time": "2024-12-19T19:20:12.869Z"
   },
   {
    "duration": 141,
    "start_time": "2024-12-19T19:20:12.883Z"
   },
   {
    "duration": 7,
    "start_time": "2024-12-19T19:25:02.966Z"
   },
   {
    "duration": 2,
    "start_time": "2024-12-19T19:29:53.051Z"
   },
   {
    "duration": 4,
    "start_time": "2024-12-19T19:48:11.877Z"
   },
   {
    "duration": 4,
    "start_time": "2024-12-19T19:48:21.853Z"
   },
   {
    "duration": 8,
    "start_time": "2024-12-19T19:50:03.527Z"
   },
   {
    "duration": 7,
    "start_time": "2024-12-19T19:50:24.673Z"
   },
   {
    "duration": 8,
    "start_time": "2024-12-19T19:50:40.725Z"
   },
   {
    "duration": 933,
    "start_time": "2024-12-19T19:50:58.854Z"
   },
   {
    "duration": 7,
    "start_time": "2024-12-19T19:51:16.700Z"
   },
   {
    "duration": 8,
    "start_time": "2024-12-19T19:51:30.840Z"
   },
   {
    "duration": 8,
    "start_time": "2024-12-19T19:52:09.244Z"
   },
   {
    "duration": 8,
    "start_time": "2024-12-19T19:52:23.022Z"
   },
   {
    "duration": 11,
    "start_time": "2024-12-19T19:55:33.433Z"
   },
   {
    "duration": 2512,
    "start_time": "2024-12-19T20:37:34.863Z"
   },
   {
    "duration": 10,
    "start_time": "2024-12-19T20:37:37.377Z"
   },
   {
    "duration": 66,
    "start_time": "2024-12-19T20:37:37.388Z"
   },
   {
    "duration": 319,
    "start_time": "2024-12-19T20:37:37.455Z"
   },
   {
    "duration": 21,
    "start_time": "2024-12-19T20:37:37.777Z"
   },
   {
    "duration": 10,
    "start_time": "2024-12-19T20:37:37.799Z"
   },
   {
    "duration": 11,
    "start_time": "2024-12-19T20:37:37.811Z"
   },
   {
    "duration": 4,
    "start_time": "2024-12-19T20:37:37.823Z"
   },
   {
    "duration": 3,
    "start_time": "2024-12-19T20:37:37.830Z"
   },
   {
    "duration": 3,
    "start_time": "2024-12-19T20:37:37.835Z"
   },
   {
    "duration": 13,
    "start_time": "2024-12-19T20:37:37.839Z"
   },
   {
    "duration": 6,
    "start_time": "2024-12-19T20:37:37.854Z"
   },
   {
    "duration": 62,
    "start_time": "2024-12-19T20:37:37.862Z"
   },
   {
    "duration": 13,
    "start_time": "2024-12-19T20:37:37.929Z"
   },
   {
    "duration": 10,
    "start_time": "2024-12-19T20:37:37.944Z"
   },
   {
    "duration": 62,
    "start_time": "2024-12-19T20:37:37.956Z"
   },
   {
    "duration": 18,
    "start_time": "2024-12-19T20:37:38.020Z"
   },
   {
    "duration": 85,
    "start_time": "2024-12-19T20:37:38.039Z"
   },
   {
    "duration": 36,
    "start_time": "2024-12-19T20:37:38.126Z"
   },
   {
    "duration": 2,
    "start_time": "2024-12-19T20:37:38.164Z"
   },
   {
    "duration": 43,
    "start_time": "2024-12-19T20:37:38.169Z"
   },
   {
    "duration": 112,
    "start_time": "2024-12-19T20:37:38.214Z"
   },
   {
    "duration": 8,
    "start_time": "2024-12-19T20:37:38.328Z"
   },
   {
    "duration": 7,
    "start_time": "2024-12-19T20:37:38.338Z"
   },
   {
    "duration": 7,
    "start_time": "2024-12-19T20:37:38.347Z"
   },
   {
    "duration": 4,
    "start_time": "2024-12-19T20:37:38.356Z"
   },
   {
    "duration": 5,
    "start_time": "2024-12-19T20:37:38.362Z"
   },
   {
    "duration": 4,
    "start_time": "2024-12-19T20:37:38.369Z"
   },
   {
    "duration": 9,
    "start_time": "2024-12-19T20:37:38.410Z"
   },
   {
    "duration": 10,
    "start_time": "2024-12-19T20:37:38.420Z"
   },
   {
    "duration": 109,
    "start_time": "2024-12-19T20:37:38.432Z"
   },
   {
    "duration": 7,
    "start_time": "2024-12-19T20:37:38.543Z"
   },
   {
    "duration": 205,
    "start_time": "2024-12-19T20:37:38.551Z"
   },
   {
    "duration": 9,
    "start_time": "2024-12-19T20:37:38.758Z"
   },
   {
    "duration": 3,
    "start_time": "2024-12-19T20:37:38.769Z"
   },
   {
    "duration": 7,
    "start_time": "2024-12-19T20:37:38.774Z"
   },
   {
    "duration": 29,
    "start_time": "2024-12-19T20:37:38.782Z"
   },
   {
    "duration": 62,
    "start_time": "2024-12-19T20:37:38.814Z"
   },
   {
    "duration": 8,
    "start_time": "2024-12-19T20:37:38.878Z"
   },
   {
    "duration": 38,
    "start_time": "2024-12-19T20:37:38.888Z"
   },
   {
    "duration": 18,
    "start_time": "2024-12-19T20:37:38.931Z"
   },
   {
    "duration": 446,
    "start_time": "2024-12-19T20:37:38.951Z"
   },
   {
    "duration": 27,
    "start_time": "2024-12-19T20:37:39.399Z"
   },
   {
    "duration": 21,
    "start_time": "2024-12-19T20:37:39.428Z"
   },
   {
    "duration": 168,
    "start_time": "2024-12-19T20:37:39.451Z"
   },
   {
    "duration": 159,
    "start_time": "2024-12-19T20:37:39.621Z"
   },
   {
    "duration": 31,
    "start_time": "2024-12-19T20:37:39.783Z"
   },
   {
    "duration": 14,
    "start_time": "2024-12-19T20:37:39.816Z"
   },
   {
    "duration": 137,
    "start_time": "2024-12-19T20:37:39.831Z"
   },
   {
    "duration": 7,
    "start_time": "2024-12-19T20:37:39.970Z"
   },
   {
    "duration": 13,
    "start_time": "2024-12-19T20:40:18.198Z"
   },
   {
    "duration": 8,
    "start_time": "2024-12-19T20:41:05.341Z"
   },
   {
    "duration": 283,
    "start_time": "2024-12-19T20:41:18.896Z"
   },
   {
    "duration": 9,
    "start_time": "2024-12-19T20:41:33.956Z"
   },
   {
    "duration": 8,
    "start_time": "2024-12-19T20:41:42.810Z"
   },
   {
    "duration": 798,
    "start_time": "2024-12-19T20:52:22.001Z"
   },
   {
    "duration": 7,
    "start_time": "2024-12-19T20:52:22.802Z"
   },
   {
    "duration": 42,
    "start_time": "2024-12-19T20:52:22.810Z"
   },
   {
    "duration": 298,
    "start_time": "2024-12-19T20:52:22.853Z"
   },
   {
    "duration": 13,
    "start_time": "2024-12-19T20:52:23.154Z"
   },
   {
    "duration": 9,
    "start_time": "2024-12-19T20:52:23.170Z"
   },
   {
    "duration": 9,
    "start_time": "2024-12-19T20:52:23.181Z"
   },
   {
    "duration": 19,
    "start_time": "2024-12-19T20:52:23.191Z"
   },
   {
    "duration": 4,
    "start_time": "2024-12-19T20:52:23.211Z"
   },
   {
    "duration": 4,
    "start_time": "2024-12-19T20:52:23.217Z"
   },
   {
    "duration": 13,
    "start_time": "2024-12-19T20:52:23.222Z"
   },
   {
    "duration": 7,
    "start_time": "2024-12-19T20:52:23.237Z"
   },
   {
    "duration": 25,
    "start_time": "2024-12-19T20:52:23.246Z"
   },
   {
    "duration": 47,
    "start_time": "2024-12-19T20:52:23.275Z"
   },
   {
    "duration": 11,
    "start_time": "2024-12-19T20:52:23.323Z"
   },
   {
    "duration": 49,
    "start_time": "2024-12-19T20:52:23.336Z"
   },
   {
    "duration": 31,
    "start_time": "2024-12-19T20:52:23.387Z"
   },
   {
    "duration": 68,
    "start_time": "2024-12-19T20:52:23.420Z"
   },
   {
    "duration": 52,
    "start_time": "2024-12-19T20:52:23.490Z"
   },
   {
    "duration": 3,
    "start_time": "2024-12-19T20:52:23.544Z"
   },
   {
    "duration": 28,
    "start_time": "2024-12-19T20:52:23.549Z"
   },
   {
    "duration": 123,
    "start_time": "2024-12-19T20:52:23.579Z"
   },
   {
    "duration": 9,
    "start_time": "2024-12-19T20:52:23.709Z"
   },
   {
    "duration": 7,
    "start_time": "2024-12-19T20:52:23.720Z"
   },
   {
    "duration": 8,
    "start_time": "2024-12-19T20:52:23.728Z"
   },
   {
    "duration": 5,
    "start_time": "2024-12-19T20:52:23.737Z"
   },
   {
    "duration": 6,
    "start_time": "2024-12-19T20:52:23.744Z"
   },
   {
    "duration": 4,
    "start_time": "2024-12-19T20:52:23.751Z"
   },
   {
    "duration": 52,
    "start_time": "2024-12-19T20:52:23.757Z"
   },
   {
    "duration": 7,
    "start_time": "2024-12-19T20:52:23.811Z"
   },
   {
    "duration": 98,
    "start_time": "2024-12-19T20:52:23.819Z"
   },
   {
    "duration": 7,
    "start_time": "2024-12-19T20:52:23.919Z"
   },
   {
    "duration": 215,
    "start_time": "2024-12-19T20:52:23.928Z"
   },
   {
    "duration": 9,
    "start_time": "2024-12-19T20:52:24.145Z"
   },
   {
    "duration": 3,
    "start_time": "2024-12-19T20:52:24.155Z"
   },
   {
    "duration": 7,
    "start_time": "2024-12-19T20:52:24.161Z"
   },
   {
    "duration": 6,
    "start_time": "2024-12-19T20:52:24.170Z"
   },
   {
    "duration": 89,
    "start_time": "2024-12-19T20:52:24.177Z"
   },
   {
    "duration": 8,
    "start_time": "2024-12-19T20:52:24.268Z"
   },
   {
    "duration": 44,
    "start_time": "2024-12-19T20:52:24.278Z"
   },
   {
    "duration": 18,
    "start_time": "2024-12-19T20:52:24.327Z"
   },
   {
    "duration": 407,
    "start_time": "2024-12-19T20:52:24.347Z"
   },
   {
    "duration": 27,
    "start_time": "2024-12-19T20:52:24.756Z"
   },
   {
    "duration": 21,
    "start_time": "2024-12-19T20:52:24.784Z"
   },
   {
    "duration": 151,
    "start_time": "2024-12-19T20:52:24.806Z"
   },
   {
    "duration": 207,
    "start_time": "2024-12-19T20:52:24.958Z"
   },
   {
    "duration": 26,
    "start_time": "2024-12-19T20:52:25.167Z"
   },
   {
    "duration": 26,
    "start_time": "2024-12-19T20:52:25.195Z"
   },
   {
    "duration": 132,
    "start_time": "2024-12-19T20:52:25.222Z"
   },
   {
    "duration": 15,
    "start_time": "2024-12-19T20:52:25.356Z"
   },
   {
    "duration": 10,
    "start_time": "2024-12-19T20:52:25.373Z"
   },
   {
    "duration": 861,
    "start_time": "2024-12-19T20:54:56.245Z"
   },
   {
    "duration": 7,
    "start_time": "2024-12-19T20:54:57.108Z"
   },
   {
    "duration": 40,
    "start_time": "2024-12-19T20:54:57.116Z"
   },
   {
    "duration": 327,
    "start_time": "2024-12-19T20:54:57.158Z"
   },
   {
    "duration": 12,
    "start_time": "2024-12-19T20:54:57.487Z"
   },
   {
    "duration": 14,
    "start_time": "2024-12-19T20:54:57.502Z"
   },
   {
    "duration": 9,
    "start_time": "2024-12-19T20:54:57.518Z"
   },
   {
    "duration": 4,
    "start_time": "2024-12-19T20:54:57.528Z"
   },
   {
    "duration": 4,
    "start_time": "2024-12-19T20:54:57.533Z"
   },
   {
    "duration": 3,
    "start_time": "2024-12-19T20:54:57.541Z"
   },
   {
    "duration": 13,
    "start_time": "2024-12-19T20:54:57.545Z"
   },
   {
    "duration": 6,
    "start_time": "2024-12-19T20:54:57.559Z"
   },
   {
    "duration": 63,
    "start_time": "2024-12-19T20:54:57.568Z"
   },
   {
    "duration": 9,
    "start_time": "2024-12-19T20:54:57.633Z"
   },
   {
    "duration": 9,
    "start_time": "2024-12-19T20:54:57.644Z"
   },
   {
    "duration": 63,
    "start_time": "2024-12-19T20:54:57.655Z"
   },
   {
    "duration": 14,
    "start_time": "2024-12-19T20:54:57.719Z"
   },
   {
    "duration": 88,
    "start_time": "2024-12-19T20:54:57.735Z"
   },
   {
    "duration": 35,
    "start_time": "2024-12-19T20:54:57.826Z"
   },
   {
    "duration": 3,
    "start_time": "2024-12-19T20:54:57.863Z"
   },
   {
    "duration": 49,
    "start_time": "2024-12-19T20:54:57.867Z"
   },
   {
    "duration": 117,
    "start_time": "2024-12-19T20:54:57.918Z"
   },
   {
    "duration": 10,
    "start_time": "2024-12-19T20:54:58.037Z"
   },
   {
    "duration": 9,
    "start_time": "2024-12-19T20:54:58.049Z"
   },
   {
    "duration": 25,
    "start_time": "2024-12-19T20:54:58.059Z"
   },
   {
    "duration": 7,
    "start_time": "2024-12-19T20:54:58.086Z"
   },
   {
    "duration": 14,
    "start_time": "2024-12-19T20:54:58.095Z"
   },
   {
    "duration": 4,
    "start_time": "2024-12-19T20:54:58.114Z"
   },
   {
    "duration": 11,
    "start_time": "2024-12-19T20:54:58.119Z"
   },
   {
    "duration": 7,
    "start_time": "2024-12-19T20:54:58.133Z"
   },
   {
    "duration": 122,
    "start_time": "2024-12-19T20:54:58.142Z"
   },
   {
    "duration": 8,
    "start_time": "2024-12-19T20:54:58.266Z"
   },
   {
    "duration": 207,
    "start_time": "2024-12-19T20:54:58.276Z"
   },
   {
    "duration": 11,
    "start_time": "2024-12-19T20:54:58.485Z"
   },
   {
    "duration": 12,
    "start_time": "2024-12-19T20:54:58.498Z"
   },
   {
    "duration": 7,
    "start_time": "2024-12-19T20:54:58.511Z"
   },
   {
    "duration": 6,
    "start_time": "2024-12-19T20:54:58.520Z"
   },
   {
    "duration": 89,
    "start_time": "2024-12-19T20:54:58.527Z"
   },
   {
    "duration": 8,
    "start_time": "2024-12-19T20:54:58.618Z"
   },
   {
    "duration": 22,
    "start_time": "2024-12-19T20:54:58.627Z"
   },
   {
    "duration": 19,
    "start_time": "2024-12-19T20:54:58.651Z"
   },
   {
    "duration": 430,
    "start_time": "2024-12-19T20:54:58.672Z"
   },
   {
    "duration": 27,
    "start_time": "2024-12-19T20:54:59.103Z"
   },
   {
    "duration": 24,
    "start_time": "2024-12-19T20:54:59.132Z"
   },
   {
    "duration": 176,
    "start_time": "2024-12-19T20:54:59.158Z"
   },
   {
    "duration": 208,
    "start_time": "2024-12-19T20:54:59.336Z"
   },
   {
    "duration": 27,
    "start_time": "2024-12-19T20:54:59.545Z"
   },
   {
    "duration": 13,
    "start_time": "2024-12-19T20:54:59.575Z"
   },
   {
    "duration": 144,
    "start_time": "2024-12-19T20:54:59.590Z"
   },
   {
    "duration": 7,
    "start_time": "2024-12-19T20:54:59.736Z"
   },
   {
    "duration": 12,
    "start_time": "2024-12-19T20:54:59.745Z"
   },
   {
    "duration": 33,
    "start_time": "2024-12-19T20:56:00.685Z"
   },
   {
    "duration": 10,
    "start_time": "2024-12-19T20:56:44.293Z"
   },
   {
    "duration": 22,
    "start_time": "2024-12-19T21:09:30.117Z"
   },
   {
    "duration": 21,
    "start_time": "2024-12-19T21:09:46.657Z"
   },
   {
    "duration": 2608,
    "start_time": "2024-12-20T02:10:54.672Z"
   },
   {
    "duration": 9,
    "start_time": "2024-12-20T02:10:57.282Z"
   },
   {
    "duration": 63,
    "start_time": "2024-12-20T02:10:57.293Z"
   },
   {
    "duration": 323,
    "start_time": "2024-12-20T02:10:57.357Z"
   },
   {
    "duration": 21,
    "start_time": "2024-12-20T02:10:57.685Z"
   },
   {
    "duration": 9,
    "start_time": "2024-12-20T02:10:57.708Z"
   },
   {
    "duration": 13,
    "start_time": "2024-12-20T02:10:57.720Z"
   },
   {
    "duration": 4,
    "start_time": "2024-12-20T02:10:57.735Z"
   },
   {
    "duration": 6,
    "start_time": "2024-12-20T02:10:57.741Z"
   },
   {
    "duration": 4,
    "start_time": "2024-12-20T02:10:57.748Z"
   },
   {
    "duration": 14,
    "start_time": "2024-12-20T02:10:57.771Z"
   },
   {
    "duration": 7,
    "start_time": "2024-12-20T02:10:57.786Z"
   },
   {
    "duration": 25,
    "start_time": "2024-12-20T02:10:57.795Z"
   },
   {
    "duration": 8,
    "start_time": "2024-12-20T02:10:57.824Z"
   },
   {
    "duration": 35,
    "start_time": "2024-12-20T02:10:57.835Z"
   },
   {
    "duration": 44,
    "start_time": "2024-12-20T02:10:57.872Z"
   },
   {
    "duration": 15,
    "start_time": "2024-12-20T02:10:57.917Z"
   },
   {
    "duration": 89,
    "start_time": "2024-12-20T02:10:57.933Z"
   },
   {
    "duration": 47,
    "start_time": "2024-12-20T02:10:58.025Z"
   },
   {
    "duration": 4,
    "start_time": "2024-12-20T02:10:58.074Z"
   },
   {
    "duration": 27,
    "start_time": "2024-12-20T02:10:58.080Z"
   },
   {
    "duration": 121,
    "start_time": "2024-12-20T02:10:58.109Z"
   },
   {
    "duration": 10,
    "start_time": "2024-12-20T02:10:58.231Z"
   },
   {
    "duration": 7,
    "start_time": "2024-12-20T02:10:58.242Z"
   },
   {
    "duration": 25,
    "start_time": "2024-12-20T02:10:58.251Z"
   },
   {
    "duration": 5,
    "start_time": "2024-12-20T02:10:58.277Z"
   },
   {
    "duration": 6,
    "start_time": "2024-12-20T02:10:58.284Z"
   },
   {
    "duration": 4,
    "start_time": "2024-12-20T02:10:58.292Z"
   },
   {
    "duration": 9,
    "start_time": "2024-12-20T02:10:58.298Z"
   },
   {
    "duration": 7,
    "start_time": "2024-12-20T02:10:58.309Z"
   },
   {
    "duration": 132,
    "start_time": "2024-12-20T02:10:58.317Z"
   },
   {
    "duration": 7,
    "start_time": "2024-12-20T02:10:58.451Z"
   },
   {
    "duration": 201,
    "start_time": "2024-12-20T02:10:58.470Z"
   },
   {
    "duration": 10,
    "start_time": "2024-12-20T02:10:58.672Z"
   },
   {
    "duration": 3,
    "start_time": "2024-12-20T02:10:58.684Z"
   },
   {
    "duration": 7,
    "start_time": "2024-12-20T02:10:58.688Z"
   },
   {
    "duration": 5,
    "start_time": "2024-12-20T02:10:58.697Z"
   },
   {
    "duration": 98,
    "start_time": "2024-12-20T02:10:58.705Z"
   },
   {
    "duration": 8,
    "start_time": "2024-12-20T02:10:58.805Z"
   },
   {
    "duration": 22,
    "start_time": "2024-12-20T02:10:58.815Z"
   },
   {
    "duration": 36,
    "start_time": "2024-12-20T02:10:58.841Z"
   },
   {
    "duration": 396,
    "start_time": "2024-12-20T02:10:58.878Z"
   },
   {
    "duration": 27,
    "start_time": "2024-12-20T02:10:59.277Z"
   },
   {
    "duration": 21,
    "start_time": "2024-12-20T02:10:59.306Z"
   },
   {
    "duration": 174,
    "start_time": "2024-12-20T02:10:59.329Z"
   },
   {
    "duration": 160,
    "start_time": "2024-12-20T02:10:59.505Z"
   },
   {
    "duration": 27,
    "start_time": "2024-12-20T02:10:59.671Z"
   },
   {
    "duration": 13,
    "start_time": "2024-12-20T02:10:59.700Z"
   },
   {
    "duration": 202,
    "start_time": "2024-12-20T02:10:59.715Z"
   },
   {
    "duration": 7,
    "start_time": "2024-12-20T02:10:59.919Z"
   },
   {
    "duration": 30,
    "start_time": "2024-12-20T02:21:41.188Z"
   },
   {
    "duration": 21,
    "start_time": "2024-12-20T02:22:37.470Z"
   },
   {
    "duration": 27,
    "start_time": "2024-12-20T02:39:36.668Z"
   },
   {
    "duration": 846,
    "start_time": "2024-12-20T02:44:01.404Z"
   },
   {
    "duration": 7,
    "start_time": "2024-12-20T02:44:02.252Z"
   },
   {
    "duration": 45,
    "start_time": "2024-12-20T02:44:02.261Z"
   },
   {
    "duration": 293,
    "start_time": "2024-12-20T02:44:02.308Z"
   },
   {
    "duration": 12,
    "start_time": "2024-12-20T02:44:02.604Z"
   },
   {
    "duration": 8,
    "start_time": "2024-12-20T02:44:02.618Z"
   },
   {
    "duration": 8,
    "start_time": "2024-12-20T02:44:02.628Z"
   },
   {
    "duration": 3,
    "start_time": "2024-12-20T02:44:02.638Z"
   },
   {
    "duration": 28,
    "start_time": "2024-12-20T02:44:02.643Z"
   },
   {
    "duration": 4,
    "start_time": "2024-12-20T02:44:02.673Z"
   },
   {
    "duration": 16,
    "start_time": "2024-12-20T02:44:02.679Z"
   },
   {
    "duration": 6,
    "start_time": "2024-12-20T02:44:02.697Z"
   },
   {
    "duration": 23,
    "start_time": "2024-12-20T02:44:02.705Z"
   },
   {
    "duration": 39,
    "start_time": "2024-12-20T02:44:02.732Z"
   },
   {
    "duration": 9,
    "start_time": "2024-12-20T02:44:02.772Z"
   },
   {
    "duration": 48,
    "start_time": "2024-12-20T02:44:02.783Z"
   },
   {
    "duration": 15,
    "start_time": "2024-12-20T02:44:02.833Z"
   },
   {
    "duration": 67,
    "start_time": "2024-12-20T02:44:02.870Z"
   },
   {
    "duration": 47,
    "start_time": "2024-12-20T02:44:02.939Z"
   },
   {
    "duration": 3,
    "start_time": "2024-12-20T02:44:02.987Z"
   },
   {
    "duration": 27,
    "start_time": "2024-12-20T02:44:02.992Z"
   },
   {
    "duration": 127,
    "start_time": "2024-12-20T02:44:03.021Z"
   },
   {
    "duration": 9,
    "start_time": "2024-12-20T02:44:03.150Z"
   },
   {
    "duration": 10,
    "start_time": "2024-12-20T02:44:03.161Z"
   },
   {
    "duration": 8,
    "start_time": "2024-12-20T02:44:03.173Z"
   },
   {
    "duration": 5,
    "start_time": "2024-12-20T02:44:03.183Z"
   },
   {
    "duration": 6,
    "start_time": "2024-12-20T02:44:03.189Z"
   },
   {
    "duration": 4,
    "start_time": "2024-12-20T02:44:03.196Z"
   },
   {
    "duration": 9,
    "start_time": "2024-12-20T02:44:03.201Z"
   },
   {
    "duration": 7,
    "start_time": "2024-12-20T02:44:03.212Z"
   },
   {
    "duration": 133,
    "start_time": "2024-12-20T02:44:03.221Z"
   },
   {
    "duration": 16,
    "start_time": "2024-12-20T02:44:03.355Z"
   },
   {
    "duration": 192,
    "start_time": "2024-12-20T02:44:03.372Z"
   },
   {
    "duration": 11,
    "start_time": "2024-12-20T02:44:03.566Z"
   },
   {
    "duration": 2,
    "start_time": "2024-12-20T02:44:03.579Z"
   },
   {
    "duration": 6,
    "start_time": "2024-12-20T02:44:03.583Z"
   },
   {
    "duration": 6,
    "start_time": "2024-12-20T02:44:03.591Z"
   },
   {
    "duration": 85,
    "start_time": "2024-12-20T02:44:03.599Z"
   },
   {
    "duration": 8,
    "start_time": "2024-12-20T02:44:03.687Z"
   },
   {
    "duration": 19,
    "start_time": "2024-12-20T02:44:03.697Z"
   },
   {
    "duration": 402,
    "start_time": "2024-12-20T02:44:03.721Z"
   },
   {
    "duration": 26,
    "start_time": "2024-12-20T02:44:04.124Z"
   },
   {
    "duration": 20,
    "start_time": "2024-12-20T02:44:04.152Z"
   },
   {
    "duration": 17,
    "start_time": "2024-12-20T02:44:04.173Z"
   },
   {
    "duration": 127,
    "start_time": "2024-12-20T02:44:04.193Z"
   },
   {
    "duration": 174,
    "start_time": "2024-12-20T02:44:04.322Z"
   },
   {
    "duration": 25,
    "start_time": "2024-12-20T02:44:04.498Z"
   },
   {
    "duration": 13,
    "start_time": "2024-12-20T02:44:04.524Z"
   },
   {
    "duration": 147,
    "start_time": "2024-12-20T02:44:04.538Z"
   },
   {
    "duration": 6,
    "start_time": "2024-12-20T02:44:04.687Z"
   },
   {
    "duration": 110,
    "start_time": "2024-12-20T02:44:25.101Z"
   },
   {
    "duration": 144,
    "start_time": "2024-12-20T02:44:34.154Z"
   },
   {
    "duration": 6,
    "start_time": "2024-12-20T02:44:54.854Z"
   },
   {
    "duration": 6,
    "start_time": "2024-12-20T02:45:13.014Z"
   },
   {
    "duration": 373,
    "start_time": "2024-12-20T02:45:42.814Z"
   },
   {
    "duration": 98,
    "start_time": "2024-12-20T02:46:04.214Z"
   },
   {
    "duration": 103,
    "start_time": "2024-12-20T02:47:42.441Z"
   },
   {
    "duration": 105,
    "start_time": "2024-12-20T02:48:06.292Z"
   },
   {
    "duration": 119,
    "start_time": "2024-12-20T02:50:53.794Z"
   },
   {
    "duration": 94,
    "start_time": "2024-12-20T02:51:11.378Z"
   },
   {
    "duration": 95,
    "start_time": "2024-12-20T02:51:25.294Z"
   },
   {
    "duration": 22,
    "start_time": "2024-12-20T03:00:54.520Z"
   },
   {
    "duration": 6,
    "start_time": "2024-12-20T03:00:55.274Z"
   },
   {
    "duration": 20,
    "start_time": "2024-12-20T03:01:06.055Z"
   },
   {
    "duration": 7,
    "start_time": "2024-12-20T03:01:07.179Z"
   },
   {
    "duration": 18,
    "start_time": "2024-12-20T03:01:42.257Z"
   },
   {
    "duration": 5,
    "start_time": "2024-12-20T03:01:42.649Z"
   },
   {
    "duration": 4,
    "start_time": "2024-12-20T03:08:14.701Z"
   },
   {
    "duration": 7,
    "start_time": "2024-12-20T03:08:22.188Z"
   },
   {
    "duration": 10,
    "start_time": "2024-12-20T03:08:28.516Z"
   },
   {
    "duration": 20,
    "start_time": "2024-12-20T03:09:55.695Z"
   },
   {
    "duration": 6,
    "start_time": "2024-12-20T03:09:56.413Z"
   },
   {
    "duration": 20,
    "start_time": "2024-12-20T03:10:05.838Z"
   },
   {
    "duration": 10,
    "start_time": "2024-12-20T03:10:06.547Z"
   },
   {
    "duration": 7,
    "start_time": "2024-12-20T03:15:24.715Z"
   },
   {
    "duration": 95,
    "start_time": "2024-12-20T03:27:40.255Z"
   },
   {
    "duration": 122,
    "start_time": "2024-12-20T03:28:03.394Z"
   },
   {
    "duration": 124,
    "start_time": "2024-12-20T03:28:53.614Z"
   },
   {
    "duration": 2532,
    "start_time": "2024-12-20T12:27:46.408Z"
   },
   {
    "duration": 12,
    "start_time": "2024-12-20T12:27:48.942Z"
   },
   {
    "duration": 60,
    "start_time": "2024-12-20T12:27:48.955Z"
   },
   {
    "duration": 336,
    "start_time": "2024-12-20T12:27:49.016Z"
   },
   {
    "duration": 21,
    "start_time": "2024-12-20T12:27:49.355Z"
   },
   {
    "duration": 8,
    "start_time": "2024-12-20T12:27:49.377Z"
   },
   {
    "duration": 9,
    "start_time": "2024-12-20T12:27:49.388Z"
   },
   {
    "duration": 3,
    "start_time": "2024-12-20T12:27:49.398Z"
   },
   {
    "duration": 4,
    "start_time": "2024-12-20T12:27:49.403Z"
   },
   {
    "duration": 3,
    "start_time": "2024-12-20T12:27:49.424Z"
   },
   {
    "duration": 13,
    "start_time": "2024-12-20T12:27:49.430Z"
   },
   {
    "duration": 7,
    "start_time": "2024-12-20T12:27:49.444Z"
   },
   {
    "duration": 22,
    "start_time": "2024-12-20T12:27:49.452Z"
   },
   {
    "duration": 8,
    "start_time": "2024-12-20T12:27:49.477Z"
   },
   {
    "duration": 42,
    "start_time": "2024-12-20T12:27:49.486Z"
   },
   {
    "duration": 41,
    "start_time": "2024-12-20T12:27:49.530Z"
   },
   {
    "duration": 14,
    "start_time": "2024-12-20T12:27:49.573Z"
   },
   {
    "duration": 82,
    "start_time": "2024-12-20T12:27:49.589Z"
   },
   {
    "duration": 36,
    "start_time": "2024-12-20T12:27:49.672Z"
   },
   {
    "duration": 3,
    "start_time": "2024-12-20T12:27:49.723Z"
   },
   {
    "duration": 26,
    "start_time": "2024-12-20T12:27:49.729Z"
   },
   {
    "duration": 121,
    "start_time": "2024-12-20T12:27:49.757Z"
   },
   {
    "duration": 9,
    "start_time": "2024-12-20T12:27:49.880Z"
   },
   {
    "duration": 6,
    "start_time": "2024-12-20T12:27:49.891Z"
   },
   {
    "duration": 7,
    "start_time": "2024-12-20T12:27:49.898Z"
   },
   {
    "duration": 21,
    "start_time": "2024-12-20T12:27:49.907Z"
   },
   {
    "duration": 6,
    "start_time": "2024-12-20T12:27:49.929Z"
   },
   {
    "duration": 3,
    "start_time": "2024-12-20T12:27:49.937Z"
   },
   {
    "duration": 9,
    "start_time": "2024-12-20T12:27:49.943Z"
   },
   {
    "duration": 7,
    "start_time": "2024-12-20T12:27:49.953Z"
   },
   {
    "duration": 121,
    "start_time": "2024-12-20T12:27:49.961Z"
   },
   {
    "duration": 8,
    "start_time": "2024-12-20T12:27:50.083Z"
   },
   {
    "duration": 199,
    "start_time": "2024-12-20T12:27:50.093Z"
   },
   {
    "duration": 9,
    "start_time": "2024-12-20T12:27:50.293Z"
   },
   {
    "duration": 3,
    "start_time": "2024-12-20T12:27:50.303Z"
   },
   {
    "duration": 6,
    "start_time": "2024-12-20T12:27:50.324Z"
   },
   {
    "duration": 6,
    "start_time": "2024-12-20T12:27:50.332Z"
   },
   {
    "duration": 61,
    "start_time": "2024-12-20T12:27:50.340Z"
   },
   {
    "duration": 24,
    "start_time": "2024-12-20T12:27:50.403Z"
   },
   {
    "duration": 21,
    "start_time": "2024-12-20T12:27:50.428Z"
   },
   {
    "duration": 388,
    "start_time": "2024-12-20T12:27:50.453Z"
   },
   {
    "duration": 26,
    "start_time": "2024-12-20T12:27:50.843Z"
   },
   {
    "duration": 19,
    "start_time": "2024-12-20T12:27:50.871Z"
   },
   {
    "duration": 5,
    "start_time": "2024-12-20T12:27:50.891Z"
   },
   {
    "duration": 28,
    "start_time": "2024-12-20T12:27:50.898Z"
   },
   {
    "duration": 9,
    "start_time": "2024-12-20T12:27:50.928Z"
   },
   {
    "duration": 117,
    "start_time": "2024-12-20T12:27:50.938Z"
   },
   {
    "duration": 108,
    "start_time": "2024-12-20T12:27:51.057Z"
   },
   {
    "duration": 7,
    "start_time": "2024-12-20T12:27:51.167Z"
   },
   {
    "duration": 7,
    "start_time": "2024-12-20T12:27:51.177Z"
   },
   {
    "duration": 47,
    "start_time": "2024-12-20T12:27:51.185Z"
   },
   {
    "duration": 13,
    "start_time": "2024-12-20T12:27:51.233Z"
   },
   {
    "duration": 139,
    "start_time": "2024-12-20T12:27:51.248Z"
   },
   {
    "duration": 9,
    "start_time": "2024-12-20T12:27:51.390Z"
   },
   {
    "duration": 7,
    "start_time": "2024-12-20T12:30:15.835Z"
   },
   {
    "duration": 2473,
    "start_time": "2024-12-20T15:00:00.542Z"
   },
   {
    "duration": 9,
    "start_time": "2024-12-20T15:00:03.017Z"
   },
   {
    "duration": 65,
    "start_time": "2024-12-20T15:00:03.028Z"
   },
   {
    "duration": 330,
    "start_time": "2024-12-20T15:00:03.095Z"
   },
   {
    "duration": 21,
    "start_time": "2024-12-20T15:00:03.428Z"
   },
   {
    "duration": 9,
    "start_time": "2024-12-20T15:00:03.450Z"
   },
   {
    "duration": 16,
    "start_time": "2024-12-20T15:00:03.461Z"
   },
   {
    "duration": 4,
    "start_time": "2024-12-20T15:00:03.478Z"
   },
   {
    "duration": 5,
    "start_time": "2024-12-20T15:00:03.483Z"
   },
   {
    "duration": 3,
    "start_time": "2024-12-20T15:00:03.489Z"
   },
   {
    "duration": 13,
    "start_time": "2024-12-20T15:00:03.494Z"
   },
   {
    "duration": 6,
    "start_time": "2024-12-20T15:00:03.509Z"
   },
   {
    "duration": 24,
    "start_time": "2024-12-20T15:00:03.517Z"
   },
   {
    "duration": 9,
    "start_time": "2024-12-20T15:00:03.573Z"
   },
   {
    "duration": 10,
    "start_time": "2024-12-20T15:00:03.584Z"
   },
   {
    "duration": 43,
    "start_time": "2024-12-20T15:00:03.595Z"
   },
   {
    "duration": 35,
    "start_time": "2024-12-20T15:00:03.640Z"
   },
   {
    "duration": 67,
    "start_time": "2024-12-20T15:00:03.677Z"
   },
   {
    "duration": 50,
    "start_time": "2024-12-20T15:00:03.746Z"
   },
   {
    "duration": 2,
    "start_time": "2024-12-20T15:00:03.798Z"
   },
   {
    "duration": 27,
    "start_time": "2024-12-20T15:00:03.802Z"
   },
   {
    "duration": 127,
    "start_time": "2024-12-20T15:00:03.831Z"
   },
   {
    "duration": 13,
    "start_time": "2024-12-20T15:00:03.960Z"
   },
   {
    "duration": 8,
    "start_time": "2024-12-20T15:00:03.975Z"
   },
   {
    "duration": 8,
    "start_time": "2024-12-20T15:00:03.984Z"
   },
   {
    "duration": 5,
    "start_time": "2024-12-20T15:00:03.994Z"
   },
   {
    "duration": 6,
    "start_time": "2024-12-20T15:00:04.000Z"
   },
   {
    "duration": 4,
    "start_time": "2024-12-20T15:00:04.008Z"
   },
   {
    "duration": 9,
    "start_time": "2024-12-20T15:00:04.013Z"
   },
   {
    "duration": 6,
    "start_time": "2024-12-20T15:00:04.024Z"
   },
   {
    "duration": 101,
    "start_time": "2024-12-20T15:00:04.070Z"
   },
   {
    "duration": 9,
    "start_time": "2024-12-20T15:00:04.172Z"
   },
   {
    "duration": 228,
    "start_time": "2024-12-20T15:00:04.182Z"
   },
   {
    "duration": 9,
    "start_time": "2024-12-20T15:00:04.412Z"
   },
   {
    "duration": 4,
    "start_time": "2024-12-20T15:00:04.422Z"
   },
   {
    "duration": 8,
    "start_time": "2024-12-20T15:00:04.427Z"
   },
   {
    "duration": 6,
    "start_time": "2024-12-20T15:00:04.437Z"
   },
   {
    "duration": 93,
    "start_time": "2024-12-20T15:00:04.445Z"
   },
   {
    "duration": 12,
    "start_time": "2024-12-20T15:00:04.539Z"
   },
   {
    "duration": 40,
    "start_time": "2024-12-20T15:00:04.553Z"
   },
   {
    "duration": 416,
    "start_time": "2024-12-20T15:00:04.598Z"
   },
   {
    "duration": 26,
    "start_time": "2024-12-20T15:00:05.017Z"
   },
   {
    "duration": 19,
    "start_time": "2024-12-20T15:00:05.045Z"
   },
   {
    "duration": 21,
    "start_time": "2024-12-20T15:00:05.066Z"
   },
   {
    "duration": 17,
    "start_time": "2024-12-20T15:00:05.101Z"
   },
   {
    "duration": 5,
    "start_time": "2024-12-20T15:00:05.120Z"
   },
   {
    "duration": 111,
    "start_time": "2024-12-20T15:00:05.127Z"
   },
   {
    "duration": 108,
    "start_time": "2024-12-20T15:00:05.240Z"
   },
   {
    "duration": 7,
    "start_time": "2024-12-20T15:00:05.351Z"
   },
   {
    "duration": 9,
    "start_time": "2024-12-20T15:00:05.370Z"
   },
   {
    "duration": 36,
    "start_time": "2024-12-20T15:00:05.380Z"
   },
   {
    "duration": 13,
    "start_time": "2024-12-20T15:00:05.418Z"
   },
   {
    "duration": 148,
    "start_time": "2024-12-20T15:00:05.433Z"
   },
   {
    "duration": 19,
    "start_time": "2024-12-20T15:00:05.583Z"
   },
   {
    "duration": 3,
    "start_time": "2024-12-20T15:00:05.604Z"
   },
   {
    "duration": 8,
    "start_time": "2024-12-20T15:00:20.140Z"
   },
   {
    "duration": 9,
    "start_time": "2024-12-20T15:03:19.929Z"
   },
   {
    "duration": 218,
    "start_time": "2024-12-20T15:04:02.590Z"
   },
   {
    "duration": 11,
    "start_time": "2024-12-20T15:04:23.673Z"
   },
   {
    "duration": 154,
    "start_time": "2024-12-20T15:04:46.474Z"
   },
   {
    "duration": 230,
    "start_time": "2024-12-20T15:05:02.381Z"
   },
   {
    "duration": 173,
    "start_time": "2024-12-20T15:05:17.042Z"
   },
   {
    "duration": 144,
    "start_time": "2024-12-20T15:05:35.033Z"
   },
   {
    "duration": 146,
    "start_time": "2024-12-20T15:05:43.254Z"
   },
   {
    "duration": 142,
    "start_time": "2024-12-20T15:05:48.014Z"
   },
   {
    "duration": 142,
    "start_time": "2024-12-20T15:06:04.633Z"
   },
   {
    "duration": 201,
    "start_time": "2024-12-20T15:06:35.608Z"
   },
   {
    "duration": 13,
    "start_time": "2024-12-20T15:07:40.072Z"
   },
   {
    "duration": 7,
    "start_time": "2024-12-20T15:07:52.257Z"
   },
   {
    "duration": 13,
    "start_time": "2024-12-20T15:09:19.346Z"
   },
   {
    "duration": 32,
    "start_time": "2024-12-20T15:09:21.611Z"
   },
   {
    "duration": 3,
    "start_time": "2024-12-20T15:09:25.088Z"
   },
   {
    "duration": 6,
    "start_time": "2024-12-20T15:09:25.093Z"
   },
   {
    "duration": 40,
    "start_time": "2024-12-20T15:09:25.100Z"
   },
   {
    "duration": 280,
    "start_time": "2024-12-20T15:09:25.141Z"
   },
   {
    "duration": 12,
    "start_time": "2024-12-20T15:09:25.425Z"
   },
   {
    "duration": 7,
    "start_time": "2024-12-20T15:09:25.440Z"
   },
   {
    "duration": 22,
    "start_time": "2024-12-20T15:09:25.449Z"
   },
   {
    "duration": 5,
    "start_time": "2024-12-20T15:09:25.473Z"
   },
   {
    "duration": 3,
    "start_time": "2024-12-20T15:09:25.480Z"
   },
   {
    "duration": 4,
    "start_time": "2024-12-20T15:09:25.484Z"
   },
   {
    "duration": 14,
    "start_time": "2024-12-20T15:09:25.489Z"
   },
   {
    "duration": 6,
    "start_time": "2024-12-20T15:09:25.504Z"
   },
   {
    "duration": 23,
    "start_time": "2024-12-20T15:09:25.512Z"
   },
   {
    "duration": 11,
    "start_time": "2024-12-20T15:09:25.570Z"
   },
   {
    "duration": 19,
    "start_time": "2024-12-20T15:09:25.583Z"
   },
   {
    "duration": 43,
    "start_time": "2024-12-20T15:09:25.604Z"
   },
   {
    "duration": 30,
    "start_time": "2024-12-20T15:09:25.649Z"
   },
   {
    "duration": 65,
    "start_time": "2024-12-20T15:09:25.680Z"
   },
   {
    "duration": 52,
    "start_time": "2024-12-20T15:09:25.747Z"
   },
   {
    "duration": 2,
    "start_time": "2024-12-20T15:09:25.802Z"
   },
   {
    "duration": 27,
    "start_time": "2024-12-20T15:09:25.806Z"
   },
   {
    "duration": 114,
    "start_time": "2024-12-20T15:09:25.834Z"
   },
   {
    "duration": 22,
    "start_time": "2024-12-20T15:09:25.950Z"
   },
   {
    "duration": 6,
    "start_time": "2024-12-20T15:09:25.974Z"
   },
   {
    "duration": 7,
    "start_time": "2024-12-20T15:09:25.981Z"
   },
   {
    "duration": 5,
    "start_time": "2024-12-20T15:09:25.990Z"
   },
   {
    "duration": 5,
    "start_time": "2024-12-20T15:09:25.997Z"
   },
   {
    "duration": 4,
    "start_time": "2024-12-20T15:09:26.004Z"
   },
   {
    "duration": 7,
    "start_time": "2024-12-20T15:09:26.010Z"
   },
   {
    "duration": 52,
    "start_time": "2024-12-20T15:09:26.019Z"
   },
   {
    "duration": 179,
    "start_time": "2024-12-20T15:09:26.072Z"
   },
   {
    "duration": 93,
    "start_time": "2024-12-20T15:09:26.253Z"
   },
   {
    "duration": 8,
    "start_time": "2024-12-20T15:09:26.348Z"
   },
   {
    "duration": 205,
    "start_time": "2024-12-20T15:09:26.358Z"
   },
   {
    "duration": 19,
    "start_time": "2024-12-20T15:09:26.565Z"
   },
   {
    "duration": 3,
    "start_time": "2024-12-20T15:09:26.585Z"
   },
   {
    "duration": 7,
    "start_time": "2024-12-20T15:09:26.590Z"
   },
   {
    "duration": 6,
    "start_time": "2024-12-20T15:09:26.599Z"
   },
   {
    "duration": 84,
    "start_time": "2024-12-20T15:09:26.606Z"
   },
   {
    "duration": 10,
    "start_time": "2024-12-20T15:09:26.692Z"
   },
   {
    "duration": 20,
    "start_time": "2024-12-20T15:09:26.706Z"
   },
   {
    "duration": 385,
    "start_time": "2024-12-20T15:09:26.727Z"
   },
   {
    "duration": 26,
    "start_time": "2024-12-20T15:09:27.114Z"
   },
   {
    "duration": 44,
    "start_time": "2024-12-20T15:09:27.142Z"
   },
   {
    "duration": 8,
    "start_time": "2024-12-20T15:09:27.188Z"
   },
   {
    "duration": 19,
    "start_time": "2024-12-20T15:09:27.197Z"
   },
   {
    "duration": 5,
    "start_time": "2024-12-20T15:09:27.218Z"
   },
   {
    "duration": 122,
    "start_time": "2024-12-20T15:09:27.225Z"
   },
   {
    "duration": 104,
    "start_time": "2024-12-20T15:09:27.349Z"
   },
   {
    "duration": 16,
    "start_time": "2024-12-20T15:09:27.455Z"
   },
   {
    "duration": 7,
    "start_time": "2024-12-20T15:09:27.472Z"
   },
   {
    "duration": 31,
    "start_time": "2024-12-20T15:09:27.481Z"
   },
   {
    "duration": 13,
    "start_time": "2024-12-20T15:09:27.514Z"
   },
   {
    "duration": 146,
    "start_time": "2024-12-20T15:09:27.528Z"
   },
   {
    "duration": 9,
    "start_time": "2024-12-20T15:09:27.676Z"
   },
   {
    "duration": 3,
    "start_time": "2024-12-20T15:09:27.687Z"
   },
   {
    "duration": 29,
    "start_time": "2024-12-20T15:18:47.661Z"
   },
   {
    "duration": 15,
    "start_time": "2024-12-20T15:19:26.028Z"
   },
   {
    "duration": 28,
    "start_time": "2024-12-20T15:19:32.378Z"
   },
   {
    "duration": 3,
    "start_time": "2024-12-20T15:24:47.034Z"
   },
   {
    "duration": 12,
    "start_time": "2024-12-20T15:29:14.314Z"
   },
   {
    "duration": 14,
    "start_time": "2024-12-20T15:30:33.133Z"
   },
   {
    "duration": 33,
    "start_time": "2024-12-20T15:30:40.353Z"
   },
   {
    "duration": 337,
    "start_time": "2024-12-20T15:32:34.092Z"
   },
   {
    "duration": 40,
    "start_time": "2024-12-20T15:32:49.553Z"
   },
   {
    "duration": 31,
    "start_time": "2024-12-20T15:33:03.154Z"
   },
   {
    "duration": 31,
    "start_time": "2024-12-20T15:34:21.823Z"
   },
   {
    "duration": 32,
    "start_time": "2024-12-20T15:34:34.898Z"
   },
   {
    "duration": 41,
    "start_time": "2024-12-20T15:34:49.642Z"
   },
   {
    "duration": 39,
    "start_time": "2024-12-20T15:34:57.314Z"
   },
   {
    "duration": 38,
    "start_time": "2024-12-20T15:35:14.197Z"
   },
   {
    "duration": 32,
    "start_time": "2024-12-20T15:35:24.113Z"
   },
   {
    "duration": 4,
    "start_time": "2024-12-20T15:35:48.235Z"
   },
   {
    "duration": 109,
    "start_time": "2024-12-20T15:38:12.474Z"
   },
   {
    "duration": 118,
    "start_time": "2024-12-20T15:38:24.474Z"
   },
   {
    "duration": 120,
    "start_time": "2024-12-20T15:38:44.334Z"
   },
   {
    "duration": 139,
    "start_time": "2024-12-20T15:39:22.619Z"
   },
   {
    "duration": 95,
    "start_time": "2024-12-20T15:39:49.974Z"
   },
   {
    "duration": 96,
    "start_time": "2024-12-20T15:40:03.989Z"
   },
   {
    "duration": 139,
    "start_time": "2024-12-20T15:40:14.944Z"
   },
   {
    "duration": 409,
    "start_time": "2024-12-20T15:40:44.238Z"
   },
   {
    "duration": 284,
    "start_time": "2024-12-20T15:41:11.966Z"
   },
   {
    "duration": 70,
    "start_time": "2024-12-20T15:41:32.458Z"
   },
   {
    "duration": 31,
    "start_time": "2024-12-20T15:41:38.614Z"
   },
   {
    "duration": 92,
    "start_time": "2024-12-20T15:42:13.375Z"
   },
   {
    "duration": 102,
    "start_time": "2024-12-20T15:42:43.258Z"
   },
   {
    "duration": 6,
    "start_time": "2024-12-20T15:43:01.397Z"
   },
   {
    "duration": 6,
    "start_time": "2024-12-20T15:43:16.702Z"
   },
   {
    "duration": 4,
    "start_time": "2024-12-20T15:43:36.856Z"
   },
   {
    "duration": 4,
    "start_time": "2024-12-20T15:43:45.498Z"
   },
   {
    "duration": 94,
    "start_time": "2024-12-20T15:44:01.455Z"
   },
   {
    "duration": 101,
    "start_time": "2024-12-20T15:44:33.276Z"
   },
   {
    "duration": 91,
    "start_time": "2024-12-20T15:44:46.427Z"
   },
   {
    "duration": 74,
    "start_time": "2024-12-20T15:44:55.239Z"
   },
   {
    "duration": 6,
    "start_time": "2024-12-20T15:45:08.155Z"
   },
   {
    "duration": 15,
    "start_time": "2024-12-20T15:45:22.938Z"
   },
   {
    "duration": 95,
    "start_time": "2024-12-20T15:45:29.994Z"
   },
   {
    "duration": 130,
    "start_time": "2024-12-20T15:46:16.477Z"
   },
   {
    "duration": 113,
    "start_time": "2024-12-20T15:46:53.777Z"
   },
   {
    "duration": 141,
    "start_time": "2024-12-20T15:47:09.311Z"
   },
   {
    "duration": 3,
    "start_time": "2024-12-20T15:48:19.815Z"
   },
   {
    "duration": 7,
    "start_time": "2024-12-20T15:48:19.823Z"
   },
   {
    "duration": 141,
    "start_time": "2024-12-20T15:48:19.832Z"
   },
   {
    "duration": 280,
    "start_time": "2024-12-20T15:48:19.974Z"
   },
   {
    "duration": 20,
    "start_time": "2024-12-20T15:48:20.256Z"
   },
   {
    "duration": 8,
    "start_time": "2024-12-20T15:48:20.279Z"
   },
   {
    "duration": 8,
    "start_time": "2024-12-20T15:48:20.288Z"
   },
   {
    "duration": 4,
    "start_time": "2024-12-20T15:48:20.298Z"
   },
   {
    "duration": 4,
    "start_time": "2024-12-20T15:48:20.304Z"
   },
   {
    "duration": 3,
    "start_time": "2024-12-20T15:48:20.310Z"
   },
   {
    "duration": 57,
    "start_time": "2024-12-20T15:48:20.314Z"
   },
   {
    "duration": 9,
    "start_time": "2024-12-20T15:48:20.373Z"
   },
   {
    "duration": 23,
    "start_time": "2024-12-20T15:48:20.383Z"
   },
   {
    "duration": 9,
    "start_time": "2024-12-20T15:48:20.408Z"
   },
   {
    "duration": 64,
    "start_time": "2024-12-20T15:48:20.421Z"
   },
   {
    "duration": 44,
    "start_time": "2024-12-20T15:48:20.487Z"
   },
   {
    "duration": 13,
    "start_time": "2024-12-20T15:48:20.532Z"
   },
   {
    "duration": 79,
    "start_time": "2024-12-20T15:48:20.548Z"
   },
   {
    "duration": 66,
    "start_time": "2024-12-20T15:48:20.628Z"
   },
   {
    "duration": 2,
    "start_time": "2024-12-20T15:48:20.697Z"
   },
   {
    "duration": 26,
    "start_time": "2024-12-20T15:48:20.701Z"
   },
   {
    "duration": 116,
    "start_time": "2024-12-20T15:48:20.729Z"
   },
   {
    "duration": 8,
    "start_time": "2024-12-20T15:48:20.847Z"
   },
   {
    "duration": 18,
    "start_time": "2024-12-20T15:48:20.857Z"
   },
   {
    "duration": 6,
    "start_time": "2024-12-20T15:48:20.877Z"
   },
   {
    "duration": 4,
    "start_time": "2024-12-20T15:48:20.885Z"
   },
   {
    "duration": 6,
    "start_time": "2024-12-20T15:48:20.891Z"
   },
   {
    "duration": 4,
    "start_time": "2024-12-20T15:48:20.898Z"
   },
   {
    "duration": 8,
    "start_time": "2024-12-20T15:48:20.904Z"
   },
   {
    "duration": 16,
    "start_time": "2024-12-20T15:48:20.914Z"
   },
   {
    "duration": 218,
    "start_time": "2024-12-20T15:48:20.931Z"
   },
   {
    "duration": 22,
    "start_time": "2024-12-20T15:48:21.151Z"
   },
   {
    "duration": 0,
    "start_time": "2024-12-20T15:48:21.175Z"
   },
   {
    "duration": 0,
    "start_time": "2024-12-20T15:48:21.176Z"
   },
   {
    "duration": 0,
    "start_time": "2024-12-20T15:48:21.177Z"
   },
   {
    "duration": 0,
    "start_time": "2024-12-20T15:48:21.178Z"
   },
   {
    "duration": 0,
    "start_time": "2024-12-20T15:48:21.180Z"
   },
   {
    "duration": 0,
    "start_time": "2024-12-20T15:48:21.180Z"
   },
   {
    "duration": 0,
    "start_time": "2024-12-20T15:48:21.182Z"
   },
   {
    "duration": 0,
    "start_time": "2024-12-20T15:48:21.185Z"
   },
   {
    "duration": 0,
    "start_time": "2024-12-20T15:48:21.187Z"
   },
   {
    "duration": 0,
    "start_time": "2024-12-20T15:48:21.188Z"
   },
   {
    "duration": 0,
    "start_time": "2024-12-20T15:48:21.189Z"
   },
   {
    "duration": 0,
    "start_time": "2024-12-20T15:48:21.190Z"
   },
   {
    "duration": 0,
    "start_time": "2024-12-20T15:48:21.191Z"
   },
   {
    "duration": 0,
    "start_time": "2024-12-20T15:48:21.913Z"
   },
   {
    "duration": 0,
    "start_time": "2024-12-20T15:48:21.914Z"
   },
   {
    "duration": 0,
    "start_time": "2024-12-20T15:48:21.915Z"
   },
   {
    "duration": 0,
    "start_time": "2024-12-20T15:48:21.916Z"
   },
   {
    "duration": 0,
    "start_time": "2024-12-20T15:48:21.969Z"
   },
   {
    "duration": 0,
    "start_time": "2024-12-20T15:48:21.971Z"
   },
   {
    "duration": 0,
    "start_time": "2024-12-20T15:48:21.972Z"
   },
   {
    "duration": 0,
    "start_time": "2024-12-20T15:48:21.974Z"
   },
   {
    "duration": 0,
    "start_time": "2024-12-20T15:48:21.975Z"
   },
   {
    "duration": 0,
    "start_time": "2024-12-20T15:48:21.976Z"
   },
   {
    "duration": 28,
    "start_time": "2024-12-20T15:49:19.315Z"
   },
   {
    "duration": 29,
    "start_time": "2024-12-20T15:49:21.344Z"
   },
   {
    "duration": 79,
    "start_time": "2024-12-20T15:49:22.283Z"
   },
   {
    "duration": 8,
    "start_time": "2024-12-20T15:49:27.423Z"
   },
   {
    "duration": 4,
    "start_time": "2024-12-20T15:49:27.783Z"
   },
   {
    "duration": 164,
    "start_time": "2024-12-20T15:49:28.166Z"
   },
   {
    "duration": 10,
    "start_time": "2024-12-20T15:49:28.390Z"
   },
   {
    "duration": 3,
    "start_time": "2024-12-20T15:49:28.567Z"
   },
   {
    "duration": 58,
    "start_time": "2024-12-20T15:49:28.971Z"
   },
   {
    "duration": 8,
    "start_time": "2024-12-20T15:49:29.119Z"
   },
   {
    "duration": 27,
    "start_time": "2024-12-20T15:49:29.286Z"
   },
   {
    "duration": 32,
    "start_time": "2024-12-20T15:49:29.500Z"
   },
   {
    "duration": 18,
    "start_time": "2024-12-20T15:49:29.638Z"
   },
   {
    "duration": 5,
    "start_time": "2024-12-20T15:49:29.813Z"
   },
   {
    "duration": 21,
    "start_time": "2024-12-20T15:49:29.983Z"
   },
   {
    "duration": 6,
    "start_time": "2024-12-20T15:49:30.183Z"
   },
   {
    "duration": 104,
    "start_time": "2024-12-20T15:49:30.384Z"
   },
   {
    "duration": 99,
    "start_time": "2024-12-20T15:49:30.624Z"
   },
   {
    "duration": 8,
    "start_time": "2024-12-20T15:49:31.130Z"
   },
   {
    "duration": 8,
    "start_time": "2024-12-20T15:49:31.606Z"
   },
   {
    "duration": 25,
    "start_time": "2024-12-20T15:49:32.004Z"
   },
   {
    "duration": 14,
    "start_time": "2024-12-20T15:49:32.192Z"
   },
   {
    "duration": 123,
    "start_time": "2024-12-20T15:49:32.384Z"
   },
   {
    "duration": 33,
    "start_time": "2024-12-20T16:02:51.384Z"
   },
   {
    "duration": 11,
    "start_time": "2024-12-20T16:03:09.702Z"
   },
   {
    "duration": 12,
    "start_time": "2024-12-20T16:03:31.706Z"
   },
   {
    "duration": 31,
    "start_time": "2024-12-20T16:04:22.103Z"
   },
   {
    "duration": 29,
    "start_time": "2024-12-20T16:04:45.523Z"
   },
   {
    "duration": 27,
    "start_time": "2024-12-20T16:04:50.991Z"
   },
   {
    "duration": 11,
    "start_time": "2024-12-20T16:05:52.982Z"
   },
   {
    "duration": 7,
    "start_time": "2024-12-20T16:06:30.005Z"
   },
   {
    "duration": 154,
    "start_time": "2024-12-20T16:07:09.481Z"
   },
   {
    "duration": 40,
    "start_time": "2024-12-20T16:08:34.525Z"
   },
   {
    "duration": 7,
    "start_time": "2024-12-20T16:08:45.623Z"
   },
   {
    "duration": 63,
    "start_time": "2024-12-20T16:09:28.903Z"
   },
   {
    "duration": 30,
    "start_time": "2024-12-20T16:10:45.325Z"
   },
   {
    "duration": 33,
    "start_time": "2024-12-20T16:11:02.057Z"
   },
   {
    "duration": 29,
    "start_time": "2024-12-20T16:11:27.023Z"
   },
   {
    "duration": 33,
    "start_time": "2024-12-20T16:11:38.323Z"
   },
   {
    "duration": 29,
    "start_time": "2024-12-20T16:11:47.007Z"
   },
   {
    "duration": 31,
    "start_time": "2024-12-20T16:11:51.731Z"
   },
   {
    "duration": 31,
    "start_time": "2024-12-20T16:12:07.490Z"
   },
   {
    "duration": 8,
    "start_time": "2024-12-20T16:14:53.263Z"
   },
   {
    "duration": 16,
    "start_time": "2024-12-20T16:15:34.766Z"
   },
   {
    "duration": 18,
    "start_time": "2024-12-20T16:16:11.450Z"
   },
   {
    "duration": 15,
    "start_time": "2024-12-20T16:16:20.384Z"
   },
   {
    "duration": 89,
    "start_time": "2024-12-20T16:43:08.266Z"
   },
   {
    "duration": 23,
    "start_time": "2024-12-20T16:45:45.349Z"
   },
   {
    "duration": 5,
    "start_time": "2024-12-20T16:46:47.948Z"
   },
   {
    "duration": 21,
    "start_time": "2024-12-20T16:47:01.574Z"
   },
   {
    "duration": 88,
    "start_time": "2024-12-20T16:47:21.374Z"
   },
   {
    "duration": 41,
    "start_time": "2024-12-20T16:53:31.684Z"
   },
   {
    "duration": 10,
    "start_time": "2024-12-20T16:53:50.725Z"
   },
   {
    "duration": 40,
    "start_time": "2024-12-20T16:54:00.087Z"
   },
   {
    "duration": 29,
    "start_time": "2024-12-20T16:54:27.627Z"
   },
   {
    "duration": 33,
    "start_time": "2024-12-20T16:54:53.108Z"
   },
   {
    "duration": 36,
    "start_time": "2024-12-20T16:55:58.487Z"
   },
   {
    "duration": 886,
    "start_time": "2024-12-20T16:57:45.591Z"
   },
   {
    "duration": 7,
    "start_time": "2024-12-20T16:57:46.479Z"
   },
   {
    "duration": 39,
    "start_time": "2024-12-20T16:57:46.487Z"
   },
   {
    "duration": 320,
    "start_time": "2024-12-20T16:57:46.528Z"
   },
   {
    "duration": 12,
    "start_time": "2024-12-20T16:57:46.852Z"
   },
   {
    "duration": 15,
    "start_time": "2024-12-20T16:57:46.866Z"
   },
   {
    "duration": 10,
    "start_time": "2024-12-20T16:57:46.884Z"
   },
   {
    "duration": 4,
    "start_time": "2024-12-20T16:57:46.895Z"
   },
   {
    "duration": 3,
    "start_time": "2024-12-20T16:57:46.901Z"
   },
   {
    "duration": 4,
    "start_time": "2024-12-20T16:57:46.906Z"
   },
   {
    "duration": 13,
    "start_time": "2024-12-20T16:57:46.911Z"
   },
   {
    "duration": 7,
    "start_time": "2024-12-20T16:57:46.925Z"
   },
   {
    "duration": 60,
    "start_time": "2024-12-20T16:57:46.933Z"
   },
   {
    "duration": 8,
    "start_time": "2024-12-20T16:57:46.998Z"
   },
   {
    "duration": 18,
    "start_time": "2024-12-20T16:57:47.008Z"
   },
   {
    "duration": 63,
    "start_time": "2024-12-20T16:57:47.027Z"
   },
   {
    "duration": 14,
    "start_time": "2024-12-20T16:57:47.092Z"
   },
   {
    "duration": 86,
    "start_time": "2024-12-20T16:57:47.107Z"
   },
   {
    "duration": 35,
    "start_time": "2024-12-20T16:57:47.195Z"
   },
   {
    "duration": 2,
    "start_time": "2024-12-20T16:57:47.232Z"
   },
   {
    "duration": 44,
    "start_time": "2024-12-20T16:57:47.236Z"
   },
   {
    "duration": 114,
    "start_time": "2024-12-20T16:57:47.281Z"
   },
   {
    "duration": 9,
    "start_time": "2024-12-20T16:57:47.396Z"
   },
   {
    "duration": 6,
    "start_time": "2024-12-20T16:57:47.406Z"
   },
   {
    "duration": 7,
    "start_time": "2024-12-20T16:57:47.414Z"
   },
   {
    "duration": 5,
    "start_time": "2024-12-20T16:57:47.424Z"
   },
   {
    "duration": 6,
    "start_time": "2024-12-20T16:57:47.430Z"
   },
   {
    "duration": 36,
    "start_time": "2024-12-20T16:57:47.437Z"
   },
   {
    "duration": 9,
    "start_time": "2024-12-20T16:57:47.475Z"
   },
   {
    "duration": 16,
    "start_time": "2024-12-20T16:57:47.485Z"
   },
   {
    "duration": 194,
    "start_time": "2024-12-20T16:57:47.503Z"
   },
   {
    "duration": 28,
    "start_time": "2024-12-20T16:57:47.699Z"
   },
   {
    "duration": 42,
    "start_time": "2024-12-20T16:57:47.729Z"
   },
   {
    "duration": 99,
    "start_time": "2024-12-20T16:57:47.772Z"
   },
   {
    "duration": 7,
    "start_time": "2024-12-20T16:57:47.873Z"
   },
   {
    "duration": 4,
    "start_time": "2024-12-20T16:57:47.882Z"
   },
   {
    "duration": 214,
    "start_time": "2024-12-20T16:57:47.888Z"
   },
   {
    "duration": 9,
    "start_time": "2024-12-20T16:57:48.103Z"
   },
   {
    "duration": 3,
    "start_time": "2024-12-20T16:57:48.114Z"
   },
   {
    "duration": 78,
    "start_time": "2024-12-20T16:57:48.118Z"
   },
   {
    "duration": 26,
    "start_time": "2024-12-20T16:57:48.203Z"
   },
   {
    "duration": 24,
    "start_time": "2024-12-20T16:57:48.231Z"
   },
   {
    "duration": 36,
    "start_time": "2024-12-20T16:57:48.270Z"
   },
   {
    "duration": 15,
    "start_time": "2024-12-20T16:57:48.307Z"
   },
   {
    "duration": 12,
    "start_time": "2024-12-20T16:57:48.324Z"
   },
   {
    "duration": 151,
    "start_time": "2024-12-20T16:57:48.337Z"
   },
   {
    "duration": 269,
    "start_time": "2024-12-20T16:57:48.490Z"
   },
   {
    "duration": 0,
    "start_time": "2024-12-20T16:57:48.761Z"
   },
   {
    "duration": 0,
    "start_time": "2024-12-20T16:57:48.770Z"
   },
   {
    "duration": 0,
    "start_time": "2024-12-20T16:57:48.771Z"
   },
   {
    "duration": 0,
    "start_time": "2024-12-20T16:57:48.772Z"
   },
   {
    "duration": 0,
    "start_time": "2024-12-20T16:57:48.773Z"
   },
   {
    "duration": 0,
    "start_time": "2024-12-20T16:57:48.774Z"
   },
   {
    "duration": 0,
    "start_time": "2024-12-20T16:57:48.775Z"
   },
   {
    "duration": 0,
    "start_time": "2024-12-20T16:57:48.777Z"
   },
   {
    "duration": 0,
    "start_time": "2024-12-20T16:57:48.778Z"
   },
   {
    "duration": 0,
    "start_time": "2024-12-20T16:57:48.779Z"
   },
   {
    "duration": 2,
    "start_time": "2024-12-20T16:58:03.967Z"
   },
   {
    "duration": 7,
    "start_time": "2024-12-20T16:58:03.971Z"
   },
   {
    "duration": 37,
    "start_time": "2024-12-20T16:58:03.979Z"
   },
   {
    "duration": 283,
    "start_time": "2024-12-20T16:58:04.018Z"
   },
   {
    "duration": 12,
    "start_time": "2024-12-20T16:58:04.303Z"
   },
   {
    "duration": 8,
    "start_time": "2024-12-20T16:58:04.316Z"
   },
   {
    "duration": 7,
    "start_time": "2024-12-20T16:58:04.326Z"
   },
   {
    "duration": 5,
    "start_time": "2024-12-20T16:58:04.334Z"
   },
   {
    "duration": 3,
    "start_time": "2024-12-20T16:58:04.340Z"
   },
   {
    "duration": 25,
    "start_time": "2024-12-20T16:58:04.345Z"
   },
   {
    "duration": 13,
    "start_time": "2024-12-20T16:58:04.372Z"
   },
   {
    "duration": 7,
    "start_time": "2024-12-20T16:58:04.386Z"
   },
   {
    "duration": 20,
    "start_time": "2024-12-20T16:58:04.394Z"
   },
   {
    "duration": 8,
    "start_time": "2024-12-20T16:58:04.417Z"
   },
   {
    "duration": 51,
    "start_time": "2024-12-20T16:58:04.427Z"
   },
   {
    "duration": 40,
    "start_time": "2024-12-20T16:58:04.480Z"
   },
   {
    "duration": 12,
    "start_time": "2024-12-20T16:58:04.522Z"
   },
   {
    "duration": 79,
    "start_time": "2024-12-20T16:58:04.536Z"
   },
   {
    "duration": 32,
    "start_time": "2024-12-20T16:58:04.617Z"
   },
   {
    "duration": 3,
    "start_time": "2024-12-20T16:58:04.650Z"
   },
   {
    "duration": 24,
    "start_time": "2024-12-20T16:58:04.671Z"
   },
   {
    "duration": 110,
    "start_time": "2024-12-20T16:58:04.697Z"
   },
   {
    "duration": 12,
    "start_time": "2024-12-20T16:58:04.810Z"
   },
   {
    "duration": 9,
    "start_time": "2024-12-20T16:58:04.823Z"
   },
   {
    "duration": 9,
    "start_time": "2024-12-20T16:58:04.834Z"
   },
   {
    "duration": 25,
    "start_time": "2024-12-20T16:58:04.844Z"
   },
   {
    "duration": 6,
    "start_time": "2024-12-20T16:58:04.872Z"
   },
   {
    "duration": 5,
    "start_time": "2024-12-20T16:58:04.879Z"
   },
   {
    "duration": 8,
    "start_time": "2024-12-20T16:58:04.885Z"
   },
   {
    "duration": 15,
    "start_time": "2024-12-20T16:58:04.894Z"
   },
   {
    "duration": 189,
    "start_time": "2024-12-20T16:58:04.911Z"
   },
   {
    "duration": 28,
    "start_time": "2024-12-20T16:58:05.102Z"
   },
   {
    "duration": 42,
    "start_time": "2024-12-20T16:58:05.131Z"
   },
   {
    "duration": 83,
    "start_time": "2024-12-20T16:58:05.174Z"
   },
   {
    "duration": 16,
    "start_time": "2024-12-20T16:58:05.259Z"
   },
   {
    "duration": 4,
    "start_time": "2024-12-20T16:58:05.277Z"
   },
   {
    "duration": 190,
    "start_time": "2024-12-20T16:58:05.282Z"
   },
   {
    "duration": 9,
    "start_time": "2024-12-20T16:58:05.474Z"
   },
   {
    "duration": 3,
    "start_time": "2024-12-20T16:58:05.485Z"
   },
   {
    "duration": 80,
    "start_time": "2024-12-20T16:58:05.490Z"
   },
   {
    "duration": 24,
    "start_time": "2024-12-20T16:58:05.576Z"
   },
   {
    "duration": 25,
    "start_time": "2024-12-20T16:58:05.602Z"
   },
   {
    "duration": 56,
    "start_time": "2024-12-20T16:58:05.629Z"
   },
   {
    "duration": 15,
    "start_time": "2024-12-20T16:58:05.687Z"
   },
   {
    "duration": 12,
    "start_time": "2024-12-20T16:58:05.704Z"
   },
   {
    "duration": 139,
    "start_time": "2024-12-20T16:58:05.718Z"
   },
   {
    "duration": 20,
    "start_time": "2024-12-20T16:58:05.859Z"
   },
   {
    "duration": 0,
    "start_time": "2024-12-20T16:58:05.880Z"
   },
   {
    "duration": 0,
    "start_time": "2024-12-20T16:58:05.881Z"
   },
   {
    "duration": 0,
    "start_time": "2024-12-20T16:58:05.883Z"
   },
   {
    "duration": 0,
    "start_time": "2024-12-20T16:58:05.884Z"
   },
   {
    "duration": 0,
    "start_time": "2024-12-20T16:58:05.885Z"
   },
   {
    "duration": 0,
    "start_time": "2024-12-20T16:58:05.887Z"
   },
   {
    "duration": 0,
    "start_time": "2024-12-20T16:58:05.888Z"
   },
   {
    "duration": 0,
    "start_time": "2024-12-20T16:58:05.890Z"
   },
   {
    "duration": 0,
    "start_time": "2024-12-20T16:58:05.891Z"
   },
   {
    "duration": 96,
    "start_time": "2024-12-20T16:58:41.785Z"
   },
   {
    "duration": 117,
    "start_time": "2024-12-20T16:58:50.293Z"
   },
   {
    "duration": 28,
    "start_time": "2024-12-20T16:59:08.425Z"
   },
   {
    "duration": 6,
    "start_time": "2024-12-20T16:59:18.218Z"
   },
   {
    "duration": 232,
    "start_time": "2024-12-20T16:59:34.685Z"
   },
   {
    "duration": 24,
    "start_time": "2024-12-20T17:00:10.905Z"
   },
   {
    "duration": 190,
    "start_time": "2024-12-20T17:00:27.594Z"
   },
   {
    "duration": 47,
    "start_time": "2024-12-20T17:00:41.413Z"
   },
   {
    "duration": 98,
    "start_time": "2024-12-20T17:01:10.645Z"
   },
   {
    "duration": 117,
    "start_time": "2024-12-20T17:04:02.853Z"
   },
   {
    "duration": 124,
    "start_time": "2024-12-20T17:04:12.688Z"
   },
   {
    "duration": 121,
    "start_time": "2024-12-20T17:04:20.082Z"
   },
   {
    "duration": 105,
    "start_time": "2024-12-20T17:04:27.282Z"
   },
   {
    "duration": 131,
    "start_time": "2024-12-20T17:04:33.564Z"
   },
   {
    "duration": 2,
    "start_time": "2024-12-20T17:05:42.530Z"
   },
   {
    "duration": 107,
    "start_time": "2024-12-20T17:07:26.834Z"
   },
   {
    "duration": 22,
    "start_time": "2024-12-20T17:16:25.628Z"
   },
   {
    "duration": 6,
    "start_time": "2024-12-20T17:16:26.445Z"
   },
   {
    "duration": 19,
    "start_time": "2024-12-20T17:16:42.565Z"
   },
   {
    "duration": 5,
    "start_time": "2024-12-20T17:16:43.776Z"
   },
   {
    "duration": 112,
    "start_time": "2024-12-20T17:17:17.129Z"
   },
   {
    "duration": 100,
    "start_time": "2024-12-20T17:17:17.687Z"
   },
   {
    "duration": 8,
    "start_time": "2024-12-20T17:17:21.545Z"
   },
   {
    "duration": 7,
    "start_time": "2024-12-20T17:17:28.006Z"
   },
   {
    "duration": 18,
    "start_time": "2024-12-20T17:19:56.389Z"
   },
   {
    "duration": 10,
    "start_time": "2024-12-20T17:20:53.225Z"
   },
   {
    "duration": 8,
    "start_time": "2024-12-20T17:22:14.611Z"
   },
   {
    "duration": 14,
    "start_time": "2024-12-20T17:22:59.205Z"
   },
   {
    "duration": 6,
    "start_time": "2024-12-20T17:23:00.330Z"
   },
   {
    "duration": 15,
    "start_time": "2024-12-20T17:23:25.946Z"
   },
   {
    "duration": 5,
    "start_time": "2024-12-20T17:23:27.547Z"
   },
   {
    "duration": 17,
    "start_time": "2024-12-20T17:23:55.525Z"
   },
   {
    "duration": 6,
    "start_time": "2024-12-20T17:23:56.325Z"
   },
   {
    "duration": 97,
    "start_time": "2024-12-20T17:24:13.125Z"
   },
   {
    "duration": 107,
    "start_time": "2024-12-20T17:24:16.328Z"
   },
   {
    "duration": 7,
    "start_time": "2024-12-20T17:24:34.221Z"
   },
   {
    "duration": 9,
    "start_time": "2024-12-20T17:25:46.346Z"
   },
   {
    "duration": 15,
    "start_time": "2024-12-20T17:34:50.025Z"
   },
   {
    "duration": 9,
    "start_time": "2024-12-20T17:36:05.191Z"
   },
   {
    "duration": 11,
    "start_time": "2024-12-20T17:36:19.193Z"
   },
   {
    "duration": 9,
    "start_time": "2024-12-20T17:36:31.604Z"
   },
   {
    "duration": 9,
    "start_time": "2024-12-20T17:36:57.959Z"
   },
   {
    "duration": 469,
    "start_time": "2024-12-20T17:46:39.227Z"
   },
   {
    "duration": 14,
    "start_time": "2024-12-20T17:47:05.732Z"
   },
   {
    "duration": 5,
    "start_time": "2024-12-20T17:47:06.631Z"
   },
   {
    "duration": 14,
    "start_time": "2024-12-20T17:47:18.185Z"
   },
   {
    "duration": 5,
    "start_time": "2024-12-20T17:47:19.146Z"
   },
   {
    "duration": 5,
    "start_time": "2024-12-20T17:47:23.197Z"
   },
   {
    "duration": 6,
    "start_time": "2024-12-20T17:47:50.285Z"
   },
   {
    "duration": 4,
    "start_time": "2024-12-20T18:10:27.679Z"
   },
   {
    "duration": 19,
    "start_time": "2024-12-20T18:22:57.775Z"
   },
   {
    "duration": 19,
    "start_time": "2024-12-20T18:23:39.857Z"
   },
   {
    "duration": 12,
    "start_time": "2024-12-20T18:30:11.696Z"
   },
   {
    "duration": 10,
    "start_time": "2024-12-20T18:30:19.876Z"
   },
   {
    "duration": 5,
    "start_time": "2024-12-20T18:30:50.877Z"
   },
   {
    "duration": 4,
    "start_time": "2024-12-20T18:31:42.077Z"
   },
   {
    "duration": 5,
    "start_time": "2024-12-20T18:32:09.983Z"
   },
   {
    "duration": 5,
    "start_time": "2024-12-20T18:32:17.431Z"
   },
   {
    "duration": 4,
    "start_time": "2024-12-20T18:33:32.597Z"
   },
   {
    "duration": 22,
    "start_time": "2024-12-20T18:34:34.158Z"
   },
   {
    "duration": 3,
    "start_time": "2024-12-20T18:35:18.220Z"
   },
   {
    "duration": 5,
    "start_time": "2024-12-20T18:35:26.402Z"
   },
   {
    "duration": 6,
    "start_time": "2024-12-20T18:39:20.396Z"
   },
   {
    "duration": 5,
    "start_time": "2024-12-20T18:40:26.839Z"
   },
   {
    "duration": 5,
    "start_time": "2024-12-20T18:40:35.820Z"
   },
   {
    "duration": 4,
    "start_time": "2024-12-20T18:40:50.999Z"
   },
   {
    "duration": 5,
    "start_time": "2024-12-20T18:40:56.258Z"
   },
   {
    "duration": 6,
    "start_time": "2024-12-20T18:41:04.382Z"
   },
   {
    "duration": 6,
    "start_time": "2024-12-20T18:41:45.237Z"
   },
   {
    "duration": 7,
    "start_time": "2024-12-20T18:42:29.501Z"
   },
   {
    "duration": 2,
    "start_time": "2024-12-20T18:43:11.996Z"
   },
   {
    "duration": 9,
    "start_time": "2024-12-21T15:23:33.088Z"
   },
   {
    "duration": 3,
    "start_time": "2024-12-21T15:23:41.755Z"
   },
   {
    "duration": 3,
    "start_time": "2024-12-21T15:23:51.582Z"
   }
  ],
  "kernelspec": {
   "display_name": "Python 3 (ipykernel)",
   "language": "python",
   "name": "python3"
  },
  "language_info": {
   "codemirror_mode": {
    "name": "ipython",
    "version": 3
   },
   "file_extension": ".py",
   "mimetype": "text/x-python",
   "name": "python",
   "nbconvert_exporter": "python",
   "pygments_lexer": "ipython3",
   "version": "3.9.19"
  },
  "toc": {
   "base_numbering": 1,
   "nav_menu": {},
   "number_sections": true,
   "sideBar": true,
   "skip_h1_title": true,
   "title_cell": "Table of Contents",
   "title_sidebar": "Contents",
   "toc_cell": false,
   "toc_position": {},
   "toc_section_display": true,
   "toc_window_display": false
  }
 },
 "nbformat": 4,
 "nbformat_minor": 2
}
